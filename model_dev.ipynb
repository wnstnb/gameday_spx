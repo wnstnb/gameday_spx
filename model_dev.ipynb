{
 "cells": [
  {
   "cell_type": "markdown",
   "metadata": {},
   "source": [
    "# Aligning thoughts on predicting EM\n",
    "The ThinkorSwim platform has a number for a ticker's expected move (EM) during the day. This figure can be used to determine whether price action is normal or abnormal. For example, if the EM for the next day is 20 points, movement outside of this range is abnormal. The expectation is that price will trade within a certain range, and movement outside of it presents opportunity. It's a proprietary figure that ToS produces, and because of its consistent calculation, it can be useful in any system.\n",
    "\n",
    "However, its interpretability can be very subjective. EM can decrease between days, but it may or may not accurately reflect volatility of price action for the following day.\n",
    "\n",
    "This model attempts to predict the next day's range based on VIX levels."
   ]
  },
  {
   "cell_type": "code",
   "execution_count": 1,
   "metadata": {},
   "outputs": [],
   "source": [
    "import pandas as pd\n",
    "import pandas_datareader as pdr\n",
    "import numpy as np\n",
    "import yfinance as yf\n",
    "import json\n",
    "import requests\n",
    "from bs4 import BeautifulSoup\n",
    "from typing import List\n",
    "import xgboost as xgb\n",
    "from tqdm import tqdm"
   ]
  },
  {
   "cell_type": "markdown",
   "metadata": {},
   "source": [
    "# Helper Functions"
   ]
  },
  {
   "cell_type": "code",
   "execution_count": 2,
   "metadata": {},
   "outputs": [],
   "source": [
    "def walk_forward_validation(df, target_column, num_training_rows, num_periods):\n",
    "    \n",
    "    # Create an XGBRegressor model\n",
    "    model = xgb.XGBRegressor(n_estimators=100, objective='reg:squarederror', random_state = 42)\n",
    "    \n",
    "    overall_results = []\n",
    "    # Iterate over the rows in the DataFrame, one step at a time\n",
    "    for i in tqdm(range(num_training_rows, df.shape[0] - num_periods + 1)):\n",
    "        # Split the data into training and test sets\n",
    "        X_train = df.drop(target_column, axis=1).iloc[:i]\n",
    "        y_train = df[target_column].iloc[:i]\n",
    "        X_test = df.drop(target_column, axis=1).iloc[i:i+num_periods]\n",
    "        y_test = df[target_column].iloc[i:i+num_periods]\n",
    "        \n",
    "        # Fit the model to the training data\n",
    "        model.fit(X_train, y_train)\n",
    "        \n",
    "        # Make a prediction on the test data\n",
    "        predictions = model.predict(X_test)\n",
    "        \n",
    "        # Create a DataFrame to store the true and predicted values\n",
    "        result_df = pd.DataFrame({'True': y_test, 'Predicted': predictions}, index=y_test.index)\n",
    "        \n",
    "        overall_results.append(result_df)\n",
    "\n",
    "    df_results = pd.concat(overall_results)\n",
    "    model.save_model('model.bin')\n",
    "    # Return the true and predicted values, and fitted model\n",
    "    return df_results, model\n",
    "\n",
    "def walk_forward_validation_clf(df, target_column, num_training_rows, num_periods):\n",
    "    \n",
    "    # Create an XGBRegressor model\n",
    "    model = xgb.XGBClassifier(n_estimators=100, random_state = 42)\n",
    "    \n",
    "    overall_results = []\n",
    "    # Iterate over the rows in the DataFrame, one step at a time\n",
    "    for i in tqdm(range(num_training_rows, df.shape[0] - num_periods + 1)):\n",
    "        # Split the data into training and test sets\n",
    "        X_train = df.drop(target_column, axis=1).iloc[:i]\n",
    "        y_train = df[target_column].iloc[:i]\n",
    "        X_test = df.drop(target_column, axis=1).iloc[i:i+num_periods]\n",
    "        y_test = df[target_column].iloc[i:i+num_periods]\n",
    "        \n",
    "        # Fit the model to the training data\n",
    "        model.fit(X_train, y_train)\n",
    "        \n",
    "        # Make a prediction on the test data\n",
    "        predictions = model.predict_proba(X_test)[:,-1]\n",
    "        \n",
    "        # Create a DataFrame to store the true and predicted values\n",
    "        result_df = pd.DataFrame({'True': y_test, 'Predicted': predictions}, index=y_test.index)\n",
    "        \n",
    "        overall_results.append(result_df)\n",
    "\n",
    "    df_results = pd.concat(overall_results)\n",
    "    model.save_model('model_clf.bin')\n",
    "    # Return the true and predicted values, and fitted model\n",
    "    return df_results, model\n",
    "\n",
    "def walk_forward_validation_clf2(df, target_column, num_training_rows, num_periods):\n",
    "    \n",
    "    # Create an XGBRegressor model\n",
    "    model = xgb.XGBClassifier(n_estimators=100, random_state = 42)\n",
    "    \n",
    "    overall_results = []\n",
    "    # Iterate over the rows in the DataFrame, one step at a time\n",
    "    for i in tqdm(range(num_training_rows, df.shape[0] - num_periods + 1)):\n",
    "        # Split the data into training and test sets\n",
    "        X_train = df.drop(target_column, axis=1).iloc[:i]\n",
    "        y_train = df[target_column].iloc[:i]\n",
    "        X_test = df.drop(target_column, axis=1).iloc[i:i+num_periods]\n",
    "        y_test = df[target_column].iloc[i:i+num_periods]\n",
    "        \n",
    "        # Fit the model to the training data\n",
    "        model.fit(X_train, y_train)\n",
    "        \n",
    "        # Make a prediction on the test data\n",
    "        predictions = model.predict_proba(X_test)[:,-1]\n",
    "        \n",
    "        # Create a DataFrame to store the true and predicted values\n",
    "        result_df = pd.DataFrame({'True': y_test, 'Predicted': predictions}, index=y_test.index)\n",
    "        \n",
    "        overall_results.append(result_df)\n",
    "\n",
    "    df_results = pd.concat(overall_results)\n",
    "    model.save_model('model_ensemble.bin')\n",
    "    # Return the true and predicted values, and fitted model\n",
    "    return df_results, model"
   ]
  },
  {
   "cell_type": "code",
   "execution_count": 3,
   "metadata": {},
   "outputs": [
    {
     "name": "stderr",
     "output_type": "stream",
     "text": [
      "getting econ tickers: 100%|██████████| 3/3 [00:00<00:00,  6.08it/s]\n",
      "Getting release dates: 100%|██████████| 8/8 [00:01<00:00,  4.97it/s]\n",
      "Making indicators: 100%|██████████| 8/8 [00:00<00:00, 3997.91it/s]\n"
     ]
    }
   ],
   "source": [
    "f = open('settings.json')\n",
    "j = json.load(f)\n",
    "\n",
    "API_KEY_FRED = j['API_KEY_FRED']\n",
    "\n",
    "def parse_release_dates(release_id: str) -> List[str]:\n",
    "    release_dates_url = f'https://api.stlouisfed.org/fred/release/dates?release_id={release_id}&realtime_start=2015-01-01&include_release_dates_with_no_data=true&api_key={API_KEY_FRED}'\n",
    "    r = requests.get(release_dates_url)\n",
    "    text = r.text\n",
    "    soup = BeautifulSoup(text, 'xml')\n",
    "    dates = []\n",
    "    for release_date_tag in soup.find_all('release_date', {'release_id': release_id}):\n",
    "        dates.append(release_date_tag.text)\n",
    "    return dates\n",
    "\n",
    "def parse_release_dates_obs(series_id: str) -> List[str]:\n",
    "    obs_url = f'https://api.stlouisfed.org/fred/series/observations?series_id={series_id}&realtime_start=2015-01-01&include_release_dates_with_no_data=true&api_key={API_KEY_FRED}'\n",
    "    r = requests.get(obs_url)\n",
    "    text = r.text\n",
    "    soup = BeautifulSoup(text, 'xml')\n",
    "    observations  = []\n",
    "    for observation_tag in soup.find_all('observation'):\n",
    "        date = observation_tag.get('date')\n",
    "        value = observation_tag.get('value')\n",
    "        observations.append((date, value))\n",
    "    return observations\n",
    "\n",
    "econ_dfs = {}\n",
    "\n",
    "econ_tickers = [\n",
    "    'WALCL',\n",
    "    'NFCI',\n",
    "    'WRESBAL'\n",
    "]\n",
    "\n",
    "for et in tqdm(econ_tickers, desc='getting econ tickers'):\n",
    "    # p = parse_release_dates_obs(et)\n",
    "    # df = pd.DataFrame(columns = ['ds',et], data = p)\n",
    "    df = pdr.get_data_fred(et)\n",
    "    df.index = df.index.rename('ds')\n",
    "    # df.index = pd.to_datetime(df.index.rename('ds')).dt.tz_localize(None)\n",
    "    # df['ds'] = pd.to_datetime(df['ds']).dt.tz_localize(None)\n",
    "    econ_dfs[et] = df\n",
    "\n",
    "# walcl = pd.DataFrame(columns = ['ds','WALCL'], data = p)\n",
    "# walcl['ds'] = pd.to_datetime(walcl['ds']).dt.tz_localize(None)\n",
    "\n",
    "# nfci = pd.DataFrame(columns = ['ds','NFCI'], data = p2)\n",
    "# nfci['ds'] = pd.to_datetime(nfci['ds']).dt.tz_localize(None)\n",
    "\n",
    "release_ids = [\n",
    "    \"10\", # \"Consumer Price Index\"\n",
    "    \"46\", # \"Producer Price Index\"\n",
    "    \"50\", # \"Employment Situation\"\n",
    "    \"53\", # \"Gross Domestic Product\"\n",
    "    \"103\", # \"Discount Rate Meeting Minutes\"\n",
    "    \"180\", # \"Unemployment Insurance Weekly Claims Report\"\n",
    "    \"194\", # \"ADP National Employment Report\"\n",
    "    \"323\" # \"Trimmed Mean PCE Inflation Rate\"\n",
    "]\n",
    "\n",
    "release_names = [\n",
    "    \"CPI\",\n",
    "    \"PPI\",\n",
    "    \"NFP\",\n",
    "    \"GDP\",\n",
    "    \"FOMC\",\n",
    "    \"UNEMP\",\n",
    "    \"ADP\",\n",
    "    \"PCE\"\n",
    "]\n",
    "\n",
    "releases = {}\n",
    "\n",
    "for rid, n in tqdm(zip(release_ids, release_names), total = len(release_ids), desc='Getting release dates'):\n",
    "    releases[rid] = {}\n",
    "    releases[rid]['dates'] = parse_release_dates(rid)\n",
    "    releases[rid]['name'] = n \n",
    "\n",
    "# Create a DF that has all dates with the name of the col as 1\n",
    "# Once merged on the main dataframe, days with econ events will be 1 or None. Fill NA with 0\n",
    "# This column serves as the true/false indicator of whether there was economic data released that day.\n",
    "for rid in tqdm(release_ids, desc='Making indicators'):\n",
    "    releases[rid]['df'] = pd.DataFrame(\n",
    "        index=releases[rid]['dates'],\n",
    "        data={\n",
    "        releases[rid]['name']: 1\n",
    "        })\n",
    "    releases[rid]['df'].index = pd.DatetimeIndex(releases[rid]['df'].index)\n",
    "    # releases[rid]['df']['ds'] = pd.to_datetime(releases[rid]['df']['ds']).dt.tz_localize(None)\n",
    "    # releases[rid]['df'] = releases[rid]['df'].set_index('ds')"
   ]
  },
  {
   "cell_type": "markdown",
   "metadata": {},
   "source": [
    "# Data Gathering & Prep"
   ]
  },
  {
   "cell_type": "code",
   "execution_count": 4,
   "metadata": {},
   "outputs": [],
   "source": [
    "vix = yf.Ticker('^VIX')\n",
    "spx = yf.Ticker('^GSPC')\n",
    "\n",
    "prices_vix = vix.history(start='2020-01-01', interval='1d')\n",
    "prices_spx = spx.history(start='2020-01-01', interval='1d')"
   ]
  },
  {
   "cell_type": "code",
   "execution_count": 5,
   "metadata": {},
   "outputs": [],
   "source": [
    "prices_spx['index'] = [str(x).split()[0] for x in prices_spx.index]\n",
    "prices_spx['index'] = pd.to_datetime(prices_spx['index']).dt.date\n",
    "prices_spx.index = prices_spx['index']\n",
    "prices_spx = prices_spx.drop(columns='index')\n",
    "\n",
    "prices_vix['index'] = [str(x).split()[0] for x in prices_vix.index]\n",
    "prices_vix['index'] = pd.to_datetime(prices_vix['index']).dt.date\n",
    "prices_vix.index = prices_vix['index']\n",
    "prices_vix = prices_vix.drop(columns='index')\n",
    "\n",
    "data = prices_spx.merge(prices_vix[['Open','High','Low','Close']], left_index=True, right_index=True, suffixes=['','_VIX'])\n",
    "data.index = pd.DatetimeIndex(data.index)"
   ]
  },
  {
   "cell_type": "markdown",
   "metadata": {},
   "source": [
    "## Feature Development"
   ]
  },
  {
   "cell_type": "code",
   "execution_count": 6,
   "metadata": {},
   "outputs": [
    {
     "name": "stderr",
     "output_type": "stream",
     "text": [
      "Merging econ data: 100%|██████████| 8/8 [00:00<00:00, 799.28it/s]\n"
     ]
    }
   ],
   "source": [
    "# Features\n",
    "data['PrevClose'] = data['Close'].shift(1)\n",
    "data['Perf5Day'] = data['Close'] > data['Close'].shift(5)\n",
    "data['Perf5Day_n1'] = data['Perf5Day'].shift(1)\n",
    "data['Perf5Day_n1'] = data['Perf5Day_n1'].astype(bool)\n",
    "data['GreenDay'] = (data['Close'] > data['PrevClose']) * 1\n",
    "data['RedDay'] = (data['Close'] <= data['PrevClose']) * 1\n",
    "data['ConsecutiveGreen'] = data['GreenDay'].cumsum() * data['GreenDay']\n",
    "\n",
    "data['VIX5Day'] = data['Close_VIX'] > data['Close_VIX'].shift(5)\n",
    "data['VIX5Day_n1'] = data['VIX5Day'].astype(bool)\n",
    "\n",
    "data['Range'] = data[['Open','High']].max(axis=1) - data[['Low','Open']].min(axis=1) # Current day range in points\n",
    "data['RangePct'] = data['Range'] / data['Close']\n",
    "data['VIXLevel'] = pd.qcut(data['Close_VIX'], 4)\n",
    "data['OHLC4_VIX'] = data[['Open_VIX','High_VIX','Low_VIX','Close_VIX']].mean(axis=1)\n",
    "data['OHLC4'] = data[['Open','High','Low','Close']].mean(axis=1)\n",
    "data['RangePct_n1'] = data['RangePct'].shift(1)\n",
    "data['RangePct_n2'] = data['RangePct'].shift(2)\n",
    "data['OHLC4_VIX_n1'] = data['OHLC4_VIX'].shift(1)\n",
    "data['OHLC4_VIX_n2'] = data['OHLC4_VIX'].shift(2)\n",
    "data['CurrentGap'] = (data['Open'] - data['PrevClose']) / data['PrevClose']\n",
    "data['CurrentGap'] = data['CurrentGap'].shift(-1)\n",
    "data['DayOfWeek'] = pd.to_datetime(data.index)\n",
    "data['DayOfWeek'] = data['DayOfWeek'].dt.day\n",
    "\n",
    "# Target -- the next day's low\n",
    "data['Target'] = (data['OHLC4'] / data['PrevClose']) - 1\n",
    "data['Target'] = data['Target'].shift(-1)\n",
    "# data['Target'] = data['RangePct'].shift(-1)\n",
    "\n",
    "# Target for clf -- whether tomorrow will close above or below today's close\n",
    "data['Target_clf'] = data['Close'] > data['PrevClose']\n",
    "data['Target_clf'] = data['Target_clf'].shift(-1)\n",
    "data['DayOfWeek'] = pd.to_datetime(data.index)\n",
    "data['Quarter'] = data['DayOfWeek'].dt.quarter\n",
    "data['DayOfWeek'] = data['DayOfWeek'].dt.weekday\n",
    "\n",
    "for rid in tqdm(release_ids, desc='Merging econ data'):\n",
    "    # Get the name of the release\n",
    "    n = releases[rid]['name']\n",
    "    # Merge the corresponding DF of the release\n",
    "    data = data.merge(releases[rid]['df'], how = 'left', left_index=True, right_index=True)\n",
    "    # Create a column that shifts the value in the merged column up by 1\n",
    "    data[f'{n}_shift'] = data[n].shift(-1)\n",
    "    # Fill the rest with zeroes\n",
    "    data[n] = data[n].fillna(0)\n",
    "    data[f'{n}_shift'] = data[f'{n}_shift'].fillna(0)\n",
    "    \n",
    "data['BigNewsDay'] = data[[x for x in data.columns if '_shift' in x]].max(axis=1)"
   ]
  },
  {
   "cell_type": "code",
   "execution_count": 55,
   "metadata": {},
   "outputs": [],
   "source": [
    "def cumul_sum(col):\n",
    "    nums = []\n",
    "    s = 0\n",
    "    for x in col:\n",
    "        if x == 1:\n",
    "            s += 1\n",
    "        elif x == 0:\n",
    "            s = 0\n",
    "        nums.append(s)\n",
    "    return nums\n",
    "\n",
    "consec_green = cumul_sum(data['GreenDay'].values)\n",
    "consec_red = cumul_sum(data['RedDay'].values)\n",
    "\n",
    "data['DaysGreen'] = consec_green\n",
    "data['DaysRed'] = consec_red"
   ]
  },
  {
   "cell_type": "code",
   "execution_count": 58,
   "metadata": {},
   "outputs": [
    {
     "data": {
      "text/plain": [
       "7"
      ]
     },
     "execution_count": 58,
     "metadata": {},
     "output_type": "execute_result"
    }
   ],
   "source": [
    "max(consec_red)"
   ]
  },
  {
   "cell_type": "code",
   "execution_count": 57,
   "metadata": {},
   "outputs": [
    {
     "data": {
      "text/html": [
       "<div>\n",
       "<style scoped>\n",
       "    .dataframe tbody tr th:only-of-type {\n",
       "        vertical-align: middle;\n",
       "    }\n",
       "\n",
       "    .dataframe tbody tr th {\n",
       "        vertical-align: top;\n",
       "    }\n",
       "\n",
       "    .dataframe thead th {\n",
       "        text-align: right;\n",
       "    }\n",
       "</style>\n",
       "<table border=\"1\" class=\"dataframe\">\n",
       "  <thead>\n",
       "    <tr style=\"text-align: right;\">\n",
       "      <th></th>\n",
       "      <th>GreenDay</th>\n",
       "      <th>DaysGreen</th>\n",
       "    </tr>\n",
       "    <tr>\n",
       "      <th>index</th>\n",
       "      <th></th>\n",
       "      <th></th>\n",
       "    </tr>\n",
       "  </thead>\n",
       "  <tbody>\n",
       "    <tr>\n",
       "      <th>2020-01-02</th>\n",
       "      <td>0</td>\n",
       "      <td>0</td>\n",
       "    </tr>\n",
       "    <tr>\n",
       "      <th>2020-01-03</th>\n",
       "      <td>0</td>\n",
       "      <td>0</td>\n",
       "    </tr>\n",
       "    <tr>\n",
       "      <th>2020-01-06</th>\n",
       "      <td>1</td>\n",
       "      <td>1</td>\n",
       "    </tr>\n",
       "    <tr>\n",
       "      <th>2020-01-07</th>\n",
       "      <td>0</td>\n",
       "      <td>0</td>\n",
       "    </tr>\n",
       "    <tr>\n",
       "      <th>2020-01-08</th>\n",
       "      <td>1</td>\n",
       "      <td>1</td>\n",
       "    </tr>\n",
       "    <tr>\n",
       "      <th>...</th>\n",
       "      <td>...</td>\n",
       "      <td>...</td>\n",
       "    </tr>\n",
       "    <tr>\n",
       "      <th>2023-06-30</th>\n",
       "      <td>1</td>\n",
       "      <td>2</td>\n",
       "    </tr>\n",
       "    <tr>\n",
       "      <th>2023-07-03</th>\n",
       "      <td>1</td>\n",
       "      <td>3</td>\n",
       "    </tr>\n",
       "    <tr>\n",
       "      <th>2023-07-05</th>\n",
       "      <td>0</td>\n",
       "      <td>0</td>\n",
       "    </tr>\n",
       "    <tr>\n",
       "      <th>2023-07-06</th>\n",
       "      <td>0</td>\n",
       "      <td>0</td>\n",
       "    </tr>\n",
       "    <tr>\n",
       "      <th>2023-07-07</th>\n",
       "      <td>0</td>\n",
       "      <td>0</td>\n",
       "    </tr>\n",
       "  </tbody>\n",
       "</table>\n",
       "<p>884 rows × 2 columns</p>\n",
       "</div>"
      ],
      "text/plain": [
       "            GreenDay  DaysGreen\n",
       "index                          \n",
       "2020-01-02         0          0\n",
       "2020-01-03         0          0\n",
       "2020-01-06         1          1\n",
       "2020-01-07         0          0\n",
       "2020-01-08         1          1\n",
       "...              ...        ...\n",
       "2023-06-30         1          2\n",
       "2023-07-03         1          3\n",
       "2023-07-05         0          0\n",
       "2023-07-06         0          0\n",
       "2023-07-07         0          0\n",
       "\n",
       "[884 rows x 2 columns]"
      ]
     },
     "execution_count": 57,
     "metadata": {},
     "output_type": "execute_result"
    }
   ],
   "source": [
    "data[['GreenDay','DaysGreen']]"
   ]
  },
  {
   "cell_type": "markdown",
   "metadata": {},
   "source": [
    "## Model Data"
   ]
  },
  {
   "cell_type": "code",
   "execution_count": 10,
   "metadata": {},
   "outputs": [],
   "source": [
    "df_final = data[[\n",
    "    'BigNewsDay',\n",
    "    'Quarter',\n",
    "    'Perf5Day',\n",
    "    'Perf5Day_n1',\n",
    "    'DaysGreen',\n",
    "    'DaysRed',\n",
    "    # 'VIX5Day',\n",
    "    # 'VIX5Day_n1',\n",
    "    'CurrentGap',\n",
    "    'RangePct',\n",
    "    'RangePct_n1',\n",
    "    'RangePct_n2',\n",
    "    'OHLC4_VIX',\n",
    "    'OHLC4_VIX_n1',\n",
    "    'OHLC4_VIX_n2',\n",
    "    'Target',\n",
    "    'Target_clf']]\n",
    "df_final = df_final.dropna(subset=['Target','Target_clf','Perf5Day_n1'])"
   ]
  },
  {
   "cell_type": "code",
   "execution_count": 11,
   "metadata": {},
   "outputs": [
    {
     "data": {
      "text/plain": [
       "BigNewsDay      float64\n",
       "Quarter           int64\n",
       "Perf5Day           bool\n",
       "Perf5Day_n1        bool\n",
       "DaysGreen         int64\n",
       "DaysRed           int64\n",
       "CurrentGap      float64\n",
       "RangePct        float64\n",
       "RangePct_n1     float64\n",
       "RangePct_n2     float64\n",
       "OHLC4_VIX       float64\n",
       "OHLC4_VIX_n1    float64\n",
       "OHLC4_VIX_n2    float64\n",
       "Target          float64\n",
       "dtype: object"
      ]
     },
     "execution_count": 11,
     "metadata": {},
     "output_type": "execute_result"
    }
   ],
   "source": [
    "df_final.drop(columns=['Target_clf']).dtypes"
   ]
  },
  {
   "cell_type": "markdown",
   "metadata": {},
   "source": [
    "# Regression Model"
   ]
  },
  {
   "cell_type": "code",
   "execution_count": 12,
   "metadata": {},
   "outputs": [
    {
     "name": "stderr",
     "output_type": "stream",
     "text": [
      "100%|██████████| 783/783 [00:34<00:00, 22.58it/s]\n"
     ]
    }
   ],
   "source": [
    "res, xgbr = walk_forward_validation(df_final.drop(columns=['Target_clf']), 'Target', 100, 1)"
   ]
  },
  {
   "cell_type": "code",
   "execution_count": 13,
   "metadata": {},
   "outputs": [
    {
     "data": {
      "text/html": [
       "<div>\n",
       "<style scoped>\n",
       "    .dataframe tbody tr th:only-of-type {\n",
       "        vertical-align: middle;\n",
       "    }\n",
       "\n",
       "    .dataframe tbody tr th {\n",
       "        vertical-align: top;\n",
       "    }\n",
       "\n",
       "    .dataframe thead th {\n",
       "        text-align: right;\n",
       "    }\n",
       "</style>\n",
       "<table border=\"1\" class=\"dataframe\">\n",
       "  <thead>\n",
       "    <tr style=\"text-align: right;\">\n",
       "      <th></th>\n",
       "      <th>True</th>\n",
       "      <th>Predicted</th>\n",
       "    </tr>\n",
       "    <tr>\n",
       "      <th>index</th>\n",
       "      <th></th>\n",
       "      <th></th>\n",
       "    </tr>\n",
       "  </thead>\n",
       "  <tbody>\n",
       "    <tr>\n",
       "      <th>2020-05-27</th>\n",
       "      <td>0.001967</td>\n",
       "      <td>-0.000494</td>\n",
       "    </tr>\n",
       "    <tr>\n",
       "      <th>2020-05-28</th>\n",
       "      <td>-0.000137</td>\n",
       "      <td>-0.007602</td>\n",
       "    </tr>\n",
       "    <tr>\n",
       "      <th>2020-05-29</th>\n",
       "      <td>0.000902</td>\n",
       "      <td>-0.002683</td>\n",
       "    </tr>\n",
       "    <tr>\n",
       "      <th>2020-06-01</th>\n",
       "      <td>0.004532</td>\n",
       "      <td>0.002227</td>\n",
       "    </tr>\n",
       "    <tr>\n",
       "      <th>2020-06-02</th>\n",
       "      <td>0.010414</td>\n",
       "      <td>0.001869</td>\n",
       "    </tr>\n",
       "    <tr>\n",
       "      <th>...</th>\n",
       "      <td>...</td>\n",
       "      <td>...</td>\n",
       "    </tr>\n",
       "    <tr>\n",
       "      <th>2023-06-29</th>\n",
       "      <td>0.009552</td>\n",
       "      <td>0.010378</td>\n",
       "    </tr>\n",
       "    <tr>\n",
       "      <th>2023-06-30</th>\n",
       "      <td>0.000185</td>\n",
       "      <td>-0.000360</td>\n",
       "    </tr>\n",
       "    <tr>\n",
       "      <th>2023-07-03</th>\n",
       "      <td>-0.002403</td>\n",
       "      <td>-0.003074</td>\n",
       "    </tr>\n",
       "    <tr>\n",
       "      <th>2023-07-05</th>\n",
       "      <td>-0.008174</td>\n",
       "      <td>-0.004495</td>\n",
       "    </tr>\n",
       "    <tr>\n",
       "      <th>2023-07-06</th>\n",
       "      <td>-0.000288</td>\n",
       "      <td>0.000023</td>\n",
       "    </tr>\n",
       "  </tbody>\n",
       "</table>\n",
       "<p>783 rows × 2 columns</p>\n",
       "</div>"
      ],
      "text/plain": [
       "                True  Predicted\n",
       "index                          \n",
       "2020-05-27  0.001967  -0.000494\n",
       "2020-05-28 -0.000137  -0.007602\n",
       "2020-05-29  0.000902  -0.002683\n",
       "2020-06-01  0.004532   0.002227\n",
       "2020-06-02  0.010414   0.001869\n",
       "...              ...        ...\n",
       "2023-06-29  0.009552   0.010378\n",
       "2023-06-30  0.000185  -0.000360\n",
       "2023-07-03 -0.002403  -0.003074\n",
       "2023-07-05 -0.008174  -0.004495\n",
       "2023-07-06 -0.000288   0.000023\n",
       "\n",
       "[783 rows x 2 columns]"
      ]
     },
     "execution_count": 13,
     "metadata": {},
     "output_type": "execute_result"
    }
   ],
   "source": [
    "res"
   ]
  },
  {
   "cell_type": "code",
   "execution_count": 14,
   "metadata": {},
   "outputs": [
    {
     "data": {
      "text/plain": [
       "327.2996180937887"
      ]
     },
     "execution_count": 14,
     "metadata": {},
     "output_type": "execute_result"
    }
   ],
   "source": [
    "from sklearn.metrics import mean_squared_error, mean_absolute_error\n",
    "\n",
    "def mean_absolute_percentage_error(y_true, y_pred): \n",
    "    \"\"\"Calculates MAPE given y_true and y_pred\"\"\"\n",
    "    y_true, y_pred = np.array(y_true), np.array(y_pred)\n",
    "    return np.mean(np.abs((y_true - y_pred) / y_true)) * 100\n",
    "\n",
    "mean_absolute_percentage_error(y_true=res['True'],\n",
    "                   y_pred=res['Predicted'])"
   ]
  },
  {
   "cell_type": "code",
   "execution_count": 15,
   "metadata": {},
   "outputs": [
    {
     "data": {
      "text/plain": [
       "0.4086047108473844"
      ]
     },
     "execution_count": 15,
     "metadata": {},
     "output_type": "execute_result"
    }
   ],
   "source": [
    "mean_absolute_error(y_true=res['True'],\n",
    "                   y_pred=res['Predicted']) * 100"
   ]
  },
  {
   "cell_type": "code",
   "execution_count": 16,
   "metadata": {},
   "outputs": [
    {
     "data": {
      "text/plain": [
       "<AxesSubplot:xlabel='index'>"
      ]
     },
     "execution_count": 16,
     "metadata": {},
     "output_type": "execute_result"
    },
    {
     "data": {
      "image/png": "[encoded data removed]",
      "text/plain": [
       "<Figure size 432x288 with 1 Axes>"
      ]
     },
     "metadata": {
      "needs_background": "light"
     },
     "output_type": "display_data"
    }
   ],
   "source": [
    "res.plot()"
   ]
  },
  {
   "cell_type": "code",
   "execution_count": 17,
   "metadata": {},
   "outputs": [
    {
     "data": {
      "text/plain": [
       "<AxesSubplot:title={'center':'Feature importance'}, xlabel='F score', ylabel='Features'>"
      ]
     },
     "execution_count": 17,
     "metadata": {},
     "output_type": "execute_result"
    },
    {
     "data": {
      "image/png": "[encoded data removed]",
      "text/plain": [
       "<Figure size 720x576 with 1 Axes>"
      ]
     },
     "metadata": {
      "needs_background": "light"
     },
     "output_type": "display_data"
    }
   ],
   "source": [
    "import matplotlib.pyplot as plt\n",
    "fig, ax = plt.subplots(figsize=(10, 8))\n",
    "xgb.plot_importance(xgbr, importance_type='weight', ax=ax)"
   ]
  },
  {
   "cell_type": "code",
   "execution_count": 18,
   "metadata": {},
   "outputs": [
    {
     "data": {
      "text/plain": [
       "0.6979638009049773"
      ]
     },
     "execution_count": 18,
     "metadata": {},
     "output_type": "execute_result"
    }
   ],
   "source": [
    "np.mean(data['CurrentGap'].abs()>0.0015)"
   ]
  },
  {
   "cell_type": "code",
   "execution_count": 19,
   "metadata": {},
   "outputs": [],
   "source": [
    "df_compare_reg = df_final.drop(columns=['Target','Target_clf']).merge(res, left_index=True, right_index=True)\n",
    "df_compare_reg = df_compare_reg.merge(data[['PrevClose','High','Low','Close']], left_index=True, right_index=True)"
   ]
  },
  {
   "cell_type": "code",
   "execution_count": 20,
   "metadata": {},
   "outputs": [],
   "source": [
    "# How often was the predicted OHLC4 within the current day's range?\n",
    "df_compare_reg['PredOHLC4'] = df_compare_reg['Predicted'].shift(1)\n",
    "df_compare_reg['PredOHLC4'] = (1 + df_compare_reg['PredOHLC4']) * df_compare_reg['PrevClose']"
   ]
  },
  {
   "cell_type": "code",
   "execution_count": 21,
   "metadata": {},
   "outputs": [],
   "source": [
    "df_compare_reg['InRange'] = (df_compare_reg['PredOHLC4'] <= df_compare_reg['High']) & (df_compare_reg['PredOHLC4'] >= df_compare_reg['Low'])"
   ]
  },
  {
   "cell_type": "code",
   "execution_count": 22,
   "metadata": {},
   "outputs": [
    {
     "data": {
      "text/plain": [
       "0.7982120051085568"
      ]
     },
     "execution_count": 22,
     "metadata": {},
     "output_type": "execute_result"
    }
   ],
   "source": [
    "df_compare_reg['InRange'].mean()"
   ]
  },
  {
   "cell_type": "code",
   "execution_count": 23,
   "metadata": {},
   "outputs": [],
   "source": [
    "from sklearn.metrics import roc_auc_score, precision_score, recall_score, PrecisionRecallDisplay\n",
    "\n",
    "# When the predicted OHLC4 was positive, how often was it a green day?\n",
    "df_compare_reg['PredDirection'] = df_compare_reg['Predicted'] > 0\n",
    "# df_compare_reg['PredDirection'] = df_compare_reg['PredDirection'].shift(1)\n",
    "df_compare_reg['ActualDirection'] = df_compare_reg['Close'] > df_compare_reg['PrevClose']\n",
    "df_compare_reg['ActualDirection'] = df_compare_reg['ActualDirection'].shift(-1)"
   ]
  },
  {
   "cell_type": "code",
   "execution_count": 24,
   "metadata": {},
   "outputs": [
    {
     "data": {
      "text/html": [
       "<div>\n",
       "<style scoped>\n",
       "    .dataframe tbody tr th:only-of-type {\n",
       "        vertical-align: middle;\n",
       "    }\n",
       "\n",
       "    .dataframe tbody tr th {\n",
       "        vertical-align: top;\n",
       "    }\n",
       "\n",
       "    .dataframe thead th {\n",
       "        text-align: right;\n",
       "    }\n",
       "</style>\n",
       "<table border=\"1\" class=\"dataframe\">\n",
       "  <thead>\n",
       "    <tr style=\"text-align: right;\">\n",
       "      <th>PredDirection</th>\n",
       "      <th>False</th>\n",
       "      <th>True</th>\n",
       "    </tr>\n",
       "    <tr>\n",
       "      <th>ActualDirection</th>\n",
       "      <th></th>\n",
       "      <th></th>\n",
       "    </tr>\n",
       "  </thead>\n",
       "  <tbody>\n",
       "    <tr>\n",
       "      <th>False</th>\n",
       "      <td>250</td>\n",
       "      <td>123</td>\n",
       "    </tr>\n",
       "    <tr>\n",
       "      <th>True</th>\n",
       "      <td>119</td>\n",
       "      <td>290</td>\n",
       "    </tr>\n",
       "  </tbody>\n",
       "</table>\n",
       "</div>"
      ],
      "text/plain": [
       "PredDirection    False  True\n",
       "ActualDirection             \n",
       "False              250   123\n",
       "True               119   290"
      ]
     },
     "execution_count": 24,
     "metadata": {},
     "output_type": "execute_result"
    }
   ],
   "source": [
    "df_compare_reg.pivot_table(columns='PredDirection', index='ActualDirection', values='Close', aggfunc='count')"
   ]
  },
  {
   "cell_type": "code",
   "execution_count": 25,
   "metadata": {},
   "outputs": [
    {
     "name": "stdout",
     "output_type": "stream",
     "text": [
      "0.6896438708154985\n",
      "0.7021791767554479\n",
      "0.7090464547677262\n"
     ]
    }
   ],
   "source": [
    "compare_ohlc4_model = df_compare_reg.dropna(subset=['PredDirection','ActualDirection'])\n",
    "print(roc_auc_score(compare_ohlc4_model['ActualDirection'].astype(int), compare_ohlc4_model['PredDirection'].astype(int)))\n",
    "print(precision_score(compare_ohlc4_model['ActualDirection'].astype(int), compare_ohlc4_model['PredDirection'].astype(int)))\n",
    "print(recall_score(compare_ohlc4_model['ActualDirection'].astype(int), compare_ohlc4_model['PredDirection'].astype(int)))"
   ]
  },
  {
   "cell_type": "markdown",
   "metadata": {},
   "source": [
    "# Classification Model"
   ]
  },
  {
   "cell_type": "code",
   "execution_count": 26,
   "metadata": {},
   "outputs": [
    {
     "name": "stderr",
     "output_type": "stream",
     "text": [
      "100%|██████████| 783/783 [00:45<00:00, 17.32it/s]\n"
     ]
    }
   ],
   "source": [
    "res1, xgbc = walk_forward_validation_clf(df_final.drop(columns=['Target']), 'Target_clf', 100, 1)"
   ]
  },
  {
   "cell_type": "code",
   "execution_count": 27,
   "metadata": {},
   "outputs": [
    {
     "name": "stdout",
     "output_type": "stream",
     "text": [
      "0.7140377600251036\n",
      "0.6564705882352941\n",
      "0.6821515892420538\n"
     ]
    }
   ],
   "source": [
    "from sklearn.metrics import roc_auc_score, precision_score, recall_score, PrecisionRecallDisplay\n",
    "print(roc_auc_score(res1['True'].astype(int), res1['Predicted'].values))\n",
    "print(precision_score(res1['True'].astype(int), res1['Predicted'] > 0.5))\n",
    "print(recall_score(res1['True'].astype(int), res1['Predicted'] > 0.5))\n",
    "# print(roc_auc_score(res1['True'].astype(int), res1['Predicted'].values))"
   ]
  },
  {
   "cell_type": "code",
   "execution_count": 28,
   "metadata": {},
   "outputs": [
    {
     "data": {
      "text/plain": [
       "0.5223499361430396"
      ]
     },
     "execution_count": 28,
     "metadata": {},
     "output_type": "execute_result"
    }
   ],
   "source": [
    "res1['True'].mean()"
   ]
  },
  {
   "cell_type": "code",
   "execution_count": 29,
   "metadata": {},
   "outputs": [
    {
     "data": {
      "text/plain": [
       "<sklearn.metrics._plot.precision_recall_curve.PrecisionRecallDisplay at 0x1460ae34f70>"
      ]
     },
     "execution_count": 29,
     "metadata": {},
     "output_type": "execute_result"
    },
    {
     "data": {
      "image/png": "[encoded data removed]",
      "text/plain": [
       "<Figure size 432x288 with 1 Axes>"
      ]
     },
     "metadata": {
      "needs_background": "light"
     },
     "output_type": "display_data"
    }
   ],
   "source": [
    "PrecisionRecallDisplay.from_predictions(res1['True'].astype(int), res1['Predicted'].values)"
   ]
  },
  {
   "cell_type": "code",
   "execution_count": 30,
   "metadata": {},
   "outputs": [
    {
     "data": {
      "text/plain": [
       "<AxesSubplot:title={'center':'Feature importance'}, xlabel='F score', ylabel='Features'>"
      ]
     },
     "execution_count": 30,
     "metadata": {},
     "output_type": "execute_result"
    },
    {
     "data": {
      "image/png": "[encoded data removed]",
      "text/plain": [
       "<Figure size 720x576 with 1 Axes>"
      ]
     },
     "metadata": {
      "needs_background": "light"
     },
     "output_type": "display_data"
    }
   ],
   "source": [
    "fig, ax = plt.subplots(figsize=(10, 8))\n",
    "xgb.plot_importance(xgbc, importance_type='gain', ax=ax)"
   ]
  },
  {
   "cell_type": "code",
   "execution_count": 31,
   "metadata": {},
   "outputs": [],
   "source": [
    "df_compare = df_final.drop(columns=['Target','Target_clf']).merge(res1, left_index=True, right_index=True)\n",
    "\n",
    "# What do these false positives look like?\n",
    "# false_pos = df_compare.loc[(df_compare['True'] == False) & (df_compare['Predicted'] > 0.5)]"
   ]
  },
  {
   "cell_type": "code",
   "execution_count": 32,
   "metadata": {},
   "outputs": [],
   "source": [
    "# Label fp, tp, fn, tn\n",
    "def label_type(actual, pred):\n",
    "    if actual == True and pred > 0.5:\n",
    "        return 'TP'\n",
    "    elif actual == False and pred > 0.5:\n",
    "        return 'FP'\n",
    "    elif actual == False and pred <= 0.5:\n",
    "        return 'TN'\n",
    "    elif actual == True and pred <= 0.5:\n",
    "        return 'FN'\n",
    "\n",
    "df_compare['label_type'] = [label_type(actual, pred) for actual, pred in zip(df_compare['True'],df_compare['Predicted'])]"
   ]
  },
  {
   "cell_type": "code",
   "execution_count": 33,
   "metadata": {},
   "outputs": [
    {
     "data": {
      "text/plain": [
       "label_type\n",
       "FN    130\n",
       "FP    146\n",
       "TN    228\n",
       "TP    279\n",
       "Name: True, dtype: int64"
      ]
     },
     "execution_count": 33,
     "metadata": {},
     "output_type": "execute_result"
    }
   ],
   "source": [
    "df_compare.groupby('label_type')['True'].count()"
   ]
  },
  {
   "cell_type": "code",
   "execution_count": 34,
   "metadata": {},
   "outputs": [
    {
     "data": {
      "text/plain": [
       "0.6666666666666666"
      ]
     },
     "execution_count": 34,
     "metadata": {},
     "output_type": "execute_result"
    }
   ],
   "source": [
    "294 / (294 + 147)"
   ]
  },
  {
   "cell_type": "code",
   "execution_count": 35,
   "metadata": {},
   "outputs": [
    {
     "data": {
      "text/plain": [
       "0.6637426900584795"
      ]
     },
     "execution_count": 35,
     "metadata": {},
     "output_type": "execute_result"
    }
   ],
   "source": [
    "227 / (227 + 115)"
   ]
  },
  {
   "cell_type": "markdown",
   "metadata": {},
   "source": [
    "# New Prediction"
   ]
  },
  {
   "cell_type": "code",
   "execution_count": 59,
   "metadata": {},
   "outputs": [],
   "source": [
    "# Get last row\n",
    "new_pred = data[['BigNewsDay',\n",
    "    'Quarter',\n",
    "    'Perf5Day',\n",
    "    'Perf5Day_n1',    \n",
    "    'DaysGreen',    \n",
    "    'DaysRed',    \n",
    "    # 'VIX5Day',\n",
    "    # 'VIX5Day_n1',\n",
    "    'CurrentGap',\n",
    "    'RangePct',\n",
    "    'RangePct_n1',\n",
    "    'RangePct_n2',\n",
    "    'OHLC4_VIX',\n",
    "    'OHLC4_VIX_n1',\n",
    "    'OHLC4_VIX_n2']].iloc[-1]\n",
    "\n",
    "new_pred = pd.DataFrame(new_pred).T\n",
    "\n",
    "new_pred['BigNewsDay'] = new_pred['BigNewsDay'].astype(float)\n",
    "new_pred['Quarter'] = new_pred['Quarter'].astype(int)\n",
    "new_pred['Perf5Day'] = new_pred['Perf5Day'].astype(bool)\n",
    "new_pred['Perf5Day_n1'] = new_pred['Perf5Day_n1'].astype(bool)\n",
    "new_pred['DaysGreen'] = new_pred['DaysGreen'].astype(float)\n",
    "new_pred['DaysRed'] = new_pred['DaysRed'].astype(float)\n",
    "# new_pred['VIX5Day'] = new_pred['VIX5Day'].astype(bool)\n",
    "# new_pred['VIX5Day_n1'] = new_pred['VIX5Day_n1'].astype(bool)\n",
    "new_pred['CurrentGap'] = new_pred['CurrentGap'].astype(float)\n",
    "new_pred['RangePct'] = new_pred['RangePct'].astype(float)\n",
    "new_pred['RangePct_n1'] = new_pred['RangePct_n1'].astype(float)\n",
    "new_pred['RangePct_n2'] = new_pred['RangePct_n2'].astype(float)\n",
    "new_pred['OHLC4_VIX'] = new_pred['OHLC4_VIX'].astype(float)\n",
    "new_pred['OHLC4_VIX_n1'] = new_pred['OHLC4_VIX_n1'].astype(float)\n",
    "new_pred['OHLC4_VIX_n2'] = new_pred['OHLC4_VIX_n2'].astype(float)\n",
    "\n",
    "# The only variable you can play with as the other ones are historical\n",
    "new_pred.loc[:,'CurrentGap'] = -20"
   ]
  },
  {
   "cell_type": "code",
   "execution_count": 60,
   "metadata": {},
   "outputs": [
    {
     "data": {
      "text/plain": [
       "array([False])"
      ]
     },
     "execution_count": 60,
     "metadata": {},
     "output_type": "execute_result"
    }
   ],
   "source": [
    "xgbc.predict_proba(new_pred)[:,-1] > 0.5"
   ]
  },
  {
   "cell_type": "code",
   "execution_count": 61,
   "metadata": {},
   "outputs": [
    {
     "data": {
      "text/plain": [
       "array([False])"
      ]
     },
     "execution_count": 61,
     "metadata": {},
     "output_type": "execute_result"
    }
   ],
   "source": [
    "xgbr.predict(new_pred) > 0"
   ]
  },
  {
   "cell_type": "code",
   "execution_count": 62,
   "metadata": {},
   "outputs": [
    {
     "data": {
      "text/plain": [
       "RegModelOut  ClfModelOut_tf\n",
       "False        False             0.300000\n",
       "             True              0.402597\n",
       "True         False             0.636364\n",
       "             True              0.712644\n",
       "Name: Target, dtype: float64"
      ]
     },
     "execution_count": 62,
     "metadata": {},
     "output_type": "execute_result"
    }
   ],
   "source": [
    "df_ensemble = res[['Predicted']].merge(res1[['Predicted','True']], left_index=True, right_index=True)\n",
    "df_ensemble.columns = ['RegModelOut','ClfModelOut','Target']\n",
    "df_ensemble['RegModelOut'] = df_ensemble['RegModelOut'] > 0\n",
    "df_ensemble['RegModelOut_n1'] = df_ensemble['RegModelOut'].shift(1)\n",
    "df_ensemble['ClfModelOut_n1'] = df_ensemble['ClfModelOut'].shift(1)\n",
    "df_ensemble['RegModelOut_n2'] = df_ensemble['RegModelOut'].shift(2)\n",
    "df_ensemble['ClfModelOut_n2'] = df_ensemble['ClfModelOut'].shift(2)\n",
    "\n",
    "df_ensemble = df_ensemble.dropna(subset=['ClfModelOut_n2'])\n",
    "df_ensemble['ClfModelOut_tf'] = df_ensemble['ClfModelOut'] > 0.5\n",
    "df_ensemble.groupby(['RegModelOut','ClfModelOut_tf'])['Target'].mean()"
   ]
  },
  {
   "cell_type": "code",
   "execution_count": 63,
   "metadata": {},
   "outputs": [
    {
     "data": {
      "text/plain": [
       "RegModelOut  ClfModelOut_tf\n",
       "True         True              0.445583\n",
       "False        False             0.371319\n",
       "             True              0.098592\n",
       "True         False             0.084507\n",
       "dtype: float64"
      ]
     },
     "execution_count": 63,
     "metadata": {},
     "output_type": "execute_result"
    }
   ],
   "source": [
    "df_ensemble[['RegModelOut','ClfModelOut_tf']].value_counts(normalize=True)"
   ]
  },
  {
   "cell_type": "markdown",
   "metadata": {},
   "source": [
    "# Ensemble the things\n",
    "Given the performance of these 2 separate models, their combined performance should also (theoretically) be similar. However, looks like more work is going to be needed to improve this model, as its scores did not beat either of the 2 model scores."
   ]
  },
  {
   "cell_type": "code",
   "execution_count": 41,
   "metadata": {},
   "outputs": [],
   "source": [
    "df_ensemble['Target'] = df_ensemble['Target'].astype(bool)\n",
    "df_ensemble['RegModelOut_n1'] = df_ensemble['RegModelOut_n1'].astype(bool)\n",
    "df_ensemble['RegModelOut_n2'] = df_ensemble['RegModelOut_n2'].astype(bool)"
   ]
  },
  {
   "cell_type": "code",
   "execution_count": 42,
   "metadata": {},
   "outputs": [
    {
     "name": "stderr",
     "output_type": "stream",
     "text": [
      "100%|██████████| 681/681 [00:30<00:00, 22.21it/s]\n"
     ]
    }
   ],
   "source": [
    "res2, model2 = walk_forward_validation_clf2(df_ensemble, 'Target', 100, 1)"
   ]
  },
  {
   "cell_type": "code",
   "execution_count": 43,
   "metadata": {},
   "outputs": [
    {
     "name": "stdout",
     "output_type": "stream",
     "text": [
      "0.633531746031746\n",
      "0.5849056603773585\n",
      "0.6289855072463768\n"
     ]
    }
   ],
   "source": [
    "print(roc_auc_score(res2['True'].astype(int), res2['Predicted'].values))\n",
    "print(precision_score(res2['True'].astype(int), res2['Predicted'] > 0.5))\n",
    "print(recall_score(res2['True'].astype(int), res2['Predicted'] > 0.5))"
   ]
  },
  {
   "cell_type": "code",
   "execution_count": 44,
   "metadata": {},
   "outputs": [
    {
     "data": {
      "text/html": [
       "<div>\n",
       "<style scoped>\n",
       "    .dataframe tbody tr th:only-of-type {\n",
       "        vertical-align: middle;\n",
       "    }\n",
       "\n",
       "    .dataframe tbody tr th {\n",
       "        vertical-align: top;\n",
       "    }\n",
       "\n",
       "    .dataframe thead th {\n",
       "        text-align: right;\n",
       "    }\n",
       "</style>\n",
       "<table border=\"1\" class=\"dataframe\">\n",
       "  <thead>\n",
       "    <tr style=\"text-align: right;\">\n",
       "      <th></th>\n",
       "      <th>RegModelOut</th>\n",
       "      <th>ClfModelOut</th>\n",
       "      <th>Target</th>\n",
       "      <th>RegModelOut_n1</th>\n",
       "      <th>ClfModelOut_n1</th>\n",
       "      <th>RegModelOut_n2</th>\n",
       "      <th>ClfModelOut_n2</th>\n",
       "      <th>ClfModelOut_tf</th>\n",
       "    </tr>\n",
       "    <tr>\n",
       "      <th>index</th>\n",
       "      <th></th>\n",
       "      <th></th>\n",
       "      <th></th>\n",
       "      <th></th>\n",
       "      <th></th>\n",
       "      <th></th>\n",
       "      <th></th>\n",
       "      <th></th>\n",
       "    </tr>\n",
       "  </thead>\n",
       "  <tbody>\n",
       "    <tr>\n",
       "      <th>2020-05-29</th>\n",
       "      <td>False</td>\n",
       "      <td>0.050760</td>\n",
       "      <td>True</td>\n",
       "      <td>False</td>\n",
       "      <td>0.080414</td>\n",
       "      <td>False</td>\n",
       "      <td>0.092654</td>\n",
       "      <td>False</td>\n",
       "    </tr>\n",
       "    <tr>\n",
       "      <th>2020-06-01</th>\n",
       "      <td>True</td>\n",
       "      <td>0.507086</td>\n",
       "      <td>True</td>\n",
       "      <td>False</td>\n",
       "      <td>0.050760</td>\n",
       "      <td>False</td>\n",
       "      <td>0.080414</td>\n",
       "      <td>True</td>\n",
       "    </tr>\n",
       "    <tr>\n",
       "      <th>2020-06-02</th>\n",
       "      <td>True</td>\n",
       "      <td>0.971079</td>\n",
       "      <td>True</td>\n",
       "      <td>True</td>\n",
       "      <td>0.507086</td>\n",
       "      <td>False</td>\n",
       "      <td>0.050760</td>\n",
       "      <td>True</td>\n",
       "    </tr>\n",
       "    <tr>\n",
       "      <th>2020-06-03</th>\n",
       "      <td>False</td>\n",
       "      <td>0.158237</td>\n",
       "      <td>False</td>\n",
       "      <td>True</td>\n",
       "      <td>0.971079</td>\n",
       "      <td>True</td>\n",
       "      <td>0.507086</td>\n",
       "      <td>False</td>\n",
       "    </tr>\n",
       "    <tr>\n",
       "      <th>2020-06-04</th>\n",
       "      <td>True</td>\n",
       "      <td>0.985288</td>\n",
       "      <td>True</td>\n",
       "      <td>False</td>\n",
       "      <td>0.158237</td>\n",
       "      <td>True</td>\n",
       "      <td>0.971079</td>\n",
       "      <td>True</td>\n",
       "    </tr>\n",
       "    <tr>\n",
       "      <th>...</th>\n",
       "      <td>...</td>\n",
       "      <td>...</td>\n",
       "      <td>...</td>\n",
       "      <td>...</td>\n",
       "      <td>...</td>\n",
       "      <td>...</td>\n",
       "      <td>...</td>\n",
       "      <td>...</td>\n",
       "    </tr>\n",
       "    <tr>\n",
       "      <th>2023-06-29</th>\n",
       "      <td>True</td>\n",
       "      <td>0.998356</td>\n",
       "      <td>True</td>\n",
       "      <td>True</td>\n",
       "      <td>0.961827</td>\n",
       "      <td>False</td>\n",
       "      <td>0.121329</td>\n",
       "      <td>True</td>\n",
       "    </tr>\n",
       "    <tr>\n",
       "      <th>2023-06-30</th>\n",
       "      <td>False</td>\n",
       "      <td>0.395326</td>\n",
       "      <td>True</td>\n",
       "      <td>True</td>\n",
       "      <td>0.998356</td>\n",
       "      <td>True</td>\n",
       "      <td>0.961827</td>\n",
       "      <td>False</td>\n",
       "    </tr>\n",
       "    <tr>\n",
       "      <th>2023-07-03</th>\n",
       "      <td>False</td>\n",
       "      <td>0.058706</td>\n",
       "      <td>False</td>\n",
       "      <td>False</td>\n",
       "      <td>0.395326</td>\n",
       "      <td>True</td>\n",
       "      <td>0.998356</td>\n",
       "      <td>False</td>\n",
       "    </tr>\n",
       "    <tr>\n",
       "      <th>2023-07-05</th>\n",
       "      <td>False</td>\n",
       "      <td>0.199280</td>\n",
       "      <td>False</td>\n",
       "      <td>False</td>\n",
       "      <td>0.058706</td>\n",
       "      <td>False</td>\n",
       "      <td>0.395326</td>\n",
       "      <td>False</td>\n",
       "    </tr>\n",
       "    <tr>\n",
       "      <th>2023-07-06</th>\n",
       "      <td>True</td>\n",
       "      <td>0.908466</td>\n",
       "      <td>False</td>\n",
       "      <td>False</td>\n",
       "      <td>0.199280</td>\n",
       "      <td>False</td>\n",
       "      <td>0.058706</td>\n",
       "      <td>True</td>\n",
       "    </tr>\n",
       "  </tbody>\n",
       "</table>\n",
       "<p>781 rows × 8 columns</p>\n",
       "</div>"
      ],
      "text/plain": [
       "            RegModelOut  ClfModelOut  Target  RegModelOut_n1  ClfModelOut_n1  \\\n",
       "index                                                                          \n",
       "2020-05-29        False     0.050760    True           False        0.080414   \n",
       "2020-06-01         True     0.507086    True           False        0.050760   \n",
       "2020-06-02         True     0.971079    True            True        0.507086   \n",
       "2020-06-03        False     0.158237   False            True        0.971079   \n",
       "2020-06-04         True     0.985288    True           False        0.158237   \n",
       "...                 ...          ...     ...             ...             ...   \n",
       "2023-06-29         True     0.998356    True            True        0.961827   \n",
       "2023-06-30        False     0.395326    True            True        0.998356   \n",
       "2023-07-03        False     0.058706   False           False        0.395326   \n",
       "2023-07-05        False     0.199280   False           False        0.058706   \n",
       "2023-07-06         True     0.908466   False           False        0.199280   \n",
       "\n",
       "            RegModelOut_n2  ClfModelOut_n2  ClfModelOut_tf  \n",
       "index                                                       \n",
       "2020-05-29           False        0.092654           False  \n",
       "2020-06-01           False        0.080414            True  \n",
       "2020-06-02           False        0.050760            True  \n",
       "2020-06-03            True        0.507086           False  \n",
       "2020-06-04            True        0.971079            True  \n",
       "...                    ...             ...             ...  \n",
       "2023-06-29           False        0.121329            True  \n",
       "2023-06-30            True        0.961827           False  \n",
       "2023-07-03            True        0.998356           False  \n",
       "2023-07-05           False        0.395326           False  \n",
       "2023-07-06           False        0.058706            True  \n",
       "\n",
       "[781 rows x 8 columns]"
      ]
     },
     "execution_count": 44,
     "metadata": {},
     "output_type": "execute_result"
    }
   ],
   "source": [
    "df_ensemble"
   ]
  }
 ],
 "metadata": {
  "kernelspec": {
   "display_name": "py39",
   "language": "python",
   "name": "python3"
  },
  "language_info": {
   "codemirror_mode": {
    "name": "ipython",
    "version": 3
   },
   "file_extension": ".py",
   "mimetype": "text/x-python",
   "name": "python",
   "nbconvert_exporter": "python",
   "pygments_lexer": "ipython3",
   "version": "3.9.12"
  },
  "orig_nbformat": 4
 },
 "nbformat": 4,
 "nbformat_minor": 2
}

{
 "cells": [
  {
   "cell_type": "markdown",
   "metadata": {},
   "source": [
    "# Gameday Model for SPX"
   ]
  },
  {
   "cell_type": "code",
   "execution_count": 1,
   "metadata": {},
   "outputs": [],
   "source": [
    "import pandas as pd\n",
    "import pandas_datareader as pdr\n",
    "import numpy as np\n",
    "import yfinance as yf\n",
    "import json\n",
    "import requests\n",
    "from bs4 import BeautifulSoup\n",
    "from typing import List\n",
    "import xgboost as xgb\n",
    "from tqdm import tqdm\n",
    "from sklearn import linear_model, ensemble\n",
    "import joblib"
   ]
  },
  {
   "cell_type": "markdown",
   "metadata": {},
   "source": [
    "# Helper Functions"
   ]
  },
  {
   "cell_type": "code",
   "execution_count": 2,
   "metadata": {},
   "outputs": [],
   "source": [
    "f = open('settings.json')\n",
    "j = json.load(f)\n",
    "API_KEY_FRED = j['API_KEY_FRED']\n",
    "\n",
    "def get_data():\n",
    "    def parse_release_dates(release_id: str) -> List[str]:\n",
    "        release_dates_url = f'https://api.stlouisfed.org/fred/release/dates?release_id={release_id}&realtime_start=2015-01-01&include_release_dates_with_no_data=true&api_key={API_KEY_FRED}'\n",
    "        r = requests.get(release_dates_url)\n",
    "        text = r.text\n",
    "        soup = BeautifulSoup(text, 'xml')\n",
    "        dates = []\n",
    "        for release_date_tag in soup.find_all('release_date', {'release_id': release_id}):\n",
    "            dates.append(release_date_tag.text)\n",
    "        return dates\n",
    "\n",
    "    def parse_release_dates_obs(series_id: str) -> List[str]:\n",
    "        obs_url = f'https://api.stlouisfed.org/fred/series/observations?series_id={series_id}&realtime_start=2015-01-01&include_release_dates_with_no_data=true&api_key={API_KEY_FRED}'\n",
    "        r = requests.get(obs_url)\n",
    "        text = r.text\n",
    "        soup = BeautifulSoup(text, 'xml')\n",
    "        observations  = []\n",
    "        for observation_tag in soup.find_all('observation'):\n",
    "            date = observation_tag.get('date')\n",
    "            value = observation_tag.get('value')\n",
    "            observations.append((date, value))\n",
    "        return observations\n",
    "\n",
    "    econ_dfs = {}\n",
    "\n",
    "    econ_tickers = [\n",
    "        'WALCL',\n",
    "        'NFCI',\n",
    "        'WRESBAL'\n",
    "    ]\n",
    "\n",
    "    for et in tqdm(econ_tickers, desc='getting econ tickers'):\n",
    "        # p = parse_release_dates_obs(et)\n",
    "        # df = pd.DataFrame(columns = ['ds',et], data = p)\n",
    "        df = pdr.get_data_fred(et)\n",
    "        df.index = df.index.rename('ds')\n",
    "        # df.index = pd.to_datetime(df.index.rename('ds')).dt.tz_localize(None)\n",
    "        # df['ds'] = pd.to_datetime(df['ds']).dt.tz_localize(None)\n",
    "        econ_dfs[et] = df\n",
    "\n",
    "    # walcl = pd.DataFrame(columns = ['ds','WALCL'], data = p)\n",
    "    # walcl['ds'] = pd.to_datetime(walcl['ds']).dt.tz_localize(None)\n",
    "\n",
    "    # nfci = pd.DataFrame(columns = ['ds','NFCI'], data = p2)\n",
    "    # nfci['ds'] = pd.to_datetime(nfci['ds']).dt.tz_localize(None)\n",
    "\n",
    "    release_ids = [\n",
    "        \"10\", # \"Consumer Price Index\"\n",
    "        \"46\", # \"Producer Price Index\"\n",
    "        \"50\", # \"Employment Situation\"\n",
    "        \"53\", # \"Gross Domestic Product\"\n",
    "        \"103\", # \"Discount Rate Meeting Minutes\"\n",
    "        \"180\", # \"Unemployment Insurance Weekly Claims Report\"\n",
    "        \"194\", # \"ADP National Employment Report\"\n",
    "        \"323\" # \"Trimmed Mean PCE Inflation Rate\"\n",
    "    ]\n",
    "\n",
    "    release_names = [\n",
    "        \"CPI\",\n",
    "        \"PPI\",\n",
    "        \"NFP\",\n",
    "        \"GDP\",\n",
    "        \"FOMC\",\n",
    "        \"UNEMP\",\n",
    "        \"ADP\",\n",
    "        \"PCE\"\n",
    "    ]\n",
    "\n",
    "    releases = {}\n",
    "\n",
    "    for rid, n in tqdm(zip(release_ids, release_names), total = len(release_ids), desc='Getting release dates'):\n",
    "        releases[rid] = {}\n",
    "        releases[rid]['dates'] = parse_release_dates(rid)\n",
    "        releases[rid]['name'] = n \n",
    "\n",
    "    # Create a DF that has all dates with the name of the col as 1\n",
    "    # Once merged on the main dataframe, days with econ events will be 1 or None. Fill NA with 0\n",
    "    # This column serves as the true/false indicator of whether there was economic data released that day.\n",
    "    for rid in tqdm(release_ids, desc='Making indicators'):\n",
    "        releases[rid]['df'] = pd.DataFrame(\n",
    "            index=releases[rid]['dates'],\n",
    "            data={\n",
    "            releases[rid]['name']: 1\n",
    "            })\n",
    "        releases[rid]['df'].index = pd.DatetimeIndex(releases[rid]['df'].index)\n",
    "        # releases[rid]['df']['ds'] = pd.to_datetime(releases[rid]['df']['ds']).dt.tz_localize(None)\n",
    "        # releases[rid]['df'] = releases[rid]['df'].set_index('ds')\n",
    "\n",
    "    vix = yf.Ticker('^VIX')\n",
    "    spx = yf.Ticker('^GSPC')\n",
    "\n",
    "    prices_vix = vix.history(start='2018-07-01', interval='1d')\n",
    "    prices_spx = spx.history(start='2018-07-01', interval='1d')\n",
    "\n",
    "    prices_spx['index'] = [str(x).split()[0] for x in prices_spx.index]\n",
    "    prices_spx['index'] = pd.to_datetime(prices_spx['index']).dt.date\n",
    "    prices_spx.index = prices_spx['index']\n",
    "    prices_spx = prices_spx.drop(columns='index')\n",
    "\n",
    "    prices_vix['index'] = [str(x).split()[0] for x in prices_vix.index]\n",
    "    prices_vix['index'] = pd.to_datetime(prices_vix['index']).dt.date\n",
    "    prices_vix.index = prices_vix['index']\n",
    "    prices_vix = prices_vix.drop(columns='index')\n",
    "\n",
    "    data = prices_spx.merge(prices_vix[['Open','High','Low','Close']], left_index=True, right_index=True, suffixes=['','_VIX'])\n",
    "    data.index = pd.DatetimeIndex(data.index)\n",
    "\n",
    "    # Features\n",
    "    data['PrevClose'] = data['Close'].shift(1)\n",
    "    data['Perf5Day'] = data['Close'] > data['Close'].shift(5)\n",
    "    data['Perf5Day_n1'] = data['Perf5Day'].shift(1)\n",
    "    data['Perf5Day_n1'] = data['Perf5Day_n1'].astype(bool)\n",
    "    data['GreenDay'] = (data['Close'] > data['PrevClose']) * 1\n",
    "    data['RedDay'] = (data['Close'] <= data['PrevClose']) * 1\n",
    "\n",
    "    data['VIX5Day'] = data['Close_VIX'] > data['Close_VIX'].shift(5)\n",
    "    data['VIX5Day_n1'] = data['VIX5Day'].astype(bool)\n",
    "\n",
    "    data['Range'] = data[['Open','High']].max(axis=1) - data[['Low','Open']].min(axis=1) # Current day range in points\n",
    "    data['RangePct'] = data['Range'] / data['Close']\n",
    "    data['VIXLevel'] = pd.qcut(data['Close_VIX'], 4)\n",
    "    data['OHLC4_VIX'] = data[['Open_VIX','High_VIX','Low_VIX','Close_VIX']].mean(axis=1)\n",
    "    data['OHLC4'] = data[['Open','High','Low','Close']].mean(axis=1)\n",
    "    data['OHLC4_Trend'] = data['OHLC4'] > data['OHLC4'].shift(1)\n",
    "    data['OHLC4_Trend_n1'] = data['OHLC4_Trend'].shift(1)\n",
    "    data['OHLC4_Trend_n1'] = data['OHLC4_Trend_n1'].astype(float)\n",
    "    data['OHLC4_Trend_n2'] = data['OHLC4_Trend'].shift(1)\n",
    "    data['OHLC4_Trend_n2'] = data['OHLC4_Trend_n2'].astype(float)\n",
    "    data['RangePct_n1'] = data['RangePct'].shift(1)\n",
    "    data['RangePct_n2'] = data['RangePct'].shift(2)\n",
    "    data['OHLC4_VIX_n1'] = data['OHLC4_VIX'].shift(1)\n",
    "    data['OHLC4_VIX_n2'] = data['OHLC4_VIX'].shift(2)\n",
    "    data['CurrentGap'] = (data['Open'] - data['PrevClose']) / data['PrevClose']\n",
    "    data['CurrentGap'] = data['CurrentGap'].shift(-1)\n",
    "    data['GapLevel'] = data['CurrentGap'].apply(lambda x: 1 if x < -0.0033 else 2 if x < -0.0015 else 3 if x < 0.0016 else 4)\n",
    "    data['GapLevel'] = data['GapLevel'].astype(int)\n",
    "    data['DayOfWeek'] = pd.to_datetime(data.index)\n",
    "    data['DayOfWeek'] = data['DayOfWeek'].dt.day\n",
    "\n",
    "    # Target -- the next day's low\n",
    "    data['Target'] = (data['OHLC4'] / data['PrevClose']) - 1\n",
    "    data['Target'] = data['Target'].shift(-1)\n",
    "    # data['Target'] = data['RangePct'].shift(-1)\n",
    "\n",
    "    # Target for clf -- whether tomorrow will close above or below today's close\n",
    "    data['Target_clf'] = data['Close'] > data['PrevClose']\n",
    "    data['Target_clf'] = data['Target_clf'].shift(-1)\n",
    "    data['DayOfWeek'] = pd.to_datetime(data.index)\n",
    "    data['Quarter'] = data['DayOfWeek'].dt.quarter\n",
    "    data['DayOfWeek'] = data['DayOfWeek'].dt.weekday\n",
    "\n",
    "    for rid in tqdm(release_ids, desc='Merging econ data'):\n",
    "        # Get the name of the release\n",
    "        n = releases[rid]['name']\n",
    "        # Merge the corresponding DF of the release\n",
    "        data = data.merge(releases[rid]['df'], how = 'left', left_index=True, right_index=True)\n",
    "        # Create a column that shifts the value in the merged column up by 1\n",
    "        data[f'{n}_shift'] = data[n].shift(-1)\n",
    "        # Fill the rest with zeroes\n",
    "        data[n] = data[n].fillna(0)\n",
    "        data[f'{n}_shift'] = data[f'{n}_shift'].fillna(0)\n",
    "        \n",
    "    data['BigNewsDay'] = data[[x for x in data.columns if '_shift' in x]].max(axis=1)\n",
    "    \n",
    "    def cumul_sum(col):\n",
    "        nums = []\n",
    "        s = 0\n",
    "        for x in col:\n",
    "            if x == 1:\n",
    "                s += 1\n",
    "            elif x == 0:\n",
    "                s = 0\n",
    "            nums.append(s)\n",
    "        return nums\n",
    "\n",
    "    consec_green = cumul_sum(data['GreenDay'].values)\n",
    "    consec_red = cumul_sum(data['RedDay'].values)\n",
    "\n",
    "    data['DaysGreen'] = consec_green\n",
    "    data['DaysRed'] = consec_red\n",
    "\n",
    "    final_row = data.index[-2]\n",
    "    \n",
    "    df_final = data.loc[:final_row,\n",
    "    [\n",
    "        'BigNewsDay',\n",
    "        'Quarter',\n",
    "        'Perf5Day',\n",
    "        'Perf5Day_n1',\n",
    "        'DaysGreen',\n",
    "        'DaysRed',\n",
    "        # 'OHLC4_Trend',\n",
    "        # 'OHLC4_Trend_n1',\n",
    "        # 'OHLC4_Trend_n2',\n",
    "        # 'VIX5Day',\n",
    "        # 'VIX5Day_n1',\n",
    "        'CurrentGap',\n",
    "        'GapLevel',\n",
    "        'RangePct',\n",
    "        'RangePct_n1',\n",
    "        'RangePct_n2',\n",
    "        'OHLC4_VIX',\n",
    "        'OHLC4_VIX_n1',\n",
    "        'OHLC4_VIX_n2',\n",
    "        'Target',\n",
    "        'Target_clf'\n",
    "        ]]\n",
    "    df_final = df_final.dropna(subset=['Target','Target_clf','Perf5Day_n1'])\n",
    "    return df_final\n",
    "\n",
    "def train_model1(df, target_column, num_training_rows, num_periods):\n",
    "    \n",
    "    # Create an XGBRegressor model\n",
    "    # model = xgb.XGBRegressor(n_estimators=100, objective='reg:squarederror', random_state = 42)\n",
    "    model = linear_model.LinearRegression()\n",
    "\n",
    "    overall_results = []\n",
    "    # Iterate over the rows in the DataFrame, one step at a time\n",
    "    for i in tqdm(range(num_training_rows, df.shape[0] - num_periods + 1), desc='OHLC4 Model'):\n",
    "        # Split the data into training and test sets\n",
    "        X_train = df.drop(target_column, axis=1).iloc[:i]\n",
    "        y_train = df[target_column].iloc[:i]\n",
    "        X_test = df.drop(target_column, axis=1).iloc[i:i+num_periods]\n",
    "        y_test = df[target_column].iloc[i:i+num_periods]\n",
    "        \n",
    "        # Fit the model to the training data\n",
    "        model.fit(X_train, y_train)\n",
    "        \n",
    "        # Make a prediction on the test data\n",
    "        predictions = model.predict(X_test)\n",
    "        \n",
    "        # Create a DataFrame to store the true and predicted values\n",
    "        result_df = pd.DataFrame({'True': y_test, 'Predicted': predictions}, index=y_test.index)\n",
    "        \n",
    "        overall_results.append(result_df)\n",
    "\n",
    "    df_results = pd.concat(overall_results)\n",
    "    # model.save_model('model_lr.bin')\n",
    "    # Return the true and predicted values, and fitted model\n",
    "    return df_results, model\n",
    "\n",
    "def train_model_seq(df, target_column_clf, target_column_regr, num_training_rows, num_periods):\n",
    "    '''\n",
    "    Instead of running everything in memory, try to save the outputs and load them later.\n",
    "    '''\n",
    "    # Create run the regression model to get its target\n",
    "    res, model1 = train_model1(df.drop(columns=[target_column_clf]).dropna(), target_column_regr, num_training_rows, num_periods)\n",
    "    joblib.dump(model1, 'model1.bin')\n",
    "\n",
    "    # Merge the result df back on the df for feeding into the classifier\n",
    "    for_merge = res[['Predicted']]\n",
    "    for_merge.columns = ['RegrModelOut']\n",
    "    for_merge['RegrModelOut'] = for_merge['RegrModelOut'] > 0\n",
    "    df = df.merge(for_merge, left_index=True, right_index=True)\n",
    "    df = df.drop(columns=[target_column_regr])\n",
    "    df = df[[\n",
    "        'CurrentGap','RegrModelOut',target_column_clf\n",
    "        ]]\n",
    "    \n",
    "    df[target_column_clf] = df[target_column_clf].astype(bool)\n",
    "\n",
    "    # Create an XGBRegressor model\n",
    "    model2 = xgb.XGBClassifier(n_estimators=10, random_state = 42)\n",
    "    # model = linear_model.LogisticRegression(max_iter=1500)\n",
    "\n",
    "    \n",
    "    overall_results = []\n",
    "    # Iterate over the rows in the DataFrame, one step at a time\n",
    "    for i in tqdm(range(num_training_rows, df.shape[0] - num_periods + 1), desc='CLF Model'):\n",
    "        # Split the data into training and test sets\n",
    "        X_train = df.drop(target_column_clf, axis=1).iloc[:i]\n",
    "        y_train = df[target_column_clf].iloc[:i]\n",
    "        X_test = df.drop(target_column_clf, axis=1).iloc[i:i+num_periods]\n",
    "        y_test = df[target_column_clf].iloc[i:i+num_periods]\n",
    "        \n",
    "        # Fit the model to the training data\n",
    "        model2.fit(X_train, y_train)\n",
    "        \n",
    "        # Make a prediction on the test data\n",
    "        predictions = model2.predict_proba(X_test)[:,-1]\n",
    "        \n",
    "        # Create a DataFrame to store the true and predicted values\n",
    "        result_df = pd.DataFrame({'True': y_test, 'Predicted': predictions}, index=y_test.index)\n",
    "        \n",
    "        overall_results.append(result_df)\n",
    "\n",
    "    df_results = pd.concat(overall_results)\n",
    "    # Save locally\n",
    "    joblib.dump(model2, 'model2.bin')\n",
    "    df_results.to_csv('df_results.csv')\n",
    "\n",
    "def predict_proba_seq():\n",
    "\n",
    "    data = get_data()\n",
    "    final_row = data.index[-2]\n",
    "    # Get last row\n",
    "    new_pred = data.loc[final_row, ['BigNewsDay',\n",
    "        'Quarter',\n",
    "        'Perf5Day',\n",
    "        'Perf5Day_n1',    \n",
    "        'DaysGreen',    \n",
    "        'DaysRed',    \n",
    "        # 'OHLC4_Trend',    \n",
    "        # 'OHLC4_Trend_n1',    \n",
    "        # 'OHLC4_Trend_n2',    \n",
    "        # 'VIX5Day',\n",
    "        # 'VIX5Day_n1',\n",
    "        'CurrentGap',\n",
    "        'GapLevel',\n",
    "        'RangePct',\n",
    "        'RangePct_n1',\n",
    "        'RangePct_n2',\n",
    "        'OHLC4_VIX',\n",
    "        'OHLC4_VIX_n1',\n",
    "        'OHLC4_VIX_n2']]\n",
    "\n",
    "    new_pred = pd.DataFrame(new_pred).T\n",
    "\n",
    "    new_pred['BigNewsDay'] = new_pred['BigNewsDay'].astype(float)\n",
    "    new_pred['Quarter'] = new_pred['Quarter'].astype(int)\n",
    "    new_pred['Perf5Day'] = new_pred['Perf5Day'].astype(bool)\n",
    "    new_pred['Perf5Day_n1'] = new_pred['Perf5Day_n1'].astype(bool)\n",
    "    new_pred['DaysGreen'] = new_pred['DaysGreen'].astype(float)\n",
    "    new_pred['DaysRed'] = new_pred['DaysRed'].astype(float)\n",
    "    # new_pred['OHLC4_Trend'] = new_pred['OHLC4_Trend'].astype(float)\n",
    "    # new_pred['OHLC4_Trend_n1'] = new_pred['OHLC4_Trend_n1'].astype(float)\n",
    "    # new_pred['OHLC4_Trend_n2'] = new_pred['OHLC4_Trend_n2'].astype(float)\n",
    "    # new_pred['VIX5Day'] = new_pred['VIX5Day'].astype(bool)\n",
    "    # new_pred['VIX5Day_n1'] = new_pred['VIX5Day_n1'].astype(bool)\n",
    "    new_pred['CurrentGap'] = new_pred['CurrentGap'].astype(float)\n",
    "    new_pred['GapLevel'] = new_pred['GapLevel'].astype(int)\n",
    "    new_pred['RangePct'] = new_pred['RangePct'].astype(float)\n",
    "    new_pred['RangePct_n1'] = new_pred['RangePct_n1'].astype(float)\n",
    "    new_pred['RangePct_n2'] = new_pred['RangePct_n2'].astype(float)\n",
    "    new_pred['OHLC4_VIX'] = new_pred['OHLC4_VIX'].astype(float)\n",
    "    new_pred['OHLC4_VIX_n1'] = new_pred['OHLC4_VIX_n1'].astype(float)\n",
    "    new_pred['OHLC4_VIX_n2'] = new_pred['OHLC4_VIX_n2'].astype(float)\n",
    "\n",
    "    trained_reg_model = joblib.load('model1.bin')\n",
    "    trained_clf_model = joblib.load('model2.bin')\n",
    "    print(new_pred)\n",
    "    regr_pred = trained_reg_model.predict(new_pred)\n",
    "    regr_pred = regr_pred > 0\n",
    "    new_df = new_pred.copy()\n",
    "    new_df['RegrModelOut'] = regr_pred\n",
    "    clf_pred_proba = trained_clf_model.predict_proba(new_df[['CurrentGap','RegrModelOut']])[:,-1]\n",
    "    return clf_pred_proba"
   ]
  },
  {
   "cell_type": "markdown",
   "metadata": {},
   "source": [
    "# Regression Model"
   ]
  },
  {
   "cell_type": "code",
   "execution_count": 3,
   "metadata": {},
   "outputs": [
    {
     "name": "stderr",
     "output_type": "stream",
     "text": [
      "getting econ tickers: 100%|██████████| 3/3 [00:00<00:00,  4.97it/s]\n",
      "Getting release dates: 100%|██████████| 8/8 [00:02<00:00,  3.88it/s]\n",
      "Making indicators: 100%|██████████| 8/8 [00:00<00:00, 2664.53it/s]\n",
      "Merging econ data: 100%|██████████| 8/8 [00:00<00:00, 999.09it/s]\n",
      "OHLC4 Model: 100%|██████████| 1164/1164 [00:03<00:00, 372.52it/s]\n"
     ]
    }
   ],
   "source": [
    "df_final = get_data()\n",
    "res, model01 = train_model1(df_final.drop(columns=['Target_clf']).dropna(), 'Target', 100, 1)"
   ]
  },
  {
   "cell_type": "code",
   "execution_count": 4,
   "metadata": {},
   "outputs": [
    {
     "data": {
      "text/plain": [
       "253.83898827431705"
      ]
     },
     "execution_count": 4,
     "metadata": {},
     "output_type": "execute_result"
    }
   ],
   "source": [
    "from sklearn.metrics import mean_squared_error, mean_absolute_error\n",
    "\n",
    "def mean_absolute_percentage_error(y_true, y_pred): \n",
    "    \"\"\"Calculates MAPE given y_true and y_pred\"\"\"\n",
    "    y_true, y_pred = np.array(y_true), np.array(y_pred)\n",
    "    return np.mean(np.abs((y_true - y_pred) / y_true)) * 100\n",
    "\n",
    "mean_absolute_percentage_error(y_true=res['True'],\n",
    "                   y_pred=res['Predicted'])"
   ]
  },
  {
   "cell_type": "code",
   "execution_count": 5,
   "metadata": {},
   "outputs": [
    {
     "data": {
      "text/plain": [
       "0.3617049544274253"
      ]
     },
     "execution_count": 5,
     "metadata": {},
     "output_type": "execute_result"
    }
   ],
   "source": [
    "mean_absolute_error(y_true=res['True'],\n",
    "                   y_pred=res['Predicted']) * 100"
   ]
  },
  {
   "cell_type": "code",
   "execution_count": 6,
   "metadata": {},
   "outputs": [
    {
     "data": {
      "text/plain": [
       "<AxesSubplot:xlabel='index'>"
      ]
     },
     "execution_count": 6,
     "metadata": {},
     "output_type": "execute_result"
    },
    {
     "data": {
      "image/png": "[encoded data removed]",
      "text/plain": [
       "<Figure size 432x288 with 1 Axes>"
      ]
     },
     "metadata": {
      "needs_background": "light"
     },
     "output_type": "display_data"
    }
   ],
   "source": [
    "res.plot()"
   ]
  },
  {
   "cell_type": "code",
   "execution_count": 7,
   "metadata": {},
   "outputs": [],
   "source": [
    "# import matplotlib.pyplot as plt\n",
    "# fig, ax = plt.subplots(figsize=(10, 8))\n",
    "# xgb.plot_importance(xgbr, importance_type='weight', ax=ax)"
   ]
  },
  {
   "cell_type": "code",
   "execution_count": 8,
   "metadata": {},
   "outputs": [
    {
     "data": {
      "text/plain": [
       "0.684044233807267"
      ]
     },
     "execution_count": 8,
     "metadata": {},
     "output_type": "execute_result"
    }
   ],
   "source": [
    "np.mean(df_final['CurrentGap'].abs()>0.0015)"
   ]
  },
  {
   "cell_type": "markdown",
   "metadata": {},
   "source": [
    "# Sequential Model"
   ]
  },
  {
   "cell_type": "code",
   "execution_count": 9,
   "metadata": {},
   "outputs": [
    {
     "name": "stderr",
     "output_type": "stream",
     "text": [
      "OHLC4 Model: 100%|██████████| 1164/1164 [00:03<00:00, 364.93it/s]\n",
      "C:\\Users\\WINSTON-ITX\\AppData\\Local\\Temp\\ipykernel_2044\\161169059.py:257: SettingWithCopyWarning: \n",
      "A value is trying to be set on a copy of a slice from a DataFrame.\n",
      "Try using .loc[row_indexer,col_indexer] = value instead\n",
      "\n",
      "See the caveats in the documentation: https://pandas.pydata.org/pandas-docs/stable/user_guide/indexing.html#returning-a-view-versus-a-copy\n",
      "  for_merge['RegrModelOut'] = for_merge['RegrModelOut'] > 0\n",
      "CLF Model: 100%|██████████| 1064/1064 [00:08<00:00, 121.67it/s]\n"
     ]
    }
   ],
   "source": [
    "train_model_seq(df_final.dropna(), 'Target_clf', 'Target', 100, 1)"
   ]
  },
  {
   "cell_type": "code",
   "execution_count": 10,
   "metadata": {},
   "outputs": [],
   "source": [
    "res2 = pd.read_csv('df_results.csv',index_col=0)"
   ]
  },
  {
   "cell_type": "code",
   "execution_count": 11,
   "metadata": {},
   "outputs": [
    {
     "data": {
      "text/html": [
       "<div>\n",
       "<style scoped>\n",
       "    .dataframe tbody tr th:only-of-type {\n",
       "        vertical-align: middle;\n",
       "    }\n",
       "\n",
       "    .dataframe tbody tr th {\n",
       "        vertical-align: top;\n",
       "    }\n",
       "\n",
       "    .dataframe thead th {\n",
       "        text-align: right;\n",
       "    }\n",
       "</style>\n",
       "<table border=\"1\" class=\"dataframe\">\n",
       "  <thead>\n",
       "    <tr style=\"text-align: right;\">\n",
       "      <th></th>\n",
       "      <th>True</th>\n",
       "      <th>Predicted</th>\n",
       "    </tr>\n",
       "    <tr>\n",
       "      <th>index</th>\n",
       "      <th></th>\n",
       "      <th></th>\n",
       "    </tr>\n",
       "  </thead>\n",
       "  <tbody>\n",
       "    <tr>\n",
       "      <th>2023-07-07</th>\n",
       "      <td>True</td>\n",
       "      <td>0.364264</td>\n",
       "    </tr>\n",
       "    <tr>\n",
       "      <th>2023-07-10</th>\n",
       "      <td>True</td>\n",
       "      <td>0.667768</td>\n",
       "    </tr>\n",
       "    <tr>\n",
       "      <th>2023-07-11</th>\n",
       "      <td>True</td>\n",
       "      <td>0.810105</td>\n",
       "    </tr>\n",
       "    <tr>\n",
       "      <th>2023-07-12</th>\n",
       "      <td>True</td>\n",
       "      <td>0.912171</td>\n",
       "    </tr>\n",
       "    <tr>\n",
       "      <th>2023-07-13</th>\n",
       "      <td>False</td>\n",
       "      <td>0.471872</td>\n",
       "    </tr>\n",
       "  </tbody>\n",
       "</table>\n",
       "</div>"
      ],
      "text/plain": [
       "             True  Predicted\n",
       "index                       \n",
       "2023-07-07   True   0.364264\n",
       "2023-07-10   True   0.667768\n",
       "2023-07-11   True   0.810105\n",
       "2023-07-12   True   0.912171\n",
       "2023-07-13  False   0.471872"
      ]
     },
     "execution_count": 11,
     "metadata": {},
     "output_type": "execute_result"
    }
   ],
   "source": [
    "res2.tail()"
   ]
  },
  {
   "cell_type": "code",
   "execution_count": 12,
   "metadata": {},
   "outputs": [
    {
     "name": "stdout",
     "output_type": "stream",
     "text": [
      "0.7376853714881884\n",
      "0.6862416107382551\n",
      "0.7213403880070547\n"
     ]
    }
   ],
   "source": [
    "from sklearn.metrics import roc_auc_score, precision_score, recall_score, PrecisionRecallDisplay\n",
    "print(roc_auc_score(res2['True'].astype(int), res2['Predicted'].values))\n",
    "print(precision_score(res2['True'].astype(int), res2['Predicted'] > 0.5))\n",
    "print(recall_score(res2['True'].astype(int), res2['Predicted'] > 0.5))\n",
    "# print(roc_auc_score(res1['True'].astype(int), res1['Predicted'].values))"
   ]
  },
  {
   "cell_type": "code",
   "execution_count": 13,
   "metadata": {},
   "outputs": [
    {
     "data": {
      "text/html": [
       "<div>\n",
       "<style scoped>\n",
       "    .dataframe tbody tr th:only-of-type {\n",
       "        vertical-align: middle;\n",
       "    }\n",
       "\n",
       "    .dataframe tbody tr th {\n",
       "        vertical-align: top;\n",
       "    }\n",
       "\n",
       "    .dataframe thead tr th {\n",
       "        text-align: left;\n",
       "    }\n",
       "\n",
       "    .dataframe thead tr:last-of-type th {\n",
       "        text-align: right;\n",
       "    }\n",
       "</style>\n",
       "<table border=\"1\" class=\"dataframe\">\n",
       "  <thead>\n",
       "    <tr>\n",
       "      <th></th>\n",
       "      <th colspan=\"3\" halign=\"left\">True</th>\n",
       "    </tr>\n",
       "    <tr>\n",
       "      <th></th>\n",
       "      <th>mean</th>\n",
       "      <th>len</th>\n",
       "      <th>sum</th>\n",
       "    </tr>\n",
       "    <tr>\n",
       "      <th>Predicted</th>\n",
       "      <th></th>\n",
       "      <th></th>\n",
       "      <th></th>\n",
       "    </tr>\n",
       "  </thead>\n",
       "  <tbody>\n",
       "    <tr>\n",
       "      <th>False</th>\n",
       "      <td>0.662757</td>\n",
       "      <td>682</td>\n",
       "      <td>452</td>\n",
       "    </tr>\n",
       "    <tr>\n",
       "      <th>True</th>\n",
       "      <td>0.301047</td>\n",
       "      <td>382</td>\n",
       "      <td>115</td>\n",
       "    </tr>\n",
       "  </tbody>\n",
       "</table>\n",
       "</div>"
      ],
      "text/plain": [
       "               True          \n",
       "               mean  len  sum\n",
       "Predicted                    \n",
       "False      0.662757  682  452\n",
       "True       0.301047  382  115"
      ]
     },
     "execution_count": 13,
     "metadata": {},
     "output_type": "execute_result"
    }
   ],
   "source": [
    "res2.groupby(res2['Predicted'] <= 0.42).agg({'True':[np.mean,len,np.sum]})"
   ]
  },
  {
   "cell_type": "code",
   "execution_count": 14,
   "metadata": {},
   "outputs": [
    {
     "data": {
      "text/html": [
       "<div>\n",
       "<style scoped>\n",
       "    .dataframe tbody tr th:only-of-type {\n",
       "        vertical-align: middle;\n",
       "    }\n",
       "\n",
       "    .dataframe tbody tr th {\n",
       "        vertical-align: top;\n",
       "    }\n",
       "\n",
       "    .dataframe thead tr th {\n",
       "        text-align: left;\n",
       "    }\n",
       "\n",
       "    .dataframe thead tr:last-of-type th {\n",
       "        text-align: right;\n",
       "    }\n",
       "</style>\n",
       "<table border=\"1\" class=\"dataframe\">\n",
       "  <thead>\n",
       "    <tr>\n",
       "      <th></th>\n",
       "      <th colspan=\"3\" halign=\"left\">True</th>\n",
       "    </tr>\n",
       "    <tr>\n",
       "      <th></th>\n",
       "      <th>mean</th>\n",
       "      <th>len</th>\n",
       "      <th>sum</th>\n",
       "    </tr>\n",
       "    <tr>\n",
       "      <th>Predicted</th>\n",
       "      <th></th>\n",
       "      <th></th>\n",
       "      <th></th>\n",
       "    </tr>\n",
       "  </thead>\n",
       "  <tbody>\n",
       "    <tr>\n",
       "      <th>(0.0481, 0.274]</th>\n",
       "      <td>0.244131</td>\n",
       "      <td>213</td>\n",
       "      <td>52</td>\n",
       "    </tr>\n",
       "    <tr>\n",
       "      <th>(0.274, 0.47]</th>\n",
       "      <td>0.399061</td>\n",
       "      <td>213</td>\n",
       "      <td>85</td>\n",
       "    </tr>\n",
       "    <tr>\n",
       "      <th>(0.47, 0.661]</th>\n",
       "      <td>0.523585</td>\n",
       "      <td>212</td>\n",
       "      <td>111</td>\n",
       "    </tr>\n",
       "    <tr>\n",
       "      <th>(0.661, 0.838]</th>\n",
       "      <td>0.685446</td>\n",
       "      <td>213</td>\n",
       "      <td>146</td>\n",
       "    </tr>\n",
       "    <tr>\n",
       "      <th>(0.838, 0.954]</th>\n",
       "      <td>0.812207</td>\n",
       "      <td>213</td>\n",
       "      <td>173</td>\n",
       "    </tr>\n",
       "  </tbody>\n",
       "</table>\n",
       "</div>"
      ],
      "text/plain": [
       "                     True          \n",
       "                     mean  len  sum\n",
       "Predicted                          \n",
       "(0.0481, 0.274]  0.244131  213   52\n",
       "(0.274, 0.47]    0.399061  213   85\n",
       "(0.47, 0.661]    0.523585  212  111\n",
       "(0.661, 0.838]   0.685446  213  146\n",
       "(0.838, 0.954]   0.812207  213  173"
      ]
     },
     "execution_count": 14,
     "metadata": {},
     "output_type": "execute_result"
    }
   ],
   "source": [
    "res2.groupby(pd.qcut(res2['Predicted'],5)).agg({'True':[np.mean,len,np.sum]})"
   ]
  },
  {
   "cell_type": "code",
   "execution_count": 15,
   "metadata": {},
   "outputs": [
    {
     "data": {
      "text/plain": [
       "1064"
      ]
     },
     "execution_count": 15,
     "metadata": {},
     "output_type": "execute_result"
    }
   ],
   "source": [
    "len(res2)"
   ]
  },
  {
   "cell_type": "code",
   "execution_count": 16,
   "metadata": {},
   "outputs": [
    {
     "data": {
      "text/html": [
       "<div>\n",
       "<style scoped>\n",
       "    .dataframe tbody tr th:only-of-type {\n",
       "        vertical-align: middle;\n",
       "    }\n",
       "\n",
       "    .dataframe tbody tr th {\n",
       "        vertical-align: top;\n",
       "    }\n",
       "\n",
       "    .dataframe thead tr th {\n",
       "        text-align: left;\n",
       "    }\n",
       "\n",
       "    .dataframe thead tr:last-of-type th {\n",
       "        text-align: right;\n",
       "    }\n",
       "</style>\n",
       "<table border=\"1\" class=\"dataframe\">\n",
       "  <thead>\n",
       "    <tr>\n",
       "      <th></th>\n",
       "      <th colspan=\"2\" halign=\"left\">True</th>\n",
       "    </tr>\n",
       "    <tr>\n",
       "      <th></th>\n",
       "      <th>mean</th>\n",
       "      <th>len</th>\n",
       "    </tr>\n",
       "    <tr>\n",
       "      <th>Predicted</th>\n",
       "      <th></th>\n",
       "      <th></th>\n",
       "    </tr>\n",
       "  </thead>\n",
       "  <tbody>\n",
       "    <tr>\n",
       "      <th>False</th>\n",
       "      <td>0.418256</td>\n",
       "      <td>734</td>\n",
       "    </tr>\n",
       "    <tr>\n",
       "      <th>True</th>\n",
       "      <td>0.787879</td>\n",
       "      <td>330</td>\n",
       "    </tr>\n",
       "  </tbody>\n",
       "</table>\n",
       "</div>"
      ],
      "text/plain": [
       "               True     \n",
       "               mean  len\n",
       "Predicted               \n",
       "False      0.418256  734\n",
       "True       0.787879  330"
      ]
     },
     "execution_count": 16,
     "metadata": {},
     "output_type": "execute_result"
    }
   ],
   "source": [
    "res2.groupby(res2['Predicted'] > .75).agg({'True':[np.mean,len]})"
   ]
  },
  {
   "cell_type": "code",
   "execution_count": 17,
   "metadata": {},
   "outputs": [
    {
     "data": {
      "text/plain": [
       "index\n",
       "2019-04-23    0.615764\n",
       "2019-04-24    0.243159\n",
       "2019-04-25    0.322760\n",
       "2019-04-26    0.217133\n",
       "2019-04-29    0.535138\n",
       "                ...   \n",
       "2023-07-07    0.364264\n",
       "2023-07-10    0.667768\n",
       "2023-07-11    0.810105\n",
       "2023-07-12    0.912171\n",
       "2023-07-13    0.471872\n",
       "Name: Predicted, Length: 1064, dtype: float64"
      ]
     },
     "execution_count": 17,
     "metadata": {},
     "output_type": "execute_result"
    }
   ],
   "source": [
    "res2['Predicted']"
   ]
  },
  {
   "cell_type": "code",
   "execution_count": 18,
   "metadata": {},
   "outputs": [
    {
     "data": {
      "text/plain": [
       "0.5328947368421053"
      ]
     },
     "execution_count": 18,
     "metadata": {},
     "output_type": "execute_result"
    }
   ],
   "source": [
    "res2['True'].mean()"
   ]
  },
  {
   "cell_type": "code",
   "execution_count": 19,
   "metadata": {},
   "outputs": [
    {
     "data": {
      "text/plain": [
       "<sklearn.metrics._plot.precision_recall_curve.PrecisionRecallDisplay at 0x22ae7177d60>"
      ]
     },
     "execution_count": 19,
     "metadata": {},
     "output_type": "execute_result"
    },
    {
     "data": {
      "image/png": "[encoded data removed]",
      "text/plain": [
       "<Figure size 432x288 with 1 Axes>"
      ]
     },
     "metadata": {
      "needs_background": "light"
     },
     "output_type": "display_data"
    }
   ],
   "source": [
    "PrecisionRecallDisplay.from_predictions(res2['True'].astype(int), res2['Predicted'].values)"
   ]
  },
  {
   "cell_type": "code",
   "execution_count": 20,
   "metadata": {},
   "outputs": [
    {
     "data": {
      "text/plain": [
       "<AxesSubplot:title={'center':'Feature importance'}, xlabel='F score', ylabel='Features'>"
      ]
     },
     "execution_count": 20,
     "metadata": {},
     "output_type": "execute_result"
    },
    {
     "data": {
      "image/png": "[encoded data removed]",
      "text/plain": [
       "<Figure size 720x576 with 1 Axes>"
      ]
     },
     "metadata": {
      "needs_background": "light"
     },
     "output_type": "display_data"
    }
   ],
   "source": [
    "import matplotlib.pyplot as plt\n",
    "fig, ax = plt.subplots(figsize=(10, 8))\n",
    "clf_model = joblib.load('model2.bin')\n",
    "xgb.plot_importance(clf_model, importance_type='gain', ax=ax)"
   ]
  },
  {
   "cell_type": "code",
   "execution_count": 21,
   "metadata": {},
   "outputs": [],
   "source": [
    "df_compare = df_final.drop(columns=['Target','Target_clf']).merge(res2, left_index=True, right_index=True)\n",
    "\n",
    "# What do these false positives look like?\n",
    "# false_pos = df_compare.loc[(df_compare['True'] == False) & (df_compare['Predicted'] > 0.5)]"
   ]
  },
  {
   "cell_type": "markdown",
   "metadata": {},
   "source": [
    "# New Prediction"
   ]
  },
  {
   "cell_type": "code",
   "execution_count": 22,
   "metadata": {},
   "outputs": [
    {
     "name": "stderr",
     "output_type": "stream",
     "text": [
      "getting econ tickers: 100%|██████████| 3/3 [00:00<00:00,  3.94it/s]\n",
      "Getting release dates: 100%|██████████| 8/8 [00:01<00:00,  4.48it/s]\n",
      "Making indicators: 100%|██████████| 8/8 [00:00<00:00, 3996.95it/s]\n",
      "Merging econ data: 100%|██████████| 8/8 [00:00<00:00, 999.09it/s]"
     ]
    },
    {
     "name": "stdout",
     "output_type": "stream",
     "text": [
      "            BigNewsDay  Quarter  Perf5Day  Perf5Day_n1  DaysGreen  DaysRed  \\\n",
      "2023-07-12         1.0        3      True        False        3.0      0.0   \n",
      "\n",
      "            CurrentGap  GapLevel  RangePct  RangePct_n1  RangePct_n2  \\\n",
      "2023-07-12    0.004324         4  0.005615     0.007925     0.005143   \n",
      "\n",
      "            OHLC4_VIX  OHLC4_VIX_n1  OHLC4_VIX_n2  \n",
      "2023-07-12    14.1725        14.935          15.6  \n"
     ]
    },
    {
     "name": "stderr",
     "output_type": "stream",
     "text": [
      "\n"
     ]
    },
    {
     "data": {
      "text/plain": [
       "array([0.9261149], dtype=float32)"
      ]
     },
     "execution_count": 22,
     "metadata": {},
     "output_type": "execute_result"
    }
   ],
   "source": [
    "predict_proba_seq()"
   ]
  },
  {
   "cell_type": "code",
   "execution_count": 23,
   "metadata": {},
   "outputs": [
    {
     "data": {
      "text/html": [
       "<div>\n",
       "<style scoped>\n",
       "    .dataframe tbody tr th:only-of-type {\n",
       "        vertical-align: middle;\n",
       "    }\n",
       "\n",
       "    .dataframe tbody tr th {\n",
       "        vertical-align: top;\n",
       "    }\n",
       "\n",
       "    .dataframe thead tr th {\n",
       "        text-align: left;\n",
       "    }\n",
       "\n",
       "    .dataframe thead tr:last-of-type th {\n",
       "        text-align: right;\n",
       "    }\n",
       "</style>\n",
       "<table border=\"1\" class=\"dataframe\">\n",
       "  <thead>\n",
       "    <tr>\n",
       "      <th></th>\n",
       "      <th colspan=\"3\" halign=\"left\">True</th>\n",
       "    </tr>\n",
       "    <tr>\n",
       "      <th></th>\n",
       "      <th>mean</th>\n",
       "      <th>len</th>\n",
       "      <th>sum</th>\n",
       "    </tr>\n",
       "    <tr>\n",
       "      <th>Predicted</th>\n",
       "      <th></th>\n",
       "      <th></th>\n",
       "      <th></th>\n",
       "    </tr>\n",
       "  </thead>\n",
       "  <tbody>\n",
       "    <tr>\n",
       "      <th>False</th>\n",
       "      <td>0.362976</td>\n",
       "      <td>551</td>\n",
       "      <td>200</td>\n",
       "    </tr>\n",
       "    <tr>\n",
       "      <th>True</th>\n",
       "      <td>0.715400</td>\n",
       "      <td>513</td>\n",
       "      <td>367</td>\n",
       "    </tr>\n",
       "  </tbody>\n",
       "</table>\n",
       "</div>"
      ],
      "text/plain": [
       "               True          \n",
       "               mean  len  sum\n",
       "Predicted                    \n",
       "False      0.362976  551  200\n",
       "True       0.715400  513  367"
      ]
     },
     "execution_count": 23,
     "metadata": {},
     "output_type": "execute_result"
    }
   ],
   "source": [
    "res2.groupby(res2['Predicted'] >= 0.59).agg({'True':[np.mean,len,np.sum]})"
   ]
  },
  {
   "cell_type": "code",
   "execution_count": 24,
   "metadata": {},
   "outputs": [
    {
     "data": {
      "text/html": [
       "<div>\n",
       "<style scoped>\n",
       "    .dataframe tbody tr th:only-of-type {\n",
       "        vertical-align: middle;\n",
       "    }\n",
       "\n",
       "    .dataframe tbody tr th {\n",
       "        vertical-align: top;\n",
       "    }\n",
       "\n",
       "    .dataframe thead tr th {\n",
       "        text-align: left;\n",
       "    }\n",
       "\n",
       "    .dataframe thead tr:last-of-type th {\n",
       "        text-align: right;\n",
       "    }\n",
       "</style>\n",
       "<table border=\"1\" class=\"dataframe\">\n",
       "  <thead>\n",
       "    <tr>\n",
       "      <th></th>\n",
       "      <th colspan=\"3\" halign=\"left\">True</th>\n",
       "    </tr>\n",
       "    <tr>\n",
       "      <th></th>\n",
       "      <th>mean</th>\n",
       "      <th>len</th>\n",
       "      <th>sum</th>\n",
       "    </tr>\n",
       "    <tr>\n",
       "      <th>Predicted</th>\n",
       "      <th></th>\n",
       "      <th></th>\n",
       "      <th></th>\n",
       "    </tr>\n",
       "  </thead>\n",
       "  <tbody>\n",
       "    <tr>\n",
       "      <th>(-inf, 0.2]</th>\n",
       "      <td>0.201754</td>\n",
       "      <td>114</td>\n",
       "      <td>23</td>\n",
       "    </tr>\n",
       "    <tr>\n",
       "      <th>(0.2, 0.4]</th>\n",
       "      <td>0.337398</td>\n",
       "      <td>246</td>\n",
       "      <td>83</td>\n",
       "    </tr>\n",
       "    <tr>\n",
       "      <th>(0.4, 0.6]</th>\n",
       "      <td>0.497585</td>\n",
       "      <td>207</td>\n",
       "      <td>103</td>\n",
       "    </tr>\n",
       "    <tr>\n",
       "      <th>(0.6, 0.8]</th>\n",
       "      <td>0.632035</td>\n",
       "      <td>231</td>\n",
       "      <td>146</td>\n",
       "    </tr>\n",
       "    <tr>\n",
       "      <th>(0.8, inf]</th>\n",
       "      <td>0.796992</td>\n",
       "      <td>266</td>\n",
       "      <td>212</td>\n",
       "    </tr>\n",
       "  </tbody>\n",
       "</table>\n",
       "</div>"
      ],
      "text/plain": [
       "                 True          \n",
       "                 mean  len  sum\n",
       "Predicted                      \n",
       "(-inf, 0.2]  0.201754  114   23\n",
       "(0.2, 0.4]   0.337398  246   83\n",
       "(0.4, 0.6]   0.497585  207  103\n",
       "(0.6, 0.8]   0.632035  231  146\n",
       "(0.8, inf]   0.796992  266  212"
      ]
     },
     "execution_count": 24,
     "metadata": {},
     "output_type": "execute_result"
    }
   ],
   "source": [
    "# How do I say: when the model produces a probability of at least X, the likelihood of \n",
    "res2.groupby(pd.cut(res2['Predicted'],bins=[-np.inf,0.2,0.4,0.6,0.8,np.inf])).agg({'True':[np.mean,len,np.sum]})"
   ]
  },
  {
   "cell_type": "code",
   "execution_count": 25,
   "metadata": {},
   "outputs": [],
   "source": [
    "def get_total_gt_pred(x):\n",
    "    return len(res2.loc[(res2['Predicted'] >= x)])\n",
    "\n",
    "def get_total_lte_pred(x):\n",
    "    return len(res2.loc[(res2['Predicted'] <= x)])\n",
    "\n",
    "def get_green_gt(x):\n",
    "    return len(res2.loc[(res2['Predicted'] >= x) & (res2['True'] == True)])\n",
    "\n",
    "def get_red_gt(x):\n",
    "    return len(res2.loc[(res2['Predicted'] >= x) & (res2['True'] == False)])\n",
    "\n",
    "def get_green_lte(x):\n",
    "    return len(res2.loc[(res2['Predicted'] <= x) & (res2['True'] == True)])\n",
    "\n",
    "def get_red_lte(x):\n",
    "    return len(res2.loc[(res2['Predicted'] <= x) & (res2['True'] == False)])"
   ]
  },
  {
   "cell_type": "code",
   "execution_count": 26,
   "metadata": {},
   "outputs": [],
   "source": [
    "res2['TotalGT'] = res2['Predicted'].apply(get_total_gt_pred)\n",
    "res2['TotalGreenGT'] = res2['Predicted'].apply(get_green_gt)\n",
    "res2['TotalRedGT'] = res2['Predicted'].apply(get_red_gt)\n",
    "\n",
    "res2['TotalLTE'] = res2['Predicted'].apply(get_total_lte_pred)\n",
    "res2['TotalGreenLTE'] = res2['Predicted'].apply(get_green_lte)\n",
    "res2['TotalRedLTE'] = res2['Predicted'].apply(get_red_lte)"
   ]
  },
  {
   "cell_type": "code",
   "execution_count": 27,
   "metadata": {},
   "outputs": [
    {
     "data": {
      "text/html": [
       "<div>\n",
       "<style scoped>\n",
       "    .dataframe tbody tr th:only-of-type {\n",
       "        vertical-align: middle;\n",
       "    }\n",
       "\n",
       "    .dataframe tbody tr th {\n",
       "        vertical-align: top;\n",
       "    }\n",
       "\n",
       "    .dataframe thead th {\n",
       "        text-align: right;\n",
       "    }\n",
       "</style>\n",
       "<table border=\"1\" class=\"dataframe\">\n",
       "  <thead>\n",
       "    <tr style=\"text-align: right;\">\n",
       "      <th></th>\n",
       "      <th>True</th>\n",
       "      <th>Predicted</th>\n",
       "      <th>TotalGT</th>\n",
       "      <th>TotalGreenGT</th>\n",
       "      <th>TotalRedGT</th>\n",
       "      <th>TotalLTE</th>\n",
       "      <th>TotalGreenLTE</th>\n",
       "      <th>TotalRedLTE</th>\n",
       "    </tr>\n",
       "    <tr>\n",
       "      <th>index</th>\n",
       "      <th></th>\n",
       "      <th></th>\n",
       "      <th></th>\n",
       "      <th></th>\n",
       "      <th></th>\n",
       "      <th></th>\n",
       "      <th></th>\n",
       "      <th></th>\n",
       "    </tr>\n",
       "  </thead>\n",
       "  <tbody>\n",
       "    <tr>\n",
       "      <th>2019-04-23</th>\n",
       "      <td>False</td>\n",
       "      <td>0.615764</td>\n",
       "      <td>484</td>\n",
       "      <td>351</td>\n",
       "      <td>133</td>\n",
       "      <td>581</td>\n",
       "      <td>216</td>\n",
       "      <td>365</td>\n",
       "    </tr>\n",
       "    <tr>\n",
       "      <th>2019-04-24</th>\n",
       "      <td>False</td>\n",
       "      <td>0.243159</td>\n",
       "      <td>891</td>\n",
       "      <td>527</td>\n",
       "      <td>364</td>\n",
       "      <td>174</td>\n",
       "      <td>40</td>\n",
       "      <td>134</td>\n",
       "    </tr>\n",
       "    <tr>\n",
       "      <th>2019-04-25</th>\n",
       "      <td>True</td>\n",
       "      <td>0.322760</td>\n",
       "      <td>791</td>\n",
       "      <td>495</td>\n",
       "      <td>296</td>\n",
       "      <td>274</td>\n",
       "      <td>73</td>\n",
       "      <td>201</td>\n",
       "    </tr>\n",
       "    <tr>\n",
       "      <th>2019-04-26</th>\n",
       "      <td>True</td>\n",
       "      <td>0.217133</td>\n",
       "      <td>921</td>\n",
       "      <td>537</td>\n",
       "      <td>384</td>\n",
       "      <td>144</td>\n",
       "      <td>31</td>\n",
       "      <td>113</td>\n",
       "    </tr>\n",
       "    <tr>\n",
       "      <th>2019-04-29</th>\n",
       "      <td>True</td>\n",
       "      <td>0.535138</td>\n",
       "      <td>554</td>\n",
       "      <td>391</td>\n",
       "      <td>163</td>\n",
       "      <td>511</td>\n",
       "      <td>177</td>\n",
       "      <td>334</td>\n",
       "    </tr>\n",
       "    <tr>\n",
       "      <th>...</th>\n",
       "      <td>...</td>\n",
       "      <td>...</td>\n",
       "      <td>...</td>\n",
       "      <td>...</td>\n",
       "      <td>...</td>\n",
       "      <td>...</td>\n",
       "      <td>...</td>\n",
       "      <td>...</td>\n",
       "    </tr>\n",
       "    <tr>\n",
       "      <th>2023-07-07</th>\n",
       "      <td>True</td>\n",
       "      <td>0.364264</td>\n",
       "      <td>737</td>\n",
       "      <td>475</td>\n",
       "      <td>262</td>\n",
       "      <td>328</td>\n",
       "      <td>93</td>\n",
       "      <td>235</td>\n",
       "    </tr>\n",
       "    <tr>\n",
       "      <th>2023-07-10</th>\n",
       "      <td>True</td>\n",
       "      <td>0.667768</td>\n",
       "      <td>417</td>\n",
       "      <td>313</td>\n",
       "      <td>104</td>\n",
       "      <td>648</td>\n",
       "      <td>255</td>\n",
       "      <td>393</td>\n",
       "    </tr>\n",
       "    <tr>\n",
       "      <th>2023-07-11</th>\n",
       "      <td>True</td>\n",
       "      <td>0.810105</td>\n",
       "      <td>249</td>\n",
       "      <td>201</td>\n",
       "      <td>48</td>\n",
       "      <td>816</td>\n",
       "      <td>367</td>\n",
       "      <td>449</td>\n",
       "    </tr>\n",
       "    <tr>\n",
       "      <th>2023-07-12</th>\n",
       "      <td>True</td>\n",
       "      <td>0.912171</td>\n",
       "      <td>89</td>\n",
       "      <td>73</td>\n",
       "      <td>16</td>\n",
       "      <td>976</td>\n",
       "      <td>495</td>\n",
       "      <td>481</td>\n",
       "    </tr>\n",
       "    <tr>\n",
       "      <th>2023-07-13</th>\n",
       "      <td>False</td>\n",
       "      <td>0.471872</td>\n",
       "      <td>636</td>\n",
       "      <td>430</td>\n",
       "      <td>206</td>\n",
       "      <td>429</td>\n",
       "      <td>137</td>\n",
       "      <td>292</td>\n",
       "    </tr>\n",
       "  </tbody>\n",
       "</table>\n",
       "<p>1064 rows × 8 columns</p>\n",
       "</div>"
      ],
      "text/plain": [
       "             True  Predicted  TotalGT  TotalGreenGT  TotalRedGT  TotalLTE  \\\n",
       "index                                                                       \n",
       "2019-04-23  False   0.615764      484           351         133       581   \n",
       "2019-04-24  False   0.243159      891           527         364       174   \n",
       "2019-04-25   True   0.322760      791           495         296       274   \n",
       "2019-04-26   True   0.217133      921           537         384       144   \n",
       "2019-04-29   True   0.535138      554           391         163       511   \n",
       "...           ...        ...      ...           ...         ...       ...   \n",
       "2023-07-07   True   0.364264      737           475         262       328   \n",
       "2023-07-10   True   0.667768      417           313         104       648   \n",
       "2023-07-11   True   0.810105      249           201          48       816   \n",
       "2023-07-12   True   0.912171       89            73          16       976   \n",
       "2023-07-13  False   0.471872      636           430         206       429   \n",
       "\n",
       "            TotalGreenLTE  TotalRedLTE  \n",
       "index                                   \n",
       "2019-04-23            216          365  \n",
       "2019-04-24             40          134  \n",
       "2019-04-25             73          201  \n",
       "2019-04-26             31          113  \n",
       "2019-04-29            177          334  \n",
       "...                   ...          ...  \n",
       "2023-07-07             93          235  \n",
       "2023-07-10            255          393  \n",
       "2023-07-11            367          449  \n",
       "2023-07-12            495          481  \n",
       "2023-07-13            137          292  \n",
       "\n",
       "[1064 rows x 8 columns]"
      ]
     },
     "execution_count": 27,
     "metadata": {},
     "output_type": "execute_result"
    }
   ],
   "source": [
    "res2"
   ]
  },
  {
   "cell_type": "markdown",
   "metadata": {},
   "source": [
    "## Pre Market Prediction"
   ]
  },
  {
   "cell_type": "code",
   "execution_count": 28,
   "metadata": {},
   "outputs": [
    {
     "ename": "NameError",
     "evalue": "name 'data' is not defined",
     "output_type": "error",
     "traceback": [
      "\u001b[1;31m---------------------------------------------------------------------------\u001b[0m",
      "\u001b[1;31mNameError\u001b[0m                                 Traceback (most recent call last)",
      "\u001b[1;32md:\\Projects\\gameday_spx\\model_dev_seq_v2.ipynb Cell 34\u001b[0m in \u001b[0;36m<cell line: 2>\u001b[1;34m()\u001b[0m\n\u001b[0;32m      <a href='vscode-notebook-cell:/d%3A/Projects/gameday_spx/model_dev_seq_v2.ipynb#Y151sZmlsZQ%3D%3D?line=0'>1</a>\u001b[0m \u001b[39m# Get actual last row\u001b[39;00m\n\u001b[1;32m----> <a href='vscode-notebook-cell:/d%3A/Projects/gameday_spx/model_dev_seq_v2.ipynb#Y151sZmlsZQ%3D%3D?line=1'>2</a>\u001b[0m exp_pred \u001b[39m=\u001b[39m data[[\u001b[39m'\u001b[39m\u001b[39mBigNewsDay\u001b[39m\u001b[39m'\u001b[39m,\n\u001b[0;32m      <a href='vscode-notebook-cell:/d%3A/Projects/gameday_spx/model_dev_seq_v2.ipynb#Y151sZmlsZQ%3D%3D?line=2'>3</a>\u001b[0m     \u001b[39m'\u001b[39m\u001b[39mQuarter\u001b[39m\u001b[39m'\u001b[39m,\n\u001b[0;32m      <a href='vscode-notebook-cell:/d%3A/Projects/gameday_spx/model_dev_seq_v2.ipynb#Y151sZmlsZQ%3D%3D?line=3'>4</a>\u001b[0m     \u001b[39m'\u001b[39m\u001b[39mPerf5Day\u001b[39m\u001b[39m'\u001b[39m,\n\u001b[0;32m      <a href='vscode-notebook-cell:/d%3A/Projects/gameday_spx/model_dev_seq_v2.ipynb#Y151sZmlsZQ%3D%3D?line=4'>5</a>\u001b[0m     \u001b[39m'\u001b[39m\u001b[39mPerf5Day_n1\u001b[39m\u001b[39m'\u001b[39m,    \n\u001b[0;32m      <a href='vscode-notebook-cell:/d%3A/Projects/gameday_spx/model_dev_seq_v2.ipynb#Y151sZmlsZQ%3D%3D?line=5'>6</a>\u001b[0m     \u001b[39m'\u001b[39m\u001b[39mDaysGreen\u001b[39m\u001b[39m'\u001b[39m,    \n\u001b[0;32m      <a href='vscode-notebook-cell:/d%3A/Projects/gameday_spx/model_dev_seq_v2.ipynb#Y151sZmlsZQ%3D%3D?line=6'>7</a>\u001b[0m     \u001b[39m'\u001b[39m\u001b[39mDaysRed\u001b[39m\u001b[39m'\u001b[39m,    \n\u001b[0;32m      <a href='vscode-notebook-cell:/d%3A/Projects/gameday_spx/model_dev_seq_v2.ipynb#Y151sZmlsZQ%3D%3D?line=7'>8</a>\u001b[0m     \u001b[39m# 'OHLC4_Trend',    \u001b[39;00m\n\u001b[0;32m      <a href='vscode-notebook-cell:/d%3A/Projects/gameday_spx/model_dev_seq_v2.ipynb#Y151sZmlsZQ%3D%3D?line=8'>9</a>\u001b[0m     \u001b[39m# 'OHLC4_Trend_n1',    \u001b[39;00m\n\u001b[0;32m     <a href='vscode-notebook-cell:/d%3A/Projects/gameday_spx/model_dev_seq_v2.ipynb#Y151sZmlsZQ%3D%3D?line=9'>10</a>\u001b[0m     \u001b[39m# 'OHLC4_Trend_n2',    \u001b[39;00m\n\u001b[0;32m     <a href='vscode-notebook-cell:/d%3A/Projects/gameday_spx/model_dev_seq_v2.ipynb#Y151sZmlsZQ%3D%3D?line=10'>11</a>\u001b[0m     \u001b[39m# 'VIX5Day',\u001b[39;00m\n\u001b[0;32m     <a href='vscode-notebook-cell:/d%3A/Projects/gameday_spx/model_dev_seq_v2.ipynb#Y151sZmlsZQ%3D%3D?line=11'>12</a>\u001b[0m     \u001b[39m# 'VIX5Day_n1',\u001b[39;00m\n\u001b[0;32m     <a href='vscode-notebook-cell:/d%3A/Projects/gameday_spx/model_dev_seq_v2.ipynb#Y151sZmlsZQ%3D%3D?line=12'>13</a>\u001b[0m     \u001b[39m'\u001b[39m\u001b[39mCurrentGap\u001b[39m\u001b[39m'\u001b[39m,\n\u001b[0;32m     <a href='vscode-notebook-cell:/d%3A/Projects/gameday_spx/model_dev_seq_v2.ipynb#Y151sZmlsZQ%3D%3D?line=13'>14</a>\u001b[0m     \u001b[39m'\u001b[39m\u001b[39mGapLevel\u001b[39m\u001b[39m'\u001b[39m,\n\u001b[0;32m     <a href='vscode-notebook-cell:/d%3A/Projects/gameday_spx/model_dev_seq_v2.ipynb#Y151sZmlsZQ%3D%3D?line=14'>15</a>\u001b[0m     \u001b[39m'\u001b[39m\u001b[39mRangePct\u001b[39m\u001b[39m'\u001b[39m,\n\u001b[0;32m     <a href='vscode-notebook-cell:/d%3A/Projects/gameday_spx/model_dev_seq_v2.ipynb#Y151sZmlsZQ%3D%3D?line=15'>16</a>\u001b[0m     \u001b[39m'\u001b[39m\u001b[39mRangePct_n1\u001b[39m\u001b[39m'\u001b[39m,\n\u001b[0;32m     <a href='vscode-notebook-cell:/d%3A/Projects/gameday_spx/model_dev_seq_v2.ipynb#Y151sZmlsZQ%3D%3D?line=16'>17</a>\u001b[0m     \u001b[39m'\u001b[39m\u001b[39mRangePct_n2\u001b[39m\u001b[39m'\u001b[39m,\n\u001b[0;32m     <a href='vscode-notebook-cell:/d%3A/Projects/gameday_spx/model_dev_seq_v2.ipynb#Y151sZmlsZQ%3D%3D?line=17'>18</a>\u001b[0m     \u001b[39m'\u001b[39m\u001b[39mOHLC4_VIX\u001b[39m\u001b[39m'\u001b[39m,\n\u001b[0;32m     <a href='vscode-notebook-cell:/d%3A/Projects/gameday_spx/model_dev_seq_v2.ipynb#Y151sZmlsZQ%3D%3D?line=18'>19</a>\u001b[0m     \u001b[39m'\u001b[39m\u001b[39mOHLC4_VIX_n1\u001b[39m\u001b[39m'\u001b[39m,\n\u001b[0;32m     <a href='vscode-notebook-cell:/d%3A/Projects/gameday_spx/model_dev_seq_v2.ipynb#Y151sZmlsZQ%3D%3D?line=19'>20</a>\u001b[0m     \u001b[39m'\u001b[39m\u001b[39mOHLC4_VIX_n2\u001b[39m\u001b[39m'\u001b[39m]]\u001b[39m.\u001b[39miloc[\u001b[39m-\u001b[39m\u001b[39m1\u001b[39m]\n\u001b[0;32m     <a href='vscode-notebook-cell:/d%3A/Projects/gameday_spx/model_dev_seq_v2.ipynb#Y151sZmlsZQ%3D%3D?line=21'>22</a>\u001b[0m exp_pred \u001b[39m=\u001b[39m pd\u001b[39m.\u001b[39mDataFrame(exp_pred)\u001b[39m.\u001b[39mT\n\u001b[0;32m     <a href='vscode-notebook-cell:/d%3A/Projects/gameday_spx/model_dev_seq_v2.ipynb#Y151sZmlsZQ%3D%3D?line=23'>24</a>\u001b[0m exp_pred[\u001b[39m'\u001b[39m\u001b[39mBigNewsDay\u001b[39m\u001b[39m'\u001b[39m] \u001b[39m=\u001b[39m exp_pred[\u001b[39m'\u001b[39m\u001b[39mBigNewsDay\u001b[39m\u001b[39m'\u001b[39m]\u001b[39m.\u001b[39mastype(\u001b[39mfloat\u001b[39m)\n",
      "\u001b[1;31mNameError\u001b[0m: name 'data' is not defined"
     ]
    }
   ],
   "source": [
    "# Get actual last row\n",
    "exp_pred = data[['BigNewsDay',\n",
    "    'Quarter',\n",
    "    'Perf5Day',\n",
    "    'Perf5Day_n1',    \n",
    "    'DaysGreen',    \n",
    "    'DaysRed',    \n",
    "    # 'OHLC4_Trend',    \n",
    "    # 'OHLC4_Trend_n1',    \n",
    "    # 'OHLC4_Trend_n2',    \n",
    "    # 'VIX5Day',\n",
    "    # 'VIX5Day_n1',\n",
    "    'CurrentGap',\n",
    "    'GapLevel',\n",
    "    'RangePct',\n",
    "    'RangePct_n1',\n",
    "    'RangePct_n2',\n",
    "    'OHLC4_VIX',\n",
    "    'OHLC4_VIX_n1',\n",
    "    'OHLC4_VIX_n2']].iloc[-1]\n",
    "\n",
    "exp_pred = pd.DataFrame(exp_pred).T\n",
    "\n",
    "exp_pred['BigNewsDay'] = exp_pred['BigNewsDay'].astype(float)\n",
    "exp_pred['Quarter'] = exp_pred['Quarter'].astype(int)\n",
    "exp_pred['Perf5Day'] = exp_pred['Perf5Day'].astype(bool)\n",
    "exp_pred['Perf5Day_n1'] = exp_pred['Perf5Day_n1'].astype(bool)\n",
    "exp_pred['DaysGreen'] = exp_pred['DaysGreen'].astype(float)\n",
    "exp_pred['DaysRed'] = exp_pred['DaysRed'].astype(float)\n",
    "# exp_pred['OHLC4_Trend'] = exp_pred['OHLC4_Trend'].astype(float)\n",
    "# exp_pred['OHLC4_Trend_n1'] = exp_pred['OHLC4_Trend_n1'].astype(float)\n",
    "# exp_pred['OHLC4_Trend_n2'] = exp_pred['OHLC4_Trend_n2'].astype(float)\n",
    "# exp_pred['VIX5Day'] = exp_pred['VIX5Day'].astype(bool)\n",
    "# exp_pred['VIX5Day_n1'] = exp_pred['VIX5Day_n1'].astype(bool)\n",
    "exp_pred['CurrentGap'] = exp_pred['CurrentGap'].astype(float)\n",
    "exp_pred['GapLevel'] = exp_pred['GapLevel'].astype(int)\n",
    "exp_pred['RangePct'] = exp_pred['RangePct'].astype(float)\n",
    "exp_pred['RangePct_n1'] = exp_pred['RangePct_n1'].astype(float)\n",
    "exp_pred['RangePct_n2'] = exp_pred['RangePct_n2'].astype(float)\n",
    "exp_pred['OHLC4_VIX'] = exp_pred['OHLC4_VIX'].astype(float)\n",
    "exp_pred['OHLC4_VIX_n1'] = exp_pred['OHLC4_VIX_n1'].astype(float)\n",
    "exp_pred['OHLC4_VIX_n2'] = exp_pred['OHLC4_VIX_n2'].astype(float)\n",
    "\n",
    "# The only variable you can play with as the other ones are historical\n",
    "exp_pred.loc[:,'CurrentGap'] = 3 / 4472\n",
    "# new_pred.loc[:,'BigNewsDay'] = 0"
   ]
  },
  {
   "cell_type": "code",
   "execution_count": null,
   "metadata": {},
   "outputs": [],
   "source": [
    "seq_predict_proba(exp_pred, lr_model, clf_model)"
   ]
  },
  {
   "cell_type": "code",
   "execution_count": null,
   "metadata": {},
   "outputs": [],
   "source": []
  }
 ],
 "metadata": {
  "kernelspec": {
   "display_name": "py39",
   "language": "python",
   "name": "python3"
  },
  "language_info": {
   "codemirror_mode": {
    "name": "ipython",
    "version": 3
   },
   "file_extension": ".py",
   "mimetype": "text/x-python",
   "name": "python",
   "nbconvert_exporter": "python",
   "pygments_lexer": "ipython3",
   "version": "3.9.12"
  },
  "orig_nbformat": 4
 },
 "nbformat": 4,
 "nbformat_minor": 2
}

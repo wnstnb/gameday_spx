{
 "cells": [
  {
   "cell_type": "markdown",
   "metadata": {},
   "source": [
    "# Gameday Model for SPX"
   ]
  },
  {
   "cell_type": "code",
   "execution_count": 1,
   "metadata": {},
   "outputs": [],
   "source": [
    "import pandas as pd\n",
    "import pandas_datareader as pdr\n",
    "import numpy as np\n",
    "import yfinance as yf\n",
    "import json\n",
    "import requests\n",
    "from bs4 import BeautifulSoup\n",
    "from typing import List\n",
    "import xgboost as xgb\n",
    "from tqdm import tqdm\n",
    "from sklearn import linear_model, ensemble"
   ]
  },
  {
   "cell_type": "markdown",
   "metadata": {},
   "source": [
    "# Helper Functions"
   ]
  },
  {
   "cell_type": "code",
   "execution_count": 2,
   "metadata": {},
   "outputs": [],
   "source": [
    "def walk_forward_validation(df, target_column, num_training_rows, num_periods):\n",
    "    \n",
    "    # Create an XGBRegressor model\n",
    "    # model = xgb.XGBRegressor(n_estimators=100, objective='reg:squarederror', random_state = 42)\n",
    "    model = linear_model.LinearRegression()\n",
    "\n",
    "    overall_results = []\n",
    "    # Iterate over the rows in the DataFrame, one step at a time\n",
    "    for i in tqdm(range(num_training_rows, df.shape[0] - num_periods + 1)):\n",
    "        # Split the data into training and test sets\n",
    "        X_train = df.drop(target_column, axis=1).iloc[:i]\n",
    "        y_train = df[target_column].iloc[:i]\n",
    "        X_test = df.drop(target_column, axis=1).iloc[i:i+num_periods]\n",
    "        y_test = df[target_column].iloc[i:i+num_periods]\n",
    "        \n",
    "        # Fit the model to the training data\n",
    "        model.fit(X_train, y_train)\n",
    "        \n",
    "        # Make a prediction on the test data\n",
    "        predictions = model.predict(X_test)\n",
    "        \n",
    "        # Create a DataFrame to store the true and predicted values\n",
    "        result_df = pd.DataFrame({'True': y_test, 'Predicted': predictions}, index=y_test.index)\n",
    "        \n",
    "        overall_results.append(result_df)\n",
    "\n",
    "    df_results = pd.concat(overall_results)\n",
    "    # model.save_model('model_lr.bin')\n",
    "    # Return the true and predicted values, and fitted model\n",
    "    return df_results, model\n",
    "\n",
    "def walk_forward_validation_clf(df, target_column, num_training_rows, num_periods):\n",
    "    \n",
    "    # Create an XGBRegressor model\n",
    "    model = xgb.XGBClassifier(n_estimators=10, random_state = 42)\n",
    "    # model = linear_model.LogisticRegression(max_iter=10000, solver='saga')\n",
    "    # model = ensemble.HistGradientBoostingClassifier(n_estimators=20, random_state=42)\n",
    "\n",
    "    \n",
    "    overall_results = []\n",
    "    # Iterate over the rows in the DataFrame, one step at a time\n",
    "    for i in tqdm(range(num_training_rows, df.shape[0] - num_periods + 1)):\n",
    "        # Split the data into training and test sets\n",
    "        X_train = df.drop(target_column, axis=1).iloc[:i]\n",
    "        y_train = df[target_column].iloc[:i]\n",
    "        X_test = df.drop(target_column, axis=1).iloc[i:i+num_periods]\n",
    "        y_test = df[target_column].iloc[i:i+num_periods]\n",
    "        \n",
    "        # Fit the model to the training data\n",
    "        model.fit(X_train, y_train)\n",
    "        \n",
    "        # Make a prediction on the test data\n",
    "        predictions = model.predict_proba(X_test)[:,-1]\n",
    "        \n",
    "        # Create a DataFrame to store the true and predicted values\n",
    "        result_df = pd.DataFrame({'True': y_test, 'Predicted': predictions}, index=y_test.index)\n",
    "        \n",
    "        overall_results.append(result_df)\n",
    "\n",
    "    df_results = pd.concat(overall_results)\n",
    "    # model.save_model('model_clf_lr.bin')\n",
    "    # Return the true and predicted values, and fitted model\n",
    "    return df_results, model\n",
    "\n",
    "def walk_forward_validation_clf2(df, target_column, num_training_rows, num_periods):\n",
    "    \n",
    "    # Create an XGBRegressor model\n",
    "    model = xgb.XGBClassifier(n_estimators=100, random_state = 42)\n",
    "    \n",
    "    overall_results = []\n",
    "    # Iterate over the rows in the DataFrame, one step at a time\n",
    "    for i in tqdm(range(num_training_rows, df.shape[0] - num_periods + 1)):\n",
    "        # Split the data into training and test sets\n",
    "        X_train = df.drop(target_column, axis=1).iloc[:i]\n",
    "        y_train = df[target_column].iloc[:i]\n",
    "        X_test = df.drop(target_column, axis=1).iloc[i:i+num_periods]\n",
    "        y_test = df[target_column].iloc[i:i+num_periods]\n",
    "        \n",
    "        # Fit the model to the training data\n",
    "        model.fit(X_train, y_train)\n",
    "        \n",
    "        # Make a prediction on the test data\n",
    "        predictions = model.predict_proba(X_test)[:,-1]\n",
    "        \n",
    "        # Create a DataFrame to store the true and predicted values\n",
    "        result_df = pd.DataFrame({'True': y_test, 'Predicted': predictions}, index=y_test.index)\n",
    "        \n",
    "        overall_results.append(result_df)\n",
    "\n",
    "    df_results = pd.concat(overall_results)\n",
    "    model.save_model('model_ensemble.bin')\n",
    "    # Return the true and predicted values, and fitted model\n",
    "    return df_results, model"
   ]
  },
  {
   "cell_type": "code",
   "execution_count": 3,
   "metadata": {},
   "outputs": [
    {
     "name": "stderr",
     "output_type": "stream",
     "text": [
      "getting econ tickers: 100%|██████████| 3/3 [00:00<00:00,  5.88it/s]\n",
      "Getting release dates: 100%|██████████| 8/8 [00:01<00:00,  5.31it/s]\n",
      "Making indicators: 100%|██████████| 8/8 [00:00<00:00, 2664.95it/s]\n"
     ]
    }
   ],
   "source": [
    "f = open('settings.json')\n",
    "j = json.load(f)\n",
    "\n",
    "API_KEY_FRED = j['API_KEY_FRED']\n",
    "\n",
    "def parse_release_dates(release_id: str) -> List[str]:\n",
    "    release_dates_url = f'https://api.stlouisfed.org/fred/release/dates?release_id={release_id}&realtime_start=2015-01-01&include_release_dates_with_no_data=true&api_key={API_KEY_FRED}'\n",
    "    r = requests.get(release_dates_url)\n",
    "    text = r.text\n",
    "    soup = BeautifulSoup(text, 'xml')\n",
    "    dates = []\n",
    "    for release_date_tag in soup.find_all('release_date', {'release_id': release_id}):\n",
    "        dates.append(release_date_tag.text)\n",
    "    return dates\n",
    "\n",
    "def parse_release_dates_obs(series_id: str) -> List[str]:\n",
    "    obs_url = f'https://api.stlouisfed.org/fred/series/observations?series_id={series_id}&realtime_start=2015-01-01&include_release_dates_with_no_data=true&api_key={API_KEY_FRED}'\n",
    "    r = requests.get(obs_url)\n",
    "    text = r.text\n",
    "    soup = BeautifulSoup(text, 'xml')\n",
    "    observations  = []\n",
    "    for observation_tag in soup.find_all('observation'):\n",
    "        date = observation_tag.get('date')\n",
    "        value = observation_tag.get('value')\n",
    "        observations.append((date, value))\n",
    "    return observations\n",
    "\n",
    "econ_dfs = {}\n",
    "\n",
    "econ_tickers = [\n",
    "    'WALCL',\n",
    "    'NFCI',\n",
    "    'WRESBAL'\n",
    "]\n",
    "\n",
    "for et in tqdm(econ_tickers, desc='getting econ tickers'):\n",
    "    # p = parse_release_dates_obs(et)\n",
    "    # df = pd.DataFrame(columns = ['ds',et], data = p)\n",
    "    df = pdr.get_data_fred(et)\n",
    "    df.index = df.index.rename('ds')\n",
    "    # df.index = pd.to_datetime(df.index.rename('ds')).dt.tz_localize(None)\n",
    "    # df['ds'] = pd.to_datetime(df['ds']).dt.tz_localize(None)\n",
    "    econ_dfs[et] = df\n",
    "\n",
    "# walcl = pd.DataFrame(columns = ['ds','WALCL'], data = p)\n",
    "# walcl['ds'] = pd.to_datetime(walcl['ds']).dt.tz_localize(None)\n",
    "\n",
    "# nfci = pd.DataFrame(columns = ['ds','NFCI'], data = p2)\n",
    "# nfci['ds'] = pd.to_datetime(nfci['ds']).dt.tz_localize(None)\n",
    "\n",
    "release_ids = [\n",
    "    \"10\", # \"Consumer Price Index\"\n",
    "    \"46\", # \"Producer Price Index\"\n",
    "    \"50\", # \"Employment Situation\"\n",
    "    \"53\", # \"Gross Domestic Product\"\n",
    "    \"103\", # \"Discount Rate Meeting Minutes\"\n",
    "    \"180\", # \"Unemployment Insurance Weekly Claims Report\"\n",
    "    \"194\", # \"ADP National Employment Report\"\n",
    "    \"323\" # \"Trimmed Mean PCE Inflation Rate\"\n",
    "]\n",
    "\n",
    "release_names = [\n",
    "    \"CPI\",\n",
    "    \"PPI\",\n",
    "    \"NFP\",\n",
    "    \"GDP\",\n",
    "    \"FOMC\",\n",
    "    \"UNEMP\",\n",
    "    \"ADP\",\n",
    "    \"PCE\"\n",
    "]\n",
    "\n",
    "releases = {}\n",
    "\n",
    "for rid, n in tqdm(zip(release_ids, release_names), total = len(release_ids), desc='Getting release dates'):\n",
    "    releases[rid] = {}\n",
    "    releases[rid]['dates'] = parse_release_dates(rid)\n",
    "    releases[rid]['name'] = n \n",
    "\n",
    "# Create a DF that has all dates with the name of the col as 1\n",
    "# Once merged on the main dataframe, days with econ events will be 1 or None. Fill NA with 0\n",
    "# This column serves as the true/false indicator of whether there was economic data released that day.\n",
    "for rid in tqdm(release_ids, desc='Making indicators'):\n",
    "    releases[rid]['df'] = pd.DataFrame(\n",
    "        index=releases[rid]['dates'],\n",
    "        data={\n",
    "        releases[rid]['name']: 1\n",
    "        })\n",
    "    releases[rid]['df'].index = pd.DatetimeIndex(releases[rid]['df'].index)\n",
    "    # releases[rid]['df']['ds'] = pd.to_datetime(releases[rid]['df']['ds']).dt.tz_localize(None)\n",
    "    # releases[rid]['df'] = releases[rid]['df'].set_index('ds')"
   ]
  },
  {
   "cell_type": "markdown",
   "metadata": {},
   "source": [
    "# Data Gathering & Prep"
   ]
  },
  {
   "cell_type": "code",
   "execution_count": 4,
   "metadata": {},
   "outputs": [],
   "source": [
    "vix = yf.Ticker('^VIX')\n",
    "spx = yf.Ticker('^GSPC')\n",
    "\n",
    "prices_vix = vix.history(start='2020-01-01', interval='1d')\n",
    "prices_spx = spx.history(start='2020-01-01', interval='1d')"
   ]
  },
  {
   "cell_type": "code",
   "execution_count": 5,
   "metadata": {},
   "outputs": [],
   "source": [
    "prices_spx['index'] = [str(x).split()[0] for x in prices_spx.index]\n",
    "prices_spx['index'] = pd.to_datetime(prices_spx['index']).dt.date\n",
    "prices_spx.index = prices_spx['index']\n",
    "prices_spx = prices_spx.drop(columns='index')\n",
    "\n",
    "prices_vix['index'] = [str(x).split()[0] for x in prices_vix.index]\n",
    "prices_vix['index'] = pd.to_datetime(prices_vix['index']).dt.date\n",
    "prices_vix.index = prices_vix['index']\n",
    "prices_vix = prices_vix.drop(columns='index')\n",
    "\n",
    "data = prices_spx.merge(prices_vix[['Open','High','Low','Close']], left_index=True, right_index=True, suffixes=['','_VIX'])\n",
    "data.index = pd.DatetimeIndex(data.index)"
   ]
  },
  {
   "cell_type": "markdown",
   "metadata": {},
   "source": [
    "## Feature Development"
   ]
  },
  {
   "cell_type": "code",
   "execution_count": 6,
   "metadata": {},
   "outputs": [
    {
     "name": "stderr",
     "output_type": "stream",
     "text": [
      "Merging econ data: 100%|██████████| 8/8 [00:00<00:00, 799.26it/s]\n"
     ]
    }
   ],
   "source": [
    "# Features\n",
    "data['PrevClose'] = data['Close'].shift(1)\n",
    "data['Perf5Day'] = data['Close'] > data['Close'].shift(5)\n",
    "data['Perf5Day_n1'] = data['Perf5Day'].shift(1)\n",
    "data['Perf5Day_n1'] = data['Perf5Day_n1'].astype(bool)\n",
    "data['GreenDay'] = (data['Close'] > data['PrevClose']) * 1\n",
    "data['RedDay'] = (data['Close'] <= data['PrevClose']) * 1\n",
    "\n",
    "data['VIX5Day'] = data['Close_VIX'] > data['Close_VIX'].shift(5)\n",
    "data['VIX5Day_n1'] = data['VIX5Day'].astype(bool)\n",
    "\n",
    "data['Range'] = data[['Open','High']].max(axis=1) - data[['Low','Open']].min(axis=1) # Current day range in points\n",
    "data['RangePct'] = data['Range'] / data['Close']\n",
    "data['VIXLevel'] = pd.qcut(data['Close_VIX'], 4)\n",
    "data['OHLC4_VIX'] = data[['Open_VIX','High_VIX','Low_VIX','Close_VIX']].mean(axis=1)\n",
    "data['OHLC4'] = data[['Open','High','Low','Close']].mean(axis=1)\n",
    "data['OHLC4_Trend'] = data['OHLC4'] > data['OHLC4'].shift(1)\n",
    "data['OHLC4_Trend_n1'] = data['OHLC4_Trend'].shift(1)\n",
    "data['OHLC4_Trend_n1'] = data['OHLC4_Trend_n1'].astype(float)\n",
    "data['OHLC4_Trend_n2'] = data['OHLC4_Trend'].shift(1)\n",
    "data['OHLC4_Trend_n2'] = data['OHLC4_Trend_n2'].astype(float)\n",
    "data['RangePct_n1'] = data['RangePct'].shift(1)\n",
    "data['RangePct_n2'] = data['RangePct'].shift(2)\n",
    "data['OHLC4_VIX_n1'] = data['OHLC4_VIX'].shift(1)\n",
    "data['OHLC4_VIX_n2'] = data['OHLC4_VIX'].shift(2)\n",
    "data['CurrentGap'] = (data['Open'] - data['PrevClose']) / data['PrevClose']\n",
    "data['CurrentGap'] = data['CurrentGap'].shift(-1)\n",
    "data['DayOfWeek'] = pd.to_datetime(data.index)\n",
    "data['DayOfWeek'] = data['DayOfWeek'].dt.day\n",
    "\n",
    "# Target -- the next day's low\n",
    "data['Target'] = (data['OHLC4'] / data['PrevClose']) - 1\n",
    "data['Target'] = data['Target'].shift(-1)\n",
    "# data['Target'] = data['RangePct'].shift(-1)\n",
    "\n",
    "# Target for clf -- whether tomorrow will close above or below today's close\n",
    "data['Target_clf'] = data['Close'] > data['PrevClose']\n",
    "data['Target_clf'] = data['Target_clf'].shift(-1)\n",
    "data['DayOfWeek'] = pd.to_datetime(data.index)\n",
    "data['Quarter'] = data['DayOfWeek'].dt.quarter\n",
    "data['DayOfWeek'] = data['DayOfWeek'].dt.weekday\n",
    "\n",
    "for rid in tqdm(release_ids, desc='Merging econ data'):\n",
    "    # Get the name of the release\n",
    "    n = releases[rid]['name']\n",
    "    # Merge the corresponding DF of the release\n",
    "    data = data.merge(releases[rid]['df'], how = 'left', left_index=True, right_index=True)\n",
    "    # Create a column that shifts the value in the merged column up by 1\n",
    "    data[f'{n}_shift'] = data[n].shift(-1)\n",
    "    # Fill the rest with zeroes\n",
    "    data[n] = data[n].fillna(0)\n",
    "    data[f'{n}_shift'] = data[f'{n}_shift'].fillna(0)\n",
    "    \n",
    "data['BigNewsDay'] = data[[x for x in data.columns if '_shift' in x]].max(axis=1)"
   ]
  },
  {
   "cell_type": "code",
   "execution_count": 7,
   "metadata": {},
   "outputs": [],
   "source": [
    "def cumul_sum(col):\n",
    "    nums = []\n",
    "    s = 0\n",
    "    for x in col:\n",
    "        if x == 1:\n",
    "            s += 1\n",
    "        elif x == 0:\n",
    "            s = 0\n",
    "        nums.append(s)\n",
    "    return nums\n",
    "\n",
    "consec_green = cumul_sum(data['GreenDay'].values)\n",
    "consec_red = cumul_sum(data['RedDay'].values)\n",
    "\n",
    "data['DaysGreen'] = consec_green\n",
    "data['DaysRed'] = consec_red"
   ]
  },
  {
   "cell_type": "code",
   "execution_count": 8,
   "metadata": {},
   "outputs": [
    {
     "data": {
      "text/plain": [
       "7"
      ]
     },
     "execution_count": 8,
     "metadata": {},
     "output_type": "execute_result"
    }
   ],
   "source": [
    "max(consec_red)"
   ]
  },
  {
   "cell_type": "code",
   "execution_count": 9,
   "metadata": {},
   "outputs": [
    {
     "data": {
      "text/html": [
       "<div>\n",
       "<style scoped>\n",
       "    .dataframe tbody tr th:only-of-type {\n",
       "        vertical-align: middle;\n",
       "    }\n",
       "\n",
       "    .dataframe tbody tr th {\n",
       "        vertical-align: top;\n",
       "    }\n",
       "\n",
       "    .dataframe thead th {\n",
       "        text-align: right;\n",
       "    }\n",
       "</style>\n",
       "<table border=\"1\" class=\"dataframe\">\n",
       "  <thead>\n",
       "    <tr style=\"text-align: right;\">\n",
       "      <th></th>\n",
       "      <th>GreenDay</th>\n",
       "      <th>DaysGreen</th>\n",
       "    </tr>\n",
       "    <tr>\n",
       "      <th>index</th>\n",
       "      <th></th>\n",
       "      <th></th>\n",
       "    </tr>\n",
       "  </thead>\n",
       "  <tbody>\n",
       "    <tr>\n",
       "      <th>2020-01-02</th>\n",
       "      <td>0</td>\n",
       "      <td>0</td>\n",
       "    </tr>\n",
       "    <tr>\n",
       "      <th>2020-01-03</th>\n",
       "      <td>0</td>\n",
       "      <td>0</td>\n",
       "    </tr>\n",
       "    <tr>\n",
       "      <th>2020-01-06</th>\n",
       "      <td>1</td>\n",
       "      <td>1</td>\n",
       "    </tr>\n",
       "    <tr>\n",
       "      <th>2020-01-07</th>\n",
       "      <td>0</td>\n",
       "      <td>0</td>\n",
       "    </tr>\n",
       "    <tr>\n",
       "      <th>2020-01-08</th>\n",
       "      <td>1</td>\n",
       "      <td>1</td>\n",
       "    </tr>\n",
       "    <tr>\n",
       "      <th>...</th>\n",
       "      <td>...</td>\n",
       "      <td>...</td>\n",
       "    </tr>\n",
       "    <tr>\n",
       "      <th>2023-07-05</th>\n",
       "      <td>0</td>\n",
       "      <td>0</td>\n",
       "    </tr>\n",
       "    <tr>\n",
       "      <th>2023-07-06</th>\n",
       "      <td>0</td>\n",
       "      <td>0</td>\n",
       "    </tr>\n",
       "    <tr>\n",
       "      <th>2023-07-07</th>\n",
       "      <td>0</td>\n",
       "      <td>0</td>\n",
       "    </tr>\n",
       "    <tr>\n",
       "      <th>2023-07-10</th>\n",
       "      <td>1</td>\n",
       "      <td>1</td>\n",
       "    </tr>\n",
       "    <tr>\n",
       "      <th>2023-07-11</th>\n",
       "      <td>1</td>\n",
       "      <td>2</td>\n",
       "    </tr>\n",
       "  </tbody>\n",
       "</table>\n",
       "<p>886 rows × 2 columns</p>\n",
       "</div>"
      ],
      "text/plain": [
       "            GreenDay  DaysGreen\n",
       "index                          \n",
       "2020-01-02         0          0\n",
       "2020-01-03         0          0\n",
       "2020-01-06         1          1\n",
       "2020-01-07         0          0\n",
       "2020-01-08         1          1\n",
       "...              ...        ...\n",
       "2023-07-05         0          0\n",
       "2023-07-06         0          0\n",
       "2023-07-07         0          0\n",
       "2023-07-10         1          1\n",
       "2023-07-11         1          2\n",
       "\n",
       "[886 rows x 2 columns]"
      ]
     },
     "execution_count": 9,
     "metadata": {},
     "output_type": "execute_result"
    }
   ],
   "source": [
    "data[['GreenDay','DaysGreen']]"
   ]
  },
  {
   "cell_type": "markdown",
   "metadata": {},
   "source": [
    "## Model Data"
   ]
  },
  {
   "cell_type": "code",
   "execution_count": 10,
   "metadata": {},
   "outputs": [],
   "source": [
    "final_row = data.index[-2]"
   ]
  },
  {
   "cell_type": "code",
   "execution_count": 11,
   "metadata": {},
   "outputs": [
    {
     "data": {
      "text/plain": [
       "Timestamp('2023-07-10 00:00:00')"
      ]
     },
     "execution_count": 11,
     "metadata": {},
     "output_type": "execute_result"
    }
   ],
   "source": [
    "final_row"
   ]
  },
  {
   "cell_type": "code",
   "execution_count": 12,
   "metadata": {},
   "outputs": [],
   "source": [
    "df_final = data.loc[:final_row,\n",
    "[\n",
    "    'BigNewsDay',\n",
    "    'Quarter',\n",
    "    'Perf5Day',\n",
    "    'Perf5Day_n1',\n",
    "    'DaysGreen',\n",
    "    'DaysRed',\n",
    "    # 'OHLC4_Trend',\n",
    "    # 'OHLC4_Trend_n1',\n",
    "    # 'OHLC4_Trend_n2',\n",
    "    # 'VIX5Day',\n",
    "    # 'VIX5Day_n1',\n",
    "    'CurrentGap',\n",
    "    'RangePct',\n",
    "    'RangePct_n1',\n",
    "    'RangePct_n2',\n",
    "    'OHLC4_VIX',\n",
    "    'OHLC4_VIX_n1',\n",
    "    'OHLC4_VIX_n2',\n",
    "    'Target',\n",
    "    'Target_clf'\n",
    "    ]]\n",
    "df_final = df_final.dropna(subset=['Target','Target_clf','Perf5Day_n1'])"
   ]
  },
  {
   "cell_type": "code",
   "execution_count": 13,
   "metadata": {},
   "outputs": [
    {
     "data": {
      "text/plain": [
       "BigNewsDay      float64\n",
       "Quarter           int64\n",
       "Perf5Day           bool\n",
       "Perf5Day_n1        bool\n",
       "DaysGreen         int64\n",
       "DaysRed           int64\n",
       "CurrentGap      float64\n",
       "RangePct        float64\n",
       "RangePct_n1     float64\n",
       "RangePct_n2     float64\n",
       "OHLC4_VIX       float64\n",
       "OHLC4_VIX_n1    float64\n",
       "OHLC4_VIX_n2    float64\n",
       "Target          float64\n",
       "dtype: object"
      ]
     },
     "execution_count": 13,
     "metadata": {},
     "output_type": "execute_result"
    }
   ],
   "source": [
    "df_final.drop(columns=['Target_clf']).dtypes"
   ]
  },
  {
   "cell_type": "markdown",
   "metadata": {},
   "source": [
    "# Regression Model"
   ]
  },
  {
   "cell_type": "code",
   "execution_count": 14,
   "metadata": {},
   "outputs": [
    {
     "data": {
      "text/plain": [
       "BigNewsDay      0\n",
       "Quarter         0\n",
       "Perf5Day        0\n",
       "Perf5Day_n1     0\n",
       "DaysGreen       0\n",
       "DaysRed         0\n",
       "CurrentGap      0\n",
       "RangePct        0\n",
       "RangePct_n1     1\n",
       "RangePct_n2     2\n",
       "OHLC4_VIX       0\n",
       "OHLC4_VIX_n1    1\n",
       "OHLC4_VIX_n2    2\n",
       "Target          0\n",
       "dtype: int64"
      ]
     },
     "execution_count": 14,
     "metadata": {},
     "output_type": "execute_result"
    }
   ],
   "source": [
    "df_final.drop(columns=['Target_clf']).isnull().sum()"
   ]
  },
  {
   "cell_type": "code",
   "execution_count": 15,
   "metadata": {},
   "outputs": [
    {
     "data": {
      "text/html": [
       "<div>\n",
       "<style scoped>\n",
       "    .dataframe tbody tr th:only-of-type {\n",
       "        vertical-align: middle;\n",
       "    }\n",
       "\n",
       "    .dataframe tbody tr th {\n",
       "        vertical-align: top;\n",
       "    }\n",
       "\n",
       "    .dataframe thead th {\n",
       "        text-align: right;\n",
       "    }\n",
       "</style>\n",
       "<table border=\"1\" class=\"dataframe\">\n",
       "  <thead>\n",
       "    <tr style=\"text-align: right;\">\n",
       "      <th></th>\n",
       "      <th>BigNewsDay</th>\n",
       "      <th>Quarter</th>\n",
       "      <th>Perf5Day</th>\n",
       "      <th>Perf5Day_n1</th>\n",
       "      <th>DaysGreen</th>\n",
       "      <th>DaysRed</th>\n",
       "      <th>CurrentGap</th>\n",
       "      <th>RangePct</th>\n",
       "      <th>RangePct_n1</th>\n",
       "      <th>RangePct_n2</th>\n",
       "      <th>OHLC4_VIX</th>\n",
       "      <th>OHLC4_VIX_n1</th>\n",
       "      <th>OHLC4_VIX_n2</th>\n",
       "      <th>Target</th>\n",
       "      <th>Target_clf</th>\n",
       "    </tr>\n",
       "    <tr>\n",
       "      <th>index</th>\n",
       "      <th></th>\n",
       "      <th></th>\n",
       "      <th></th>\n",
       "      <th></th>\n",
       "      <th></th>\n",
       "      <th></th>\n",
       "      <th></th>\n",
       "      <th></th>\n",
       "      <th></th>\n",
       "      <th></th>\n",
       "      <th></th>\n",
       "      <th></th>\n",
       "      <th></th>\n",
       "      <th></th>\n",
       "      <th></th>\n",
       "    </tr>\n",
       "  </thead>\n",
       "  <tbody>\n",
       "    <tr>\n",
       "      <th>2020-01-02</th>\n",
       "      <td>0.0</td>\n",
       "      <td>1</td>\n",
       "      <td>False</td>\n",
       "      <td>True</td>\n",
       "      <td>0</td>\n",
       "      <td>0</td>\n",
       "      <td>-0.009666</td>\n",
       "      <td>0.006940</td>\n",
       "      <td>NaN</td>\n",
       "      <td>NaN</td>\n",
       "      <td>13.0175</td>\n",
       "      <td>NaN</td>\n",
       "      <td>NaN</td>\n",
       "      <td>-0.007804</td>\n",
       "      <td>False</td>\n",
       "    </tr>\n",
       "    <tr>\n",
       "      <th>2020-01-03</th>\n",
       "      <td>0.0</td>\n",
       "      <td>1</td>\n",
       "      <td>False</td>\n",
       "      <td>False</td>\n",
       "      <td>0</td>\n",
       "      <td>1</td>\n",
       "      <td>-0.005348</td>\n",
       "      <td>0.007360</td>\n",
       "      <td>0.006940</td>\n",
       "      <td>NaN</td>\n",
       "      <td>14.5900</td>\n",
       "      <td>13.0175</td>\n",
       "      <td>NaN</td>\n",
       "      <td>-0.001089</td>\n",
       "      <td>True</td>\n",
       "    </tr>\n",
       "    <tr>\n",
       "      <th>2020-01-06</th>\n",
       "      <td>0.0</td>\n",
       "      <td>1</td>\n",
       "      <td>False</td>\n",
       "      <td>False</td>\n",
       "      <td>1</td>\n",
       "      <td>0</td>\n",
       "      <td>-0.001362</td>\n",
       "      <td>0.009919</td>\n",
       "      <td>0.007360</td>\n",
       "      <td>0.006940</td>\n",
       "      <td>14.8075</td>\n",
       "      <td>14.5900</td>\n",
       "      <td>13.0175</td>\n",
       "      <td>-0.002213</td>\n",
       "      <td>False</td>\n",
       "    </tr>\n",
       "    <tr>\n",
       "      <th>2020-01-07</th>\n",
       "      <td>1.0</td>\n",
       "      <td>1</td>\n",
       "      <td>False</td>\n",
       "      <td>False</td>\n",
       "      <td>0</td>\n",
       "      <td>1</td>\n",
       "      <td>0.000436</td>\n",
       "      <td>0.003855</td>\n",
       "      <td>0.009919</td>\n",
       "      <td>0.007360</td>\n",
       "      <td>13.8700</td>\n",
       "      <td>14.8075</td>\n",
       "      <td>14.5900</td>\n",
       "      <td>0.003603</td>\n",
       "      <td>True</td>\n",
       "    </tr>\n",
       "    <tr>\n",
       "      <th>2020-01-08</th>\n",
       "      <td>1.0</td>\n",
       "      <td>1</td>\n",
       "      <td>False</td>\n",
       "      <td>False</td>\n",
       "      <td>1</td>\n",
       "      <td>0</td>\n",
       "      <td>0.003990</td>\n",
       "      <td>0.009345</td>\n",
       "      <td>0.003855</td>\n",
       "      <td>0.009919</td>\n",
       "      <td>14.1700</td>\n",
       "      <td>13.8700</td>\n",
       "      <td>14.8075</td>\n",
       "      <td>0.005209</td>\n",
       "      <td>True</td>\n",
       "    </tr>\n",
       "    <tr>\n",
       "      <th>...</th>\n",
       "      <td>...</td>\n",
       "      <td>...</td>\n",
       "      <td>...</td>\n",
       "      <td>...</td>\n",
       "      <td>...</td>\n",
       "      <td>...</td>\n",
       "      <td>...</td>\n",
       "      <td>...</td>\n",
       "      <td>...</td>\n",
       "      <td>...</td>\n",
       "      <td>...</td>\n",
       "      <td>...</td>\n",
       "      <td>...</td>\n",
       "      <td>...</td>\n",
       "      <td>...</td>\n",
       "    </tr>\n",
       "    <tr>\n",
       "      <th>2023-07-03</th>\n",
       "      <td>0.0</td>\n",
       "      <td>3</td>\n",
       "      <td>True</td>\n",
       "      <td>True</td>\n",
       "      <td>3</td>\n",
       "      <td>0</td>\n",
       "      <td>-0.003041</td>\n",
       "      <td>0.003180</td>\n",
       "      <td>0.008098</td>\n",
       "      <td>0.006009</td>\n",
       "      <td>13.6850</td>\n",
       "      <td>13.4125</td>\n",
       "      <td>13.6100</td>\n",
       "      <td>-0.002403</td>\n",
       "      <td>False</td>\n",
       "    </tr>\n",
       "    <tr>\n",
       "      <th>2023-07-05</th>\n",
       "      <td>1.0</td>\n",
       "      <td>3</td>\n",
       "      <td>True</td>\n",
       "      <td>True</td>\n",
       "      <td>0</td>\n",
       "      <td>1</td>\n",
       "      <td>-0.005442</td>\n",
       "      <td>0.003924</td>\n",
       "      <td>0.003180</td>\n",
       "      <td>0.008098</td>\n",
       "      <td>14.2900</td>\n",
       "      <td>13.6850</td>\n",
       "      <td>13.4125</td>\n",
       "      <td>-0.008174</td>\n",
       "      <td>False</td>\n",
       "    </tr>\n",
       "    <tr>\n",
       "      <th>2023-07-06</th>\n",
       "      <td>1.0</td>\n",
       "      <td>3</td>\n",
       "      <td>True</td>\n",
       "      <td>True</td>\n",
       "      <td>0</td>\n",
       "      <td>2</td>\n",
       "      <td>-0.001598</td>\n",
       "      <td>0.008516</td>\n",
       "      <td>0.003924</td>\n",
       "      <td>0.003180</td>\n",
       "      <td>15.5400</td>\n",
       "      <td>14.2900</td>\n",
       "      <td>13.6850</td>\n",
       "      <td>-0.000288</td>\n",
       "      <td>False</td>\n",
       "    </tr>\n",
       "    <tr>\n",
       "      <th>2023-07-07</th>\n",
       "      <td>0.0</td>\n",
       "      <td>3</td>\n",
       "      <td>True</td>\n",
       "      <td>True</td>\n",
       "      <td>0</td>\n",
       "      <td>3</td>\n",
       "      <td>-0.001073</td>\n",
       "      <td>0.009773</td>\n",
       "      <td>0.008516</td>\n",
       "      <td>0.003924</td>\n",
       "      <td>15.2975</td>\n",
       "      <td>15.5400</td>\n",
       "      <td>14.2900</td>\n",
       "      <td>0.000596</td>\n",
       "      <td>True</td>\n",
       "    </tr>\n",
       "    <tr>\n",
       "      <th>2023-07-10</th>\n",
       "      <td>0.0</td>\n",
       "      <td>3</td>\n",
       "      <td>False</td>\n",
       "      <td>True</td>\n",
       "      <td>1</td>\n",
       "      <td>0</td>\n",
       "      <td>0.001365</td>\n",
       "      <td>0.005143</td>\n",
       "      <td>0.009773</td>\n",
       "      <td>0.008516</td>\n",
       "      <td>15.6000</td>\n",
       "      <td>15.2975</td>\n",
       "      <td>15.5400</td>\n",
       "      <td>0.003900</td>\n",
       "      <td>True</td>\n",
       "    </tr>\n",
       "  </tbody>\n",
       "</table>\n",
       "<p>885 rows × 15 columns</p>\n",
       "</div>"
      ],
      "text/plain": [
       "            BigNewsDay  Quarter  Perf5Day  Perf5Day_n1  DaysGreen  DaysRed  \\\n",
       "index                                                                        \n",
       "2020-01-02         0.0        1     False         True          0        0   \n",
       "2020-01-03         0.0        1     False        False          0        1   \n",
       "2020-01-06         0.0        1     False        False          1        0   \n",
       "2020-01-07         1.0        1     False        False          0        1   \n",
       "2020-01-08         1.0        1     False        False          1        0   \n",
       "...                ...      ...       ...          ...        ...      ...   \n",
       "2023-07-03         0.0        3      True         True          3        0   \n",
       "2023-07-05         1.0        3      True         True          0        1   \n",
       "2023-07-06         1.0        3      True         True          0        2   \n",
       "2023-07-07         0.0        3      True         True          0        3   \n",
       "2023-07-10         0.0        3     False         True          1        0   \n",
       "\n",
       "            CurrentGap  RangePct  RangePct_n1  RangePct_n2  OHLC4_VIX  \\\n",
       "index                                                                   \n",
       "2020-01-02   -0.009666  0.006940          NaN          NaN    13.0175   \n",
       "2020-01-03   -0.005348  0.007360     0.006940          NaN    14.5900   \n",
       "2020-01-06   -0.001362  0.009919     0.007360     0.006940    14.8075   \n",
       "2020-01-07    0.000436  0.003855     0.009919     0.007360    13.8700   \n",
       "2020-01-08    0.003990  0.009345     0.003855     0.009919    14.1700   \n",
       "...                ...       ...          ...          ...        ...   \n",
       "2023-07-03   -0.003041  0.003180     0.008098     0.006009    13.6850   \n",
       "2023-07-05   -0.005442  0.003924     0.003180     0.008098    14.2900   \n",
       "2023-07-06   -0.001598  0.008516     0.003924     0.003180    15.5400   \n",
       "2023-07-07   -0.001073  0.009773     0.008516     0.003924    15.2975   \n",
       "2023-07-10    0.001365  0.005143     0.009773     0.008516    15.6000   \n",
       "\n",
       "            OHLC4_VIX_n1  OHLC4_VIX_n2    Target Target_clf  \n",
       "index                                                        \n",
       "2020-01-02           NaN           NaN -0.007804      False  \n",
       "2020-01-03       13.0175           NaN -0.001089       True  \n",
       "2020-01-06       14.5900       13.0175 -0.002213      False  \n",
       "2020-01-07       14.8075       14.5900  0.003603       True  \n",
       "2020-01-08       13.8700       14.8075  0.005209       True  \n",
       "...                  ...           ...       ...        ...  \n",
       "2023-07-03       13.4125       13.6100 -0.002403      False  \n",
       "2023-07-05       13.6850       13.4125 -0.008174      False  \n",
       "2023-07-06       14.2900       13.6850 -0.000288      False  \n",
       "2023-07-07       15.5400       14.2900  0.000596       True  \n",
       "2023-07-10       15.2975       15.5400  0.003900       True  \n",
       "\n",
       "[885 rows x 15 columns]"
      ]
     },
     "execution_count": 15,
     "metadata": {},
     "output_type": "execute_result"
    }
   ],
   "source": [
    "df_final"
   ]
  },
  {
   "cell_type": "code",
   "execution_count": 16,
   "metadata": {},
   "outputs": [
    {
     "name": "stderr",
     "output_type": "stream",
     "text": [
      "100%|██████████| 783/783 [00:01<00:00, 409.79it/s]\n"
     ]
    }
   ],
   "source": [
    "res, xgbr = walk_forward_validation(df_final.drop(columns=['Target_clf']).dropna(), 'Target', 100, 1)"
   ]
  },
  {
   "cell_type": "code",
   "execution_count": 17,
   "metadata": {},
   "outputs": [
    {
     "data": {
      "text/html": [
       "<div>\n",
       "<style scoped>\n",
       "    .dataframe tbody tr th:only-of-type {\n",
       "        vertical-align: middle;\n",
       "    }\n",
       "\n",
       "    .dataframe tbody tr th {\n",
       "        vertical-align: top;\n",
       "    }\n",
       "\n",
       "    .dataframe thead th {\n",
       "        text-align: right;\n",
       "    }\n",
       "</style>\n",
       "<table border=\"1\" class=\"dataframe\">\n",
       "  <thead>\n",
       "    <tr style=\"text-align: right;\">\n",
       "      <th></th>\n",
       "      <th>True</th>\n",
       "      <th>Predicted</th>\n",
       "    </tr>\n",
       "    <tr>\n",
       "      <th>index</th>\n",
       "      <th></th>\n",
       "      <th></th>\n",
       "    </tr>\n",
       "  </thead>\n",
       "  <tbody>\n",
       "    <tr>\n",
       "      <th>2020-05-29</th>\n",
       "      <td>0.000902</td>\n",
       "      <td>-0.004820</td>\n",
       "    </tr>\n",
       "    <tr>\n",
       "      <th>2020-06-01</th>\n",
       "      <td>0.004532</td>\n",
       "      <td>0.002347</td>\n",
       "    </tr>\n",
       "    <tr>\n",
       "      <th>2020-06-02</th>\n",
       "      <td>0.010414</td>\n",
       "      <td>0.006996</td>\n",
       "    </tr>\n",
       "    <tr>\n",
       "      <th>2020-06-03</th>\n",
       "      <td>-0.003863</td>\n",
       "      <td>-0.004339</td>\n",
       "    </tr>\n",
       "    <tr>\n",
       "      <th>2020-06-04</th>\n",
       "      <td>0.022807</td>\n",
       "      <td>0.022731</td>\n",
       "    </tr>\n",
       "    <tr>\n",
       "      <th>...</th>\n",
       "      <td>...</td>\n",
       "      <td>...</td>\n",
       "    </tr>\n",
       "    <tr>\n",
       "      <th>2023-07-03</th>\n",
       "      <td>-0.002403</td>\n",
       "      <td>-0.004432</td>\n",
       "    </tr>\n",
       "    <tr>\n",
       "      <th>2023-07-05</th>\n",
       "      <td>-0.008174</td>\n",
       "      <td>-0.007064</td>\n",
       "    </tr>\n",
       "    <tr>\n",
       "      <th>2023-07-06</th>\n",
       "      <td>-0.000288</td>\n",
       "      <td>-0.001632</td>\n",
       "    </tr>\n",
       "    <tr>\n",
       "      <th>2023-07-07</th>\n",
       "      <td>0.000596</td>\n",
       "      <td>-0.001092</td>\n",
       "    </tr>\n",
       "    <tr>\n",
       "      <th>2023-07-10</th>\n",
       "      <td>0.003900</td>\n",
       "      <td>0.001262</td>\n",
       "    </tr>\n",
       "  </tbody>\n",
       "</table>\n",
       "<p>783 rows × 2 columns</p>\n",
       "</div>"
      ],
      "text/plain": [
       "                True  Predicted\n",
       "index                          \n",
       "2020-05-29  0.000902  -0.004820\n",
       "2020-06-01  0.004532   0.002347\n",
       "2020-06-02  0.010414   0.006996\n",
       "2020-06-03 -0.003863  -0.004339\n",
       "2020-06-04  0.022807   0.022731\n",
       "...              ...        ...\n",
       "2023-07-03 -0.002403  -0.004432\n",
       "2023-07-05 -0.008174  -0.007064\n",
       "2023-07-06 -0.000288  -0.001632\n",
       "2023-07-07  0.000596  -0.001092\n",
       "2023-07-10  0.003900   0.001262\n",
       "\n",
       "[783 rows x 2 columns]"
      ]
     },
     "execution_count": 17,
     "metadata": {},
     "output_type": "execute_result"
    }
   ],
   "source": [
    "res"
   ]
  },
  {
   "cell_type": "code",
   "execution_count": 18,
   "metadata": {},
   "outputs": [
    {
     "data": {
      "text/plain": [
       "243.07991803803318"
      ]
     },
     "execution_count": 18,
     "metadata": {},
     "output_type": "execute_result"
    }
   ],
   "source": [
    "from sklearn.metrics import mean_squared_error, mean_absolute_error\n",
    "\n",
    "def mean_absolute_percentage_error(y_true, y_pred): \n",
    "    \"\"\"Calculates MAPE given y_true and y_pred\"\"\"\n",
    "    y_true, y_pred = np.array(y_true), np.array(y_pred)\n",
    "    return np.mean(np.abs((y_true - y_pred) / y_true)) * 100\n",
    "\n",
    "mean_absolute_percentage_error(y_true=res['True'],\n",
    "                   y_pred=res['Predicted'])"
   ]
  },
  {
   "cell_type": "code",
   "execution_count": 19,
   "metadata": {},
   "outputs": [
    {
     "data": {
      "text/plain": [
       "0.3695734035732592"
      ]
     },
     "execution_count": 19,
     "metadata": {},
     "output_type": "execute_result"
    }
   ],
   "source": [
    "mean_absolute_error(y_true=res['True'],\n",
    "                   y_pred=res['Predicted']) * 100"
   ]
  },
  {
   "cell_type": "code",
   "execution_count": 20,
   "metadata": {},
   "outputs": [
    {
     "data": {
      "text/plain": [
       "<AxesSubplot:xlabel='index'>"
      ]
     },
     "execution_count": 20,
     "metadata": {},
     "output_type": "execute_result"
    },
    {
     "data": {
      "image/png": "[encoded data removed]",
      "text/plain": [
       "<Figure size 432x288 with 1 Axes>"
      ]
     },
     "metadata": {
      "needs_background": "light"
     },
     "output_type": "display_data"
    }
   ],
   "source": [
    "res.plot()"
   ]
  },
  {
   "cell_type": "code",
   "execution_count": 21,
   "metadata": {},
   "outputs": [],
   "source": [
    "# import matplotlib.pyplot as plt\n",
    "# fig, ax = plt.subplots(figsize=(10, 8))\n",
    "# xgb.plot_importance(xgbr, importance_type='weight', ax=ax)"
   ]
  },
  {
   "cell_type": "code",
   "execution_count": 22,
   "metadata": {},
   "outputs": [
    {
     "data": {
      "text/plain": [
       "0.6963882618510158"
      ]
     },
     "execution_count": 22,
     "metadata": {},
     "output_type": "execute_result"
    }
   ],
   "source": [
    "np.mean(data['CurrentGap'].abs()>0.0015)"
   ]
  },
  {
   "cell_type": "code",
   "execution_count": 23,
   "metadata": {},
   "outputs": [],
   "source": [
    "df_compare_reg = df_final.drop(columns=['Target','Target_clf']).merge(res, left_index=True, right_index=True)\n",
    "df_compare_reg = df_compare_reg.merge(data[['PrevClose','High','Low','Close']], left_index=True, right_index=True)"
   ]
  },
  {
   "cell_type": "code",
   "execution_count": 24,
   "metadata": {},
   "outputs": [],
   "source": [
    "# How often was the predicted OHLC4 within the current day's range?\n",
    "df_compare_reg['PredOHLC4'] = df_compare_reg['Predicted'].shift(1)\n",
    "df_compare_reg['PredOHLC4'] = (1 + df_compare_reg['PredOHLC4']) * df_compare_reg['PrevClose']"
   ]
  },
  {
   "cell_type": "code",
   "execution_count": 25,
   "metadata": {},
   "outputs": [],
   "source": [
    "df_compare_reg['InRange'] = (df_compare_reg['PredOHLC4'] <= df_compare_reg['High']) & (df_compare_reg['PredOHLC4'] >= df_compare_reg['Low'])"
   ]
  },
  {
   "cell_type": "code",
   "execution_count": 26,
   "metadata": {},
   "outputs": [
    {
     "data": {
      "text/plain": [
       "0.9080459770114943"
      ]
     },
     "execution_count": 26,
     "metadata": {},
     "output_type": "execute_result"
    }
   ],
   "source": [
    "df_compare_reg['InRange'].mean()"
   ]
  },
  {
   "cell_type": "code",
   "execution_count": 27,
   "metadata": {},
   "outputs": [],
   "source": [
    "from sklearn.metrics import roc_auc_score, precision_score, recall_score, PrecisionRecallDisplay\n",
    "\n",
    "# When the predicted OHLC4 was positive, how often was it a green day?\n",
    "df_compare_reg['PredDirection'] = df_compare_reg['Predicted'] > 0\n",
    "# df_compare_reg['PredDirection'] = df_compare_reg['PredDirection'].shift(1)\n",
    "df_compare_reg['ActualDirection'] = df_compare_reg['Close'] > df_compare_reg['PrevClose']\n",
    "df_compare_reg['ActualDirection'] = df_compare_reg['ActualDirection'].shift(-1)"
   ]
  },
  {
   "cell_type": "code",
   "execution_count": 28,
   "metadata": {},
   "outputs": [
    {
     "data": {
      "text/html": [
       "<div>\n",
       "<style scoped>\n",
       "    .dataframe tbody tr th:only-of-type {\n",
       "        vertical-align: middle;\n",
       "    }\n",
       "\n",
       "    .dataframe tbody tr th {\n",
       "        vertical-align: top;\n",
       "    }\n",
       "\n",
       "    .dataframe thead th {\n",
       "        text-align: right;\n",
       "    }\n",
       "</style>\n",
       "<table border=\"1\" class=\"dataframe\">\n",
       "  <thead>\n",
       "    <tr style=\"text-align: right;\">\n",
       "      <th>PredDirection</th>\n",
       "      <th>False</th>\n",
       "      <th>True</th>\n",
       "    </tr>\n",
       "    <tr>\n",
       "      <th>ActualDirection</th>\n",
       "      <th></th>\n",
       "      <th></th>\n",
       "    </tr>\n",
       "  </thead>\n",
       "  <tbody>\n",
       "    <tr>\n",
       "      <th>False</th>\n",
       "      <td>259</td>\n",
       "      <td>114</td>\n",
       "    </tr>\n",
       "    <tr>\n",
       "      <th>True</th>\n",
       "      <td>116</td>\n",
       "      <td>293</td>\n",
       "    </tr>\n",
       "  </tbody>\n",
       "</table>\n",
       "</div>"
      ],
      "text/plain": [
       "PredDirection    False  True\n",
       "ActualDirection             \n",
       "False              259   114\n",
       "True               116   293"
      ]
     },
     "execution_count": 28,
     "metadata": {},
     "output_type": "execute_result"
    }
   ],
   "source": [
    "df_compare_reg.pivot_table(columns='PredDirection', index='ActualDirection', values='Close', aggfunc='count')"
   ]
  },
  {
   "cell_type": "code",
   "execution_count": 29,
   "metadata": {},
   "outputs": [
    {
     "name": "stdout",
     "output_type": "stream",
     "text": [
      "0.705375695641629\n",
      "0.7199017199017199\n",
      "0.7163814180929096\n"
     ]
    }
   ],
   "source": [
    "compare_ohlc4_model = df_compare_reg.dropna(subset=['PredDirection','ActualDirection'])\n",
    "print(roc_auc_score(compare_ohlc4_model['ActualDirection'].astype(int), compare_ohlc4_model['PredDirection'].astype(int)))\n",
    "print(precision_score(compare_ohlc4_model['ActualDirection'].astype(int), compare_ohlc4_model['PredDirection'].astype(int)))\n",
    "print(recall_score(compare_ohlc4_model['ActualDirection'].astype(int), compare_ohlc4_model['PredDirection'].astype(int)))"
   ]
  },
  {
   "cell_type": "markdown",
   "metadata": {},
   "source": [
    "# Classification Model"
   ]
  },
  {
   "cell_type": "code",
   "execution_count": 30,
   "metadata": {},
   "outputs": [
    {
     "data": {
      "text/plain": [
       "BigNewsDay      0\n",
       "Quarter         0\n",
       "Perf5Day        0\n",
       "Perf5Day_n1     0\n",
       "DaysGreen       0\n",
       "DaysRed         0\n",
       "CurrentGap      0\n",
       "RangePct        0\n",
       "RangePct_n1     1\n",
       "RangePct_n2     2\n",
       "OHLC4_VIX       0\n",
       "OHLC4_VIX_n1    1\n",
       "OHLC4_VIX_n2    2\n",
       "Target_clf      0\n",
       "dtype: int64"
      ]
     },
     "execution_count": 30,
     "metadata": {},
     "output_type": "execute_result"
    }
   ],
   "source": [
    "df_final.drop(columns=['Target']).isnull().sum()"
   ]
  },
  {
   "cell_type": "code",
   "execution_count": 31,
   "metadata": {},
   "outputs": [],
   "source": [
    "df_final['Target_clf'] = df_final['Target_clf'].astype(bool)"
   ]
  },
  {
   "cell_type": "code",
   "execution_count": 32,
   "metadata": {},
   "outputs": [
    {
     "name": "stderr",
     "output_type": "stream",
     "text": [
      "100%|██████████| 783/783 [00:07<00:00, 98.81it/s] \n"
     ]
    }
   ],
   "source": [
    "res1, xgbc = walk_forward_validation_clf(df_final.drop(columns=['Target']).dropna(), 'Target_clf', 100, 1)"
   ]
  },
  {
   "cell_type": "code",
   "execution_count": 33,
   "metadata": {},
   "outputs": [
    {
     "name": "stdout",
     "output_type": "stream",
     "text": [
      "0.7302949061662197\n",
      "0.6822429906542056\n",
      "0.7121951219512195\n"
     ]
    }
   ],
   "source": [
    "from sklearn.metrics import roc_auc_score, precision_score, recall_score, PrecisionRecallDisplay\n",
    "print(roc_auc_score(res1['True'].astype(int), res1['Predicted'].values))\n",
    "print(precision_score(res1['True'].astype(int), res1['Predicted'] > 0.5))\n",
    "print(recall_score(res1['True'].astype(int), res1['Predicted'] > 0.5))\n",
    "# print(roc_auc_score(res1['True'].astype(int), res1['Predicted'].values))"
   ]
  },
  {
   "cell_type": "code",
   "execution_count": 34,
   "metadata": {},
   "outputs": [
    {
     "data": {
      "text/plain": [
       "0.5236270753512133"
      ]
     },
     "execution_count": 34,
     "metadata": {},
     "output_type": "execute_result"
    }
   ],
   "source": [
    "res1['True'].mean()"
   ]
  },
  {
   "cell_type": "code",
   "execution_count": 35,
   "metadata": {},
   "outputs": [
    {
     "data": {
      "text/plain": [
       "<sklearn.metrics._plot.precision_recall_curve.PrecisionRecallDisplay at 0x1501f10cf40>"
      ]
     },
     "execution_count": 35,
     "metadata": {},
     "output_type": "execute_result"
    },
    {
     "data": {
      "image/png": "[encoded data removed]",
      "text/plain": [
       "<Figure size 432x288 with 1 Axes>"
      ]
     },
     "metadata": {
      "needs_background": "light"
     },
     "output_type": "display_data"
    }
   ],
   "source": [
    "PrecisionRecallDisplay.from_predictions(res1['True'].astype(int), res1['Predicted'].values)"
   ]
  },
  {
   "cell_type": "code",
   "execution_count": 36,
   "metadata": {},
   "outputs": [
    {
     "data": {
      "text/plain": [
       "<AxesSubplot:title={'center':'Feature importance'}, xlabel='F score', ylabel='Features'>"
      ]
     },
     "execution_count": 36,
     "metadata": {},
     "output_type": "execute_result"
    },
    {
     "data": {
      "image/png": "[encoded data removed]",
      "text/plain": [
       "<Figure size 720x576 with 1 Axes>"
      ]
     },
     "metadata": {
      "needs_background": "light"
     },
     "output_type": "display_data"
    }
   ],
   "source": [
    "import matplotlib.pyplot as plt\n",
    "fig, ax = plt.subplots(figsize=(10, 8))\n",
    "xgb.plot_importance(xgbc, importance_type='gain', ax=ax)"
   ]
  },
  {
   "cell_type": "code",
   "execution_count": 37,
   "metadata": {},
   "outputs": [],
   "source": [
    "df_compare = df_final.drop(columns=['Target','Target_clf']).merge(res1, left_index=True, right_index=True)\n",
    "\n",
    "# What do these false positives look like?\n",
    "# false_pos = df_compare.loc[(df_compare['True'] == False) & (df_compare['Predicted'] > 0.5)]"
   ]
  },
  {
   "cell_type": "code",
   "execution_count": 38,
   "metadata": {},
   "outputs": [],
   "source": [
    "# Label fp, tp, fn, tn\n",
    "def label_type(actual, pred):\n",
    "    if actual == True and pred > 0.5:\n",
    "        return 'TP'\n",
    "    elif actual == False and pred > 0.5:\n",
    "        return 'FP'\n",
    "    elif actual == False and pred <= 0.5:\n",
    "        return 'TN'\n",
    "    elif actual == True and pred <= 0.5:\n",
    "        return 'FN'\n",
    "\n",
    "df_compare['label_type'] = [label_type(actual, pred) for actual, pred in zip(df_compare['True'],df_compare['Predicted'])]"
   ]
  },
  {
   "cell_type": "code",
   "execution_count": 39,
   "metadata": {},
   "outputs": [
    {
     "data": {
      "text/plain": [
       "label_type\n",
       "FN    118\n",
       "FP    136\n",
       "TN    237\n",
       "TP    292\n",
       "Name: True, dtype: int64"
      ]
     },
     "execution_count": 39,
     "metadata": {},
     "output_type": "execute_result"
    }
   ],
   "source": [
    "df_compare.groupby('label_type')['True'].count()"
   ]
  },
  {
   "cell_type": "code",
   "execution_count": 40,
   "metadata": {},
   "outputs": [
    {
     "data": {
      "text/plain": [
       "0.7347931873479319"
      ]
     },
     "execution_count": 40,
     "metadata": {},
     "output_type": "execute_result"
    }
   ],
   "source": [
    "302 / (302 + 109)"
   ]
  },
  {
   "cell_type": "code",
   "execution_count": 41,
   "metadata": {},
   "outputs": [
    {
     "data": {
      "text/plain": [
       "0.7131367292225201"
      ]
     },
     "execution_count": 41,
     "metadata": {},
     "output_type": "execute_result"
    }
   ],
   "source": [
    "266 / (266 + 107)"
   ]
  },
  {
   "cell_type": "code",
   "execution_count": 42,
   "metadata": {},
   "outputs": [],
   "source": [
    "df_compare_clf = df_final.drop(columns=['Target','Target_clf']).merge(res1, left_index=True, right_index=True)\n",
    "df_compare_clf = df_compare_clf.merge(data[['PrevClose','High','Low','Close']], left_index=True, right_index=True)\n",
    "\n",
    "# When the predicted OHLC4 was positive, how often was it a green day?\n",
    "df_compare_clf['PredDirection'] = df_compare_clf['Predicted'] > 0.5\n",
    "# df_compare_reg['PredDirection'] = df_compare_reg['PredDirection'].shift(1)\n",
    "df_compare_clf['ActualDirection'] = df_compare_clf['Close'] > df_compare_clf['PrevClose']\n",
    "df_compare_clf['ActualDirection'] = df_compare_clf['ActualDirection'].shift(-1)"
   ]
  },
  {
   "cell_type": "code",
   "execution_count": 43,
   "metadata": {},
   "outputs": [
    {
     "data": {
      "text/html": [
       "<div>\n",
       "<style scoped>\n",
       "    .dataframe tbody tr th:only-of-type {\n",
       "        vertical-align: middle;\n",
       "    }\n",
       "\n",
       "    .dataframe tbody tr th {\n",
       "        vertical-align: top;\n",
       "    }\n",
       "\n",
       "    .dataframe thead th {\n",
       "        text-align: right;\n",
       "    }\n",
       "</style>\n",
       "<table border=\"1\" class=\"dataframe\">\n",
       "  <thead>\n",
       "    <tr style=\"text-align: right;\">\n",
       "      <th></th>\n",
       "      <th>BigNewsDay</th>\n",
       "      <th>Quarter</th>\n",
       "      <th>Perf5Day</th>\n",
       "      <th>Perf5Day_n1</th>\n",
       "      <th>DaysGreen</th>\n",
       "      <th>DaysRed</th>\n",
       "      <th>CurrentGap</th>\n",
       "      <th>RangePct</th>\n",
       "      <th>RangePct_n1</th>\n",
       "      <th>RangePct_n2</th>\n",
       "      <th>...</th>\n",
       "      <th>OHLC4_VIX_n1</th>\n",
       "      <th>OHLC4_VIX_n2</th>\n",
       "      <th>True</th>\n",
       "      <th>Predicted</th>\n",
       "      <th>PrevClose</th>\n",
       "      <th>High</th>\n",
       "      <th>Low</th>\n",
       "      <th>Close</th>\n",
       "      <th>PredDirection</th>\n",
       "      <th>ActualDirection</th>\n",
       "    </tr>\n",
       "    <tr>\n",
       "      <th>index</th>\n",
       "      <th></th>\n",
       "      <th></th>\n",
       "      <th></th>\n",
       "      <th></th>\n",
       "      <th></th>\n",
       "      <th></th>\n",
       "      <th></th>\n",
       "      <th></th>\n",
       "      <th></th>\n",
       "      <th></th>\n",
       "      <th></th>\n",
       "      <th></th>\n",
       "      <th></th>\n",
       "      <th></th>\n",
       "      <th></th>\n",
       "      <th></th>\n",
       "      <th></th>\n",
       "      <th></th>\n",
       "      <th></th>\n",
       "      <th></th>\n",
       "      <th></th>\n",
       "    </tr>\n",
       "  </thead>\n",
       "  <tbody>\n",
       "    <tr>\n",
       "      <th>2020-05-29</th>\n",
       "      <td>0.0</td>\n",
       "      <td>2</td>\n",
       "      <td>True</td>\n",
       "      <td>True</td>\n",
       "      <td>1</td>\n",
       "      <td>0</td>\n",
       "      <td>-0.001817</td>\n",
       "      <td>0.016608</td>\n",
       "      <td>0.014942</td>\n",
       "      <td>0.021903</td>\n",
       "      <td>...</td>\n",
       "      <td>28.4325</td>\n",
       "      <td>27.922501</td>\n",
       "      <td>True</td>\n",
       "      <td>0.132057</td>\n",
       "      <td>3029.729980</td>\n",
       "      <td>3049.169922</td>\n",
       "      <td>2998.610107</td>\n",
       "      <td>3044.310059</td>\n",
       "      <td>False</td>\n",
       "      <td>True</td>\n",
       "    </tr>\n",
       "    <tr>\n",
       "      <th>2020-06-01</th>\n",
       "      <td>0.0</td>\n",
       "      <td>2</td>\n",
       "      <td>True</td>\n",
       "      <td>True</td>\n",
       "      <td>2</td>\n",
       "      <td>0</td>\n",
       "      <td>0.002962</td>\n",
       "      <td>0.010027</td>\n",
       "      <td>0.016608</td>\n",
       "      <td>0.014942</td>\n",
       "      <td>...</td>\n",
       "      <td>28.5650</td>\n",
       "      <td>28.432500</td>\n",
       "      <td>True</td>\n",
       "      <td>0.501740</td>\n",
       "      <td>3044.310059</td>\n",
       "      <td>3062.179932</td>\n",
       "      <td>3031.540039</td>\n",
       "      <td>3055.729980</td>\n",
       "      <td>True</td>\n",
       "      <td>True</td>\n",
       "    </tr>\n",
       "    <tr>\n",
       "      <th>2020-06-02</th>\n",
       "      <td>1.0</td>\n",
       "      <td>2</td>\n",
       "      <td>True</td>\n",
       "      <td>True</td>\n",
       "      <td>3</td>\n",
       "      <td>0</td>\n",
       "      <td>0.005869</td>\n",
       "      <td>0.009553</td>\n",
       "      <td>0.010027</td>\n",
       "      <td>0.016608</td>\n",
       "      <td>...</td>\n",
       "      <td>28.9700</td>\n",
       "      <td>28.565000</td>\n",
       "      <td>True</td>\n",
       "      <td>0.775451</td>\n",
       "      <td>3055.729980</td>\n",
       "      <td>3081.070068</td>\n",
       "      <td>3051.639893</td>\n",
       "      <td>3080.820068</td>\n",
       "      <td>True</td>\n",
       "      <td>True</td>\n",
       "    </tr>\n",
       "    <tr>\n",
       "      <th>2020-06-03</th>\n",
       "      <td>1.0</td>\n",
       "      <td>2</td>\n",
       "      <td>True</td>\n",
       "      <td>True</td>\n",
       "      <td>4</td>\n",
       "      <td>0</td>\n",
       "      <td>-0.003622</td>\n",
       "      <td>0.010260</td>\n",
       "      <td>0.009553</td>\n",
       "      <td>0.010027</td>\n",
       "      <td>...</td>\n",
       "      <td>27.6050</td>\n",
       "      <td>28.970000</td>\n",
       "      <td>False</td>\n",
       "      <td>0.210541</td>\n",
       "      <td>3080.820068</td>\n",
       "      <td>3130.939941</td>\n",
       "      <td>3098.899902</td>\n",
       "      <td>3122.870117</td>\n",
       "      <td>False</td>\n",
       "      <td>False</td>\n",
       "    </tr>\n",
       "    <tr>\n",
       "      <th>2020-06-04</th>\n",
       "      <td>1.0</td>\n",
       "      <td>2</td>\n",
       "      <td>True</td>\n",
       "      <td>True</td>\n",
       "      <td>0</td>\n",
       "      <td>1</td>\n",
       "      <td>0.016544</td>\n",
       "      <td>0.012370</td>\n",
       "      <td>0.010260</td>\n",
       "      <td>0.009553</td>\n",
       "      <td>...</td>\n",
       "      <td>26.1075</td>\n",
       "      <td>27.605000</td>\n",
       "      <td>True</td>\n",
       "      <td>0.931074</td>\n",
       "      <td>3122.870117</td>\n",
       "      <td>3128.909912</td>\n",
       "      <td>3090.409912</td>\n",
       "      <td>3112.350098</td>\n",
       "      <td>True</td>\n",
       "      <td>True</td>\n",
       "    </tr>\n",
       "    <tr>\n",
       "      <th>...</th>\n",
       "      <td>...</td>\n",
       "      <td>...</td>\n",
       "      <td>...</td>\n",
       "      <td>...</td>\n",
       "      <td>...</td>\n",
       "      <td>...</td>\n",
       "      <td>...</td>\n",
       "      <td>...</td>\n",
       "      <td>...</td>\n",
       "      <td>...</td>\n",
       "      <td>...</td>\n",
       "      <td>...</td>\n",
       "      <td>...</td>\n",
       "      <td>...</td>\n",
       "      <td>...</td>\n",
       "      <td>...</td>\n",
       "      <td>...</td>\n",
       "      <td>...</td>\n",
       "      <td>...</td>\n",
       "      <td>...</td>\n",
       "      <td>...</td>\n",
       "    </tr>\n",
       "    <tr>\n",
       "      <th>2023-07-03</th>\n",
       "      <td>0.0</td>\n",
       "      <td>3</td>\n",
       "      <td>True</td>\n",
       "      <td>True</td>\n",
       "      <td>3</td>\n",
       "      <td>0</td>\n",
       "      <td>-0.003041</td>\n",
       "      <td>0.003180</td>\n",
       "      <td>0.008098</td>\n",
       "      <td>0.006009</td>\n",
       "      <td>...</td>\n",
       "      <td>13.4125</td>\n",
       "      <td>13.610000</td>\n",
       "      <td>False</td>\n",
       "      <td>0.165670</td>\n",
       "      <td>4450.379883</td>\n",
       "      <td>4456.459961</td>\n",
       "      <td>4442.290039</td>\n",
       "      <td>4455.589844</td>\n",
       "      <td>False</td>\n",
       "      <td>False</td>\n",
       "    </tr>\n",
       "    <tr>\n",
       "      <th>2023-07-05</th>\n",
       "      <td>1.0</td>\n",
       "      <td>3</td>\n",
       "      <td>True</td>\n",
       "      <td>True</td>\n",
       "      <td>0</td>\n",
       "      <td>1</td>\n",
       "      <td>-0.005442</td>\n",
       "      <td>0.003924</td>\n",
       "      <td>0.003180</td>\n",
       "      <td>0.008098</td>\n",
       "      <td>...</td>\n",
       "      <td>13.6850</td>\n",
       "      <td>13.412500</td>\n",
       "      <td>False</td>\n",
       "      <td>0.224789</td>\n",
       "      <td>4455.589844</td>\n",
       "      <td>4454.060059</td>\n",
       "      <td>4436.609863</td>\n",
       "      <td>4446.819824</td>\n",
       "      <td>False</td>\n",
       "      <td>False</td>\n",
       "    </tr>\n",
       "    <tr>\n",
       "      <th>2023-07-06</th>\n",
       "      <td>1.0</td>\n",
       "      <td>3</td>\n",
       "      <td>True</td>\n",
       "      <td>True</td>\n",
       "      <td>0</td>\n",
       "      <td>2</td>\n",
       "      <td>-0.001598</td>\n",
       "      <td>0.008516</td>\n",
       "      <td>0.003924</td>\n",
       "      <td>0.003180</td>\n",
       "      <td>...</td>\n",
       "      <td>14.2900</td>\n",
       "      <td>13.685000</td>\n",
       "      <td>False</td>\n",
       "      <td>0.597884</td>\n",
       "      <td>4446.819824</td>\n",
       "      <td>4422.620117</td>\n",
       "      <td>4385.049805</td>\n",
       "      <td>4411.589844</td>\n",
       "      <td>True</td>\n",
       "      <td>False</td>\n",
       "    </tr>\n",
       "    <tr>\n",
       "      <th>2023-07-07</th>\n",
       "      <td>0.0</td>\n",
       "      <td>3</td>\n",
       "      <td>True</td>\n",
       "      <td>True</td>\n",
       "      <td>0</td>\n",
       "      <td>3</td>\n",
       "      <td>-0.001073</td>\n",
       "      <td>0.009773</td>\n",
       "      <td>0.008516</td>\n",
       "      <td>0.003924</td>\n",
       "      <td>...</td>\n",
       "      <td>15.5400</td>\n",
       "      <td>14.290000</td>\n",
       "      <td>True</td>\n",
       "      <td>0.567142</td>\n",
       "      <td>4411.589844</td>\n",
       "      <td>4440.390137</td>\n",
       "      <td>4397.399902</td>\n",
       "      <td>4398.950195</td>\n",
       "      <td>True</td>\n",
       "      <td>True</td>\n",
       "    </tr>\n",
       "    <tr>\n",
       "      <th>2023-07-10</th>\n",
       "      <td>0.0</td>\n",
       "      <td>3</td>\n",
       "      <td>False</td>\n",
       "      <td>True</td>\n",
       "      <td>1</td>\n",
       "      <td>0</td>\n",
       "      <td>0.001365</td>\n",
       "      <td>0.005143</td>\n",
       "      <td>0.009773</td>\n",
       "      <td>0.008516</td>\n",
       "      <td>...</td>\n",
       "      <td>15.2975</td>\n",
       "      <td>15.540000</td>\n",
       "      <td>True</td>\n",
       "      <td>0.914306</td>\n",
       "      <td>4398.950195</td>\n",
       "      <td>4412.600098</td>\n",
       "      <td>4389.919922</td>\n",
       "      <td>4409.529785</td>\n",
       "      <td>True</td>\n",
       "      <td>NaN</td>\n",
       "    </tr>\n",
       "  </tbody>\n",
       "</table>\n",
       "<p>783 rows × 21 columns</p>\n",
       "</div>"
      ],
      "text/plain": [
       "            BigNewsDay  Quarter  Perf5Day  Perf5Day_n1  DaysGreen  DaysRed  \\\n",
       "index                                                                        \n",
       "2020-05-29         0.0        2      True         True          1        0   \n",
       "2020-06-01         0.0        2      True         True          2        0   \n",
       "2020-06-02         1.0        2      True         True          3        0   \n",
       "2020-06-03         1.0        2      True         True          4        0   \n",
       "2020-06-04         1.0        2      True         True          0        1   \n",
       "...                ...      ...       ...          ...        ...      ...   \n",
       "2023-07-03         0.0        3      True         True          3        0   \n",
       "2023-07-05         1.0        3      True         True          0        1   \n",
       "2023-07-06         1.0        3      True         True          0        2   \n",
       "2023-07-07         0.0        3      True         True          0        3   \n",
       "2023-07-10         0.0        3     False         True          1        0   \n",
       "\n",
       "            CurrentGap  RangePct  RangePct_n1  RangePct_n2  ...  OHLC4_VIX_n1  \\\n",
       "index                                                       ...                 \n",
       "2020-05-29   -0.001817  0.016608     0.014942     0.021903  ...       28.4325   \n",
       "2020-06-01    0.002962  0.010027     0.016608     0.014942  ...       28.5650   \n",
       "2020-06-02    0.005869  0.009553     0.010027     0.016608  ...       28.9700   \n",
       "2020-06-03   -0.003622  0.010260     0.009553     0.010027  ...       27.6050   \n",
       "2020-06-04    0.016544  0.012370     0.010260     0.009553  ...       26.1075   \n",
       "...                ...       ...          ...          ...  ...           ...   \n",
       "2023-07-03   -0.003041  0.003180     0.008098     0.006009  ...       13.4125   \n",
       "2023-07-05   -0.005442  0.003924     0.003180     0.008098  ...       13.6850   \n",
       "2023-07-06   -0.001598  0.008516     0.003924     0.003180  ...       14.2900   \n",
       "2023-07-07   -0.001073  0.009773     0.008516     0.003924  ...       15.5400   \n",
       "2023-07-10    0.001365  0.005143     0.009773     0.008516  ...       15.2975   \n",
       "\n",
       "            OHLC4_VIX_n2   True  Predicted    PrevClose         High  \\\n",
       "index                                                                  \n",
       "2020-05-29     27.922501   True   0.132057  3029.729980  3049.169922   \n",
       "2020-06-01     28.432500   True   0.501740  3044.310059  3062.179932   \n",
       "2020-06-02     28.565000   True   0.775451  3055.729980  3081.070068   \n",
       "2020-06-03     28.970000  False   0.210541  3080.820068  3130.939941   \n",
       "2020-06-04     27.605000   True   0.931074  3122.870117  3128.909912   \n",
       "...                  ...    ...        ...          ...          ...   \n",
       "2023-07-03     13.610000  False   0.165670  4450.379883  4456.459961   \n",
       "2023-07-05     13.412500  False   0.224789  4455.589844  4454.060059   \n",
       "2023-07-06     13.685000  False   0.597884  4446.819824  4422.620117   \n",
       "2023-07-07     14.290000   True   0.567142  4411.589844  4440.390137   \n",
       "2023-07-10     15.540000   True   0.914306  4398.950195  4412.600098   \n",
       "\n",
       "                    Low        Close  PredDirection  ActualDirection  \n",
       "index                                                                 \n",
       "2020-05-29  2998.610107  3044.310059          False             True  \n",
       "2020-06-01  3031.540039  3055.729980           True             True  \n",
       "2020-06-02  3051.639893  3080.820068           True             True  \n",
       "2020-06-03  3098.899902  3122.870117          False            False  \n",
       "2020-06-04  3090.409912  3112.350098           True             True  \n",
       "...                 ...          ...            ...              ...  \n",
       "2023-07-03  4442.290039  4455.589844          False            False  \n",
       "2023-07-05  4436.609863  4446.819824          False            False  \n",
       "2023-07-06  4385.049805  4411.589844           True            False  \n",
       "2023-07-07  4397.399902  4398.950195           True             True  \n",
       "2023-07-10  4389.919922  4409.529785           True              NaN  \n",
       "\n",
       "[783 rows x 21 columns]"
      ]
     },
     "execution_count": 43,
     "metadata": {},
     "output_type": "execute_result"
    }
   ],
   "source": [
    "df_compare_clf"
   ]
  },
  {
   "cell_type": "code",
   "execution_count": 44,
   "metadata": {},
   "outputs": [
    {
     "data": {
      "text/html": [
       "<div>\n",
       "<style scoped>\n",
       "    .dataframe tbody tr th:only-of-type {\n",
       "        vertical-align: middle;\n",
       "    }\n",
       "\n",
       "    .dataframe tbody tr th {\n",
       "        vertical-align: top;\n",
       "    }\n",
       "\n",
       "    .dataframe thead th {\n",
       "        text-align: right;\n",
       "    }\n",
       "</style>\n",
       "<table border=\"1\" class=\"dataframe\">\n",
       "  <thead>\n",
       "    <tr style=\"text-align: right;\">\n",
       "      <th>PredDirection</th>\n",
       "      <th>False</th>\n",
       "      <th>True</th>\n",
       "    </tr>\n",
       "    <tr>\n",
       "      <th>ActualDirection</th>\n",
       "      <th></th>\n",
       "      <th></th>\n",
       "    </tr>\n",
       "  </thead>\n",
       "  <tbody>\n",
       "    <tr>\n",
       "      <th>False</th>\n",
       "      <td>237</td>\n",
       "      <td>136</td>\n",
       "    </tr>\n",
       "    <tr>\n",
       "      <th>True</th>\n",
       "      <td>118</td>\n",
       "      <td>291</td>\n",
       "    </tr>\n",
       "  </tbody>\n",
       "</table>\n",
       "</div>"
      ],
      "text/plain": [
       "PredDirection    False  True\n",
       "ActualDirection             \n",
       "False              237   136\n",
       "True               118   291"
      ]
     },
     "execution_count": 44,
     "metadata": {},
     "output_type": "execute_result"
    }
   ],
   "source": [
    "df_compare_clf.pivot_table(columns='PredDirection', index='ActualDirection', values='Close', aggfunc='count')"
   ]
  },
  {
   "cell_type": "code",
   "execution_count": 45,
   "metadata": {},
   "outputs": [
    {
     "data": {
      "text/plain": [
       "0.6748166259168704"
      ]
     },
     "execution_count": 45,
     "metadata": {},
     "output_type": "execute_result"
    }
   ],
   "source": [
    "276 / (276 + 133)"
   ]
  },
  {
   "cell_type": "markdown",
   "metadata": {},
   "source": [
    "# New Prediction"
   ]
  },
  {
   "cell_type": "code",
   "execution_count": 46,
   "metadata": {},
   "outputs": [],
   "source": [
    "# Get last row\n",
    "new_pred = data.loc[final_row, ['BigNewsDay',\n",
    "    'Quarter',\n",
    "    'Perf5Day',\n",
    "    'Perf5Day_n1',    \n",
    "    'DaysGreen',    \n",
    "    'DaysRed',    \n",
    "    # 'OHLC4_Trend',    \n",
    "    # 'OHLC4_Trend_n1',    \n",
    "    # 'OHLC4_Trend_n2',    \n",
    "    # 'VIX5Day',\n",
    "    # 'VIX5Day_n1',\n",
    "    'CurrentGap',\n",
    "    'RangePct',\n",
    "    'RangePct_n1',\n",
    "    'RangePct_n2',\n",
    "    'OHLC4_VIX',\n",
    "    'OHLC4_VIX_n1',\n",
    "    'OHLC4_VIX_n2']]\n",
    "\n",
    "new_pred = pd.DataFrame(new_pred).T\n",
    "\n",
    "new_pred['BigNewsDay'] = new_pred['BigNewsDay'].astype(float)\n",
    "new_pred['Quarter'] = new_pred['Quarter'].astype(int)\n",
    "new_pred['Perf5Day'] = new_pred['Perf5Day'].astype(bool)\n",
    "new_pred['Perf5Day_n1'] = new_pred['Perf5Day_n1'].astype(bool)\n",
    "new_pred['DaysGreen'] = new_pred['DaysGreen'].astype(float)\n",
    "new_pred['DaysRed'] = new_pred['DaysRed'].astype(float)\n",
    "# new_pred['OHLC4_Trend'] = new_pred['OHLC4_Trend'].astype(float)\n",
    "# new_pred['OHLC4_Trend_n1'] = new_pred['OHLC4_Trend_n1'].astype(float)\n",
    "# new_pred['OHLC4_Trend_n2'] = new_pred['OHLC4_Trend_n2'].astype(float)\n",
    "# new_pred['VIX5Day'] = new_pred['VIX5Day'].astype(bool)\n",
    "# new_pred['VIX5Day_n1'] = new_pred['VIX5Day_n1'].astype(bool)\n",
    "new_pred['CurrentGap'] = new_pred['CurrentGap'].astype(float)\n",
    "new_pred['RangePct'] = new_pred['RangePct'].astype(float)\n",
    "new_pred['RangePct_n1'] = new_pred['RangePct_n1'].astype(float)\n",
    "new_pred['RangePct_n2'] = new_pred['RangePct_n2'].astype(float)\n",
    "new_pred['OHLC4_VIX'] = new_pred['OHLC4_VIX'].astype(float)\n",
    "new_pred['OHLC4_VIX_n1'] = new_pred['OHLC4_VIX_n1'].astype(float)\n",
    "new_pred['OHLC4_VIX_n2'] = new_pred['OHLC4_VIX_n2'].astype(float)\n",
    "\n",
    "# The only variable you can play with as the other ones are historical\n",
    "# new_pred.loc[:,'CurrentGap'] = -0.01 / 100\n",
    "# new_pred.loc[:,'BigNewsDay'] = 0"
   ]
  },
  {
   "cell_type": "code",
   "execution_count": 47,
   "metadata": {},
   "outputs": [
    {
     "data": {
      "text/plain": [
       "True             True\n",
       "Predicted    0.914306\n",
       "Name: 2023-07-10 00:00:00, dtype: object"
      ]
     },
     "execution_count": 47,
     "metadata": {},
     "output_type": "execute_result"
    }
   ],
   "source": [
    "res1.iloc[-1]"
   ]
  },
  {
   "cell_type": "code",
   "execution_count": 48,
   "metadata": {},
   "outputs": [
    {
     "data": {
      "text/html": [
       "<div>\n",
       "<style scoped>\n",
       "    .dataframe tbody tr th:only-of-type {\n",
       "        vertical-align: middle;\n",
       "    }\n",
       "\n",
       "    .dataframe tbody tr th {\n",
       "        vertical-align: top;\n",
       "    }\n",
       "\n",
       "    .dataframe thead th {\n",
       "        text-align: right;\n",
       "    }\n",
       "</style>\n",
       "<table border=\"1\" class=\"dataframe\">\n",
       "  <thead>\n",
       "    <tr style=\"text-align: right;\">\n",
       "      <th></th>\n",
       "      <th>2023-07-10</th>\n",
       "    </tr>\n",
       "  </thead>\n",
       "  <tbody>\n",
       "    <tr>\n",
       "      <th>BigNewsDay</th>\n",
       "      <td>0.0</td>\n",
       "    </tr>\n",
       "    <tr>\n",
       "      <th>Quarter</th>\n",
       "      <td>3</td>\n",
       "    </tr>\n",
       "    <tr>\n",
       "      <th>Perf5Day</th>\n",
       "      <td>False</td>\n",
       "    </tr>\n",
       "    <tr>\n",
       "      <th>Perf5Day_n1</th>\n",
       "      <td>True</td>\n",
       "    </tr>\n",
       "    <tr>\n",
       "      <th>DaysGreen</th>\n",
       "      <td>1.0</td>\n",
       "    </tr>\n",
       "    <tr>\n",
       "      <th>DaysRed</th>\n",
       "      <td>0.0</td>\n",
       "    </tr>\n",
       "    <tr>\n",
       "      <th>CurrentGap</th>\n",
       "      <td>0.001365</td>\n",
       "    </tr>\n",
       "    <tr>\n",
       "      <th>RangePct</th>\n",
       "      <td>0.005143</td>\n",
       "    </tr>\n",
       "    <tr>\n",
       "      <th>RangePct_n1</th>\n",
       "      <td>0.009773</td>\n",
       "    </tr>\n",
       "    <tr>\n",
       "      <th>RangePct_n2</th>\n",
       "      <td>0.008516</td>\n",
       "    </tr>\n",
       "    <tr>\n",
       "      <th>OHLC4_VIX</th>\n",
       "      <td>15.6</td>\n",
       "    </tr>\n",
       "    <tr>\n",
       "      <th>OHLC4_VIX_n1</th>\n",
       "      <td>15.2975</td>\n",
       "    </tr>\n",
       "    <tr>\n",
       "      <th>OHLC4_VIX_n2</th>\n",
       "      <td>15.54</td>\n",
       "    </tr>\n",
       "  </tbody>\n",
       "</table>\n",
       "</div>"
      ],
      "text/plain": [
       "             2023-07-10\n",
       "BigNewsDay          0.0\n",
       "Quarter               3\n",
       "Perf5Day          False\n",
       "Perf5Day_n1        True\n",
       "DaysGreen           1.0\n",
       "DaysRed             0.0\n",
       "CurrentGap     0.001365\n",
       "RangePct       0.005143\n",
       "RangePct_n1    0.009773\n",
       "RangePct_n2    0.008516\n",
       "OHLC4_VIX          15.6\n",
       "OHLC4_VIX_n1    15.2975\n",
       "OHLC4_VIX_n2      15.54"
      ]
     },
     "execution_count": 48,
     "metadata": {},
     "output_type": "execute_result"
    }
   ],
   "source": [
    "new_pred.T"
   ]
  },
  {
   "cell_type": "code",
   "execution_count": 49,
   "metadata": {},
   "outputs": [
    {
     "data": {
      "text/plain": [
       "array([ True])"
      ]
     },
     "execution_count": 49,
     "metadata": {},
     "output_type": "execute_result"
    }
   ],
   "source": [
    "xgbc.predict_proba(new_pred)[:,-1] > 0.5"
   ]
  },
  {
   "cell_type": "code",
   "execution_count": 50,
   "metadata": {},
   "outputs": [
    {
     "data": {
      "text/plain": [
       "array([0.91430634], dtype=float32)"
      ]
     },
     "execution_count": 50,
     "metadata": {},
     "output_type": "execute_result"
    }
   ],
   "source": [
    "xgbc.predict_proba(new_pred)[:,-1]"
   ]
  },
  {
   "cell_type": "code",
   "execution_count": 51,
   "metadata": {},
   "outputs": [
    {
     "data": {
      "text/plain": [
       "array([ True])"
      ]
     },
     "execution_count": 51,
     "metadata": {},
     "output_type": "execute_result"
    }
   ],
   "source": [
    "xgbr.predict(new_pred) > 0"
   ]
  },
  {
   "cell_type": "code",
   "execution_count": 52,
   "metadata": {},
   "outputs": [
    {
     "data": {
      "text/plain": [
       "RegModelOut  ClfModelOut_tf\n",
       "False        False             0.271478\n",
       "             True              0.433735\n",
       "True         False             0.603175\n",
       "             True              0.740525\n",
       "Name: ActualDirection, dtype: float64"
      ]
     },
     "execution_count": 52,
     "metadata": {},
     "output_type": "execute_result"
    }
   ],
   "source": [
    "df_ensemble = res[['Predicted']].merge(res1[['Predicted','True']], left_index=True, right_index=True)\n",
    "df_ensemble = df_ensemble.merge(data[['PrevClose','High','Low','Close']], left_index=True, right_index=True)\n",
    "df_ensemble['ActualDirection'] = df_ensemble['Close'] > df_ensemble['PrevClose']\n",
    "df_ensemble['ActualDirection'] = df_ensemble['ActualDirection'].shift(-1)\n",
    "\n",
    "df_ensemble.columns = ['RegModelOut','ClfModelOut','Target','PrevClose','High','Low','Close','ActualDirection']\n",
    "df_ensemble['RegModelOut'] = df_ensemble['RegModelOut'] > 0\n",
    "df_ensemble['RegModelOut_n1'] = df_ensemble['RegModelOut'].shift(1)\n",
    "df_ensemble['ClfModelOut_n1'] = df_ensemble['ClfModelOut'].shift(1)\n",
    "df_ensemble['RegModelOut_n2'] = df_ensemble['RegModelOut'].shift(2)\n",
    "df_ensemble['ClfModelOut_n2'] = df_ensemble['ClfModelOut'].shift(2)\n",
    "\n",
    "df_ensemble = df_ensemble.dropna(subset=['ClfModelOut_n2'])\n",
    "df_ensemble['ClfModelOut_tf'] = df_ensemble['ClfModelOut'] > 0.5\n",
    "df_ensemble.groupby(['RegModelOut','ClfModelOut_tf'])['ActualDirection'].mean()"
   ]
  },
  {
   "cell_type": "code",
   "execution_count": 53,
   "metadata": {},
   "outputs": [
    {
     "data": {
      "text/plain": [
       "RegModelOut  ClfModelOut_tf\n",
       "True         True              0.440461\n",
       "False        False             0.372599\n",
       "             True              0.106274\n",
       "True         False             0.080666\n",
       "dtype: float64"
      ]
     },
     "execution_count": 53,
     "metadata": {},
     "output_type": "execute_result"
    }
   ],
   "source": [
    "df_ensemble[['RegModelOut','ClfModelOut_tf']].value_counts(normalize=True)"
   ]
  },
  {
   "cell_type": "code",
   "execution_count": 54,
   "metadata": {},
   "outputs": [
    {
     "data": {
      "text/plain": [
       "0.5217948717948718"
      ]
     },
     "execution_count": 54,
     "metadata": {},
     "output_type": "execute_result"
    }
   ],
   "source": [
    "df_ensemble['ActualDirection'].mean()"
   ]
  },
  {
   "cell_type": "code",
   "execution_count": 55,
   "metadata": {},
   "outputs": [
    {
     "data": {
      "text/plain": [
       "781"
      ]
     },
     "execution_count": 55,
     "metadata": {},
     "output_type": "execute_result"
    }
   ],
   "source": [
    "len(df_ensemble)"
   ]
  },
  {
   "cell_type": "markdown",
   "metadata": {},
   "source": [
    "# Ensemble the things\n",
    "Given the performance of these 2 separate models, their combined performance should also (theoretically) be similar. However, looks like more work is going to be needed to improve this model, as its scores did not beat either of the 2 model scores."
   ]
  },
  {
   "cell_type": "code",
   "execution_count": 56,
   "metadata": {},
   "outputs": [],
   "source": [
    "df_ensemble['Target'] = df_ensemble['Target'].astype(bool)\n",
    "df_ensemble['RegModelOut_n1'] = df_ensemble['RegModelOut_n1'].astype(float)\n",
    "df_ensemble['RegModelOut_n2'] = df_ensemble['RegModelOut_n2'].astype(float)"
   ]
  },
  {
   "cell_type": "code",
   "execution_count": 57,
   "metadata": {},
   "outputs": [
    {
     "name": "stderr",
     "output_type": "stream",
     "text": [
      "  0%|          | 0/681 [00:00<?, ?it/s]\n"
     ]
    },
    {
     "ename": "ValueError",
     "evalue": "DataFrame.dtypes for data must be int, float, bool or category. When categorical type is supplied, The experimental DMatrix parameter`enable_categorical` must be set to `True`.  Invalid columns:ActualDirection: object",
     "output_type": "error",
     "traceback": [
      "\u001b[1;31m---------------------------------------------------------------------------\u001b[0m",
      "\u001b[1;31mValueError\u001b[0m                                Traceback (most recent call last)",
      "\u001b[1;32md:\\Projects\\gameday_spx\\model_dev_lr.ipynb Cell 66\u001b[0m in \u001b[0;36m<cell line: 1>\u001b[1;34m()\u001b[0m\n\u001b[1;32m----> <a href='vscode-notebook-cell:/d%3A/Projects/gameday_spx/model_dev_lr.ipynb#Y115sZmlsZQ%3D%3D?line=0'>1</a>\u001b[0m res2, model2 \u001b[39m=\u001b[39m walk_forward_validation_clf2(df_ensemble, \u001b[39m'\u001b[39;49m\u001b[39mTarget\u001b[39;49m\u001b[39m'\u001b[39;49m, \u001b[39m100\u001b[39;49m, \u001b[39m1\u001b[39;49m)\n",
      "\u001b[1;32md:\\Projects\\gameday_spx\\model_dev_lr.ipynb Cell 66\u001b[0m in \u001b[0;36mwalk_forward_validation_clf2\u001b[1;34m(df, target_column, num_training_rows, num_periods)\u001b[0m\n\u001b[0;32m     <a href='vscode-notebook-cell:/d%3A/Projects/gameday_spx/model_dev_lr.ipynb#Y115sZmlsZQ%3D%3D?line=76'>77</a>\u001b[0m y_test \u001b[39m=\u001b[39m df[target_column]\u001b[39m.\u001b[39miloc[i:i\u001b[39m+\u001b[39mnum_periods]\n\u001b[0;32m     <a href='vscode-notebook-cell:/d%3A/Projects/gameday_spx/model_dev_lr.ipynb#Y115sZmlsZQ%3D%3D?line=78'>79</a>\u001b[0m \u001b[39m# Fit the model to the training data\u001b[39;00m\n\u001b[1;32m---> <a href='vscode-notebook-cell:/d%3A/Projects/gameday_spx/model_dev_lr.ipynb#Y115sZmlsZQ%3D%3D?line=79'>80</a>\u001b[0m model\u001b[39m.\u001b[39;49mfit(X_train, y_train)\n\u001b[0;32m     <a href='vscode-notebook-cell:/d%3A/Projects/gameday_spx/model_dev_lr.ipynb#Y115sZmlsZQ%3D%3D?line=81'>82</a>\u001b[0m \u001b[39m# Make a prediction on the test data\u001b[39;00m\n\u001b[0;32m     <a href='vscode-notebook-cell:/d%3A/Projects/gameday_spx/model_dev_lr.ipynb#Y115sZmlsZQ%3D%3D?line=82'>83</a>\u001b[0m predictions \u001b[39m=\u001b[39m model\u001b[39m.\u001b[39mpredict_proba(X_test)[:,\u001b[39m-\u001b[39m\u001b[39m1\u001b[39m]\n",
      "File \u001b[1;32mc:\\Users\\WINSTON-ITX\\anaconda3\\envs\\py39\\lib\\site-packages\\xgboost\\core.py:620\u001b[0m, in \u001b[0;36mrequire_keyword_args.<locals>.throw_if.<locals>.inner_f\u001b[1;34m(*args, **kwargs)\u001b[0m\n\u001b[0;32m    618\u001b[0m \u001b[39mfor\u001b[39;00m k, arg \u001b[39min\u001b[39;00m \u001b[39mzip\u001b[39m(sig\u001b[39m.\u001b[39mparameters, args):\n\u001b[0;32m    619\u001b[0m     kwargs[k] \u001b[39m=\u001b[39m arg\n\u001b[1;32m--> 620\u001b[0m \u001b[39mreturn\u001b[39;00m func(\u001b[39m*\u001b[39m\u001b[39m*\u001b[39mkwargs)\n",
      "File \u001b[1;32mc:\\Users\\WINSTON-ITX\\anaconda3\\envs\\py39\\lib\\site-packages\\xgboost\\sklearn.py:1471\u001b[0m, in \u001b[0;36mXGBClassifier.fit\u001b[1;34m(self, X, y, sample_weight, base_margin, eval_set, eval_metric, early_stopping_rounds, verbose, xgb_model, sample_weight_eval_set, base_margin_eval_set, feature_weights, callbacks)\u001b[0m\n\u001b[0;32m   1460\u001b[0m     params[\u001b[39m\"\u001b[39m\u001b[39mnum_class\u001b[39m\u001b[39m\"\u001b[39m] \u001b[39m=\u001b[39m \u001b[39mself\u001b[39m\u001b[39m.\u001b[39mn_classes_\n\u001b[0;32m   1462\u001b[0m (\n\u001b[0;32m   1463\u001b[0m     model,\n\u001b[0;32m   1464\u001b[0m     metric,\n\u001b[1;32m   (...)\u001b[0m\n\u001b[0;32m   1469\u001b[0m     xgb_model, eval_metric, params, early_stopping_rounds, callbacks\n\u001b[0;32m   1470\u001b[0m )\n\u001b[1;32m-> 1471\u001b[0m train_dmatrix, evals \u001b[39m=\u001b[39m _wrap_evaluation_matrices(\n\u001b[0;32m   1472\u001b[0m     missing\u001b[39m=\u001b[39;49m\u001b[39mself\u001b[39;49m\u001b[39m.\u001b[39;49mmissing,\n\u001b[0;32m   1473\u001b[0m     X\u001b[39m=\u001b[39;49mX,\n\u001b[0;32m   1474\u001b[0m     y\u001b[39m=\u001b[39;49my,\n\u001b[0;32m   1475\u001b[0m     group\u001b[39m=\u001b[39;49m\u001b[39mNone\u001b[39;49;00m,\n\u001b[0;32m   1476\u001b[0m     qid\u001b[39m=\u001b[39;49m\u001b[39mNone\u001b[39;49;00m,\n\u001b[0;32m   1477\u001b[0m     sample_weight\u001b[39m=\u001b[39;49msample_weight,\n\u001b[0;32m   1478\u001b[0m     base_margin\u001b[39m=\u001b[39;49mbase_margin,\n\u001b[0;32m   1479\u001b[0m     feature_weights\u001b[39m=\u001b[39;49mfeature_weights,\n\u001b[0;32m   1480\u001b[0m     eval_set\u001b[39m=\u001b[39;49meval_set,\n\u001b[0;32m   1481\u001b[0m     sample_weight_eval_set\u001b[39m=\u001b[39;49msample_weight_eval_set,\n\u001b[0;32m   1482\u001b[0m     base_margin_eval_set\u001b[39m=\u001b[39;49mbase_margin_eval_set,\n\u001b[0;32m   1483\u001b[0m     eval_group\u001b[39m=\u001b[39;49m\u001b[39mNone\u001b[39;49;00m,\n\u001b[0;32m   1484\u001b[0m     eval_qid\u001b[39m=\u001b[39;49m\u001b[39mNone\u001b[39;49;00m,\n\u001b[0;32m   1485\u001b[0m     create_dmatrix\u001b[39m=\u001b[39;49m\u001b[39mself\u001b[39;49m\u001b[39m.\u001b[39;49m_create_dmatrix,\n\u001b[0;32m   1486\u001b[0m     enable_categorical\u001b[39m=\u001b[39;49m\u001b[39mself\u001b[39;49m\u001b[39m.\u001b[39;49menable_categorical,\n\u001b[0;32m   1487\u001b[0m     feature_types\u001b[39m=\u001b[39;49m\u001b[39mself\u001b[39;49m\u001b[39m.\u001b[39;49mfeature_types,\n\u001b[0;32m   1488\u001b[0m )\n\u001b[0;32m   1490\u001b[0m \u001b[39mself\u001b[39m\u001b[39m.\u001b[39m_Booster \u001b[39m=\u001b[39m train(\n\u001b[0;32m   1491\u001b[0m     params,\n\u001b[0;32m   1492\u001b[0m     train_dmatrix,\n\u001b[1;32m   (...)\u001b[0m\n\u001b[0;32m   1501\u001b[0m     callbacks\u001b[39m=\u001b[39mcallbacks,\n\u001b[0;32m   1502\u001b[0m )\n\u001b[0;32m   1504\u001b[0m \u001b[39mif\u001b[39;00m \u001b[39mnot\u001b[39;00m \u001b[39mcallable\u001b[39m(\u001b[39mself\u001b[39m\u001b[39m.\u001b[39mobjective):\n",
      "File \u001b[1;32mc:\\Users\\WINSTON-ITX\\anaconda3\\envs\\py39\\lib\\site-packages\\xgboost\\sklearn.py:448\u001b[0m, in \u001b[0;36m_wrap_evaluation_matrices\u001b[1;34m(missing, X, y, group, qid, sample_weight, base_margin, feature_weights, eval_set, sample_weight_eval_set, base_margin_eval_set, eval_group, eval_qid, create_dmatrix, enable_categorical, feature_types)\u001b[0m\n\u001b[0;32m    428\u001b[0m \u001b[39mdef\u001b[39;00m \u001b[39m_wrap_evaluation_matrices\u001b[39m(\n\u001b[0;32m    429\u001b[0m     missing: \u001b[39mfloat\u001b[39m,\n\u001b[0;32m    430\u001b[0m     X: Any,\n\u001b[1;32m   (...)\u001b[0m\n\u001b[0;32m    444\u001b[0m     feature_types: Optional[FeatureTypes],\n\u001b[0;32m    445\u001b[0m ) \u001b[39m-\u001b[39m\u001b[39m>\u001b[39m Tuple[Any, List[Tuple[Any, \u001b[39mstr\u001b[39m]]]:\n\u001b[0;32m    446\u001b[0m \u001b[39m    \u001b[39m\u001b[39m\"\"\"Convert array_like evaluation matrices into DMatrix.  Perform validation on the\u001b[39;00m\n\u001b[0;32m    447\u001b[0m \u001b[39m    way.\"\"\"\u001b[39;00m\n\u001b[1;32m--> 448\u001b[0m     train_dmatrix \u001b[39m=\u001b[39m create_dmatrix(\n\u001b[0;32m    449\u001b[0m         data\u001b[39m=\u001b[39;49mX,\n\u001b[0;32m    450\u001b[0m         label\u001b[39m=\u001b[39;49my,\n\u001b[0;32m    451\u001b[0m         group\u001b[39m=\u001b[39;49mgroup,\n\u001b[0;32m    452\u001b[0m         qid\u001b[39m=\u001b[39;49mqid,\n\u001b[0;32m    453\u001b[0m         weight\u001b[39m=\u001b[39;49msample_weight,\n\u001b[0;32m    454\u001b[0m         base_margin\u001b[39m=\u001b[39;49mbase_margin,\n\u001b[0;32m    455\u001b[0m         feature_weights\u001b[39m=\u001b[39;49mfeature_weights,\n\u001b[0;32m    456\u001b[0m         missing\u001b[39m=\u001b[39;49mmissing,\n\u001b[0;32m    457\u001b[0m         enable_categorical\u001b[39m=\u001b[39;49menable_categorical,\n\u001b[0;32m    458\u001b[0m         feature_types\u001b[39m=\u001b[39;49mfeature_types,\n\u001b[0;32m    459\u001b[0m         ref\u001b[39m=\u001b[39;49m\u001b[39mNone\u001b[39;49;00m,\n\u001b[0;32m    460\u001b[0m     )\n\u001b[0;32m    462\u001b[0m     n_validation \u001b[39m=\u001b[39m \u001b[39m0\u001b[39m \u001b[39mif\u001b[39;00m eval_set \u001b[39mis\u001b[39;00m \u001b[39mNone\u001b[39;00m \u001b[39melse\u001b[39;00m \u001b[39mlen\u001b[39m(eval_set)\n\u001b[0;32m    464\u001b[0m     \u001b[39mdef\u001b[39;00m \u001b[39mvalidate_or_none\u001b[39m(meta: Optional[Sequence], name: \u001b[39mstr\u001b[39m) \u001b[39m-\u001b[39m\u001b[39m>\u001b[39m Sequence:\n",
      "File \u001b[1;32mc:\\Users\\WINSTON-ITX\\anaconda3\\envs\\py39\\lib\\site-packages\\xgboost\\sklearn.py:908\u001b[0m, in \u001b[0;36mXGBModel._create_dmatrix\u001b[1;34m(self, ref, **kwargs)\u001b[0m\n\u001b[0;32m    906\u001b[0m     \u001b[39mexcept\u001b[39;00m \u001b[39mTypeError\u001b[39;00m:  \u001b[39m# `QuantileDMatrix` supports lesser types than DMatrix\u001b[39;00m\n\u001b[0;32m    907\u001b[0m         \u001b[39mpass\u001b[39;00m\n\u001b[1;32m--> 908\u001b[0m \u001b[39mreturn\u001b[39;00m DMatrix(\u001b[39m*\u001b[39m\u001b[39m*\u001b[39mkwargs, nthread\u001b[39m=\u001b[39m\u001b[39mself\u001b[39m\u001b[39m.\u001b[39mn_jobs)\n",
      "File \u001b[1;32mc:\\Users\\WINSTON-ITX\\anaconda3\\envs\\py39\\lib\\site-packages\\xgboost\\core.py:620\u001b[0m, in \u001b[0;36mrequire_keyword_args.<locals>.throw_if.<locals>.inner_f\u001b[1;34m(*args, **kwargs)\u001b[0m\n\u001b[0;32m    618\u001b[0m \u001b[39mfor\u001b[39;00m k, arg \u001b[39min\u001b[39;00m \u001b[39mzip\u001b[39m(sig\u001b[39m.\u001b[39mparameters, args):\n\u001b[0;32m    619\u001b[0m     kwargs[k] \u001b[39m=\u001b[39m arg\n\u001b[1;32m--> 620\u001b[0m \u001b[39mreturn\u001b[39;00m func(\u001b[39m*\u001b[39m\u001b[39m*\u001b[39mkwargs)\n",
      "File \u001b[1;32mc:\\Users\\WINSTON-ITX\\anaconda3\\envs\\py39\\lib\\site-packages\\xgboost\\core.py:743\u001b[0m, in \u001b[0;36mDMatrix.__init__\u001b[1;34m(self, data, label, weight, base_margin, missing, silent, feature_names, feature_types, nthread, group, qid, label_lower_bound, label_upper_bound, feature_weights, enable_categorical)\u001b[0m\n\u001b[0;32m    740\u001b[0m     \u001b[39massert\u001b[39;00m \u001b[39mself\u001b[39m\u001b[39m.\u001b[39mhandle \u001b[39mis\u001b[39;00m \u001b[39mnot\u001b[39;00m \u001b[39mNone\u001b[39;00m\n\u001b[0;32m    741\u001b[0m     \u001b[39mreturn\u001b[39;00m\n\u001b[1;32m--> 743\u001b[0m handle, feature_names, feature_types \u001b[39m=\u001b[39m dispatch_data_backend(\n\u001b[0;32m    744\u001b[0m     data,\n\u001b[0;32m    745\u001b[0m     missing\u001b[39m=\u001b[39;49m\u001b[39mself\u001b[39;49m\u001b[39m.\u001b[39;49mmissing,\n\u001b[0;32m    746\u001b[0m     threads\u001b[39m=\u001b[39;49m\u001b[39mself\u001b[39;49m\u001b[39m.\u001b[39;49mnthread,\n\u001b[0;32m    747\u001b[0m     feature_names\u001b[39m=\u001b[39;49mfeature_names,\n\u001b[0;32m    748\u001b[0m     feature_types\u001b[39m=\u001b[39;49mfeature_types,\n\u001b[0;32m    749\u001b[0m     enable_categorical\u001b[39m=\u001b[39;49menable_categorical,\n\u001b[0;32m    750\u001b[0m )\n\u001b[0;32m    751\u001b[0m \u001b[39massert\u001b[39;00m handle \u001b[39mis\u001b[39;00m \u001b[39mnot\u001b[39;00m \u001b[39mNone\u001b[39;00m\n\u001b[0;32m    752\u001b[0m \u001b[39mself\u001b[39m\u001b[39m.\u001b[39mhandle \u001b[39m=\u001b[39m handle\n",
      "File \u001b[1;32mc:\\Users\\WINSTON-ITX\\anaconda3\\envs\\py39\\lib\\site-packages\\xgboost\\data.py:970\u001b[0m, in \u001b[0;36mdispatch_data_backend\u001b[1;34m(data, missing, threads, feature_names, feature_types, enable_categorical)\u001b[0m\n\u001b[0;32m    968\u001b[0m     \u001b[39mreturn\u001b[39;00m _from_tuple(data, missing, threads, feature_names, feature_types)\n\u001b[0;32m    969\u001b[0m \u001b[39mif\u001b[39;00m _is_pandas_df(data):\n\u001b[1;32m--> 970\u001b[0m     \u001b[39mreturn\u001b[39;00m _from_pandas_df(data, enable_categorical, missing, threads,\n\u001b[0;32m    971\u001b[0m                            feature_names, feature_types)\n\u001b[0;32m    972\u001b[0m \u001b[39mif\u001b[39;00m _is_pandas_series(data):\n\u001b[0;32m    973\u001b[0m     \u001b[39mreturn\u001b[39;00m _from_pandas_series(\n\u001b[0;32m    974\u001b[0m         data, missing, threads, enable_categorical, feature_names, feature_types\n\u001b[0;32m    975\u001b[0m     )\n",
      "File \u001b[1;32mc:\\Users\\WINSTON-ITX\\anaconda3\\envs\\py39\\lib\\site-packages\\xgboost\\data.py:417\u001b[0m, in \u001b[0;36m_from_pandas_df\u001b[1;34m(data, enable_categorical, missing, nthread, feature_names, feature_types)\u001b[0m\n\u001b[0;32m    409\u001b[0m \u001b[39mdef\u001b[39;00m \u001b[39m_from_pandas_df\u001b[39m(\n\u001b[0;32m    410\u001b[0m     data: DataFrame,\n\u001b[0;32m    411\u001b[0m     enable_categorical: \u001b[39mbool\u001b[39m,\n\u001b[1;32m   (...)\u001b[0m\n\u001b[0;32m    415\u001b[0m     feature_types: Optional[FeatureTypes],\n\u001b[0;32m    416\u001b[0m ) \u001b[39m-\u001b[39m\u001b[39m>\u001b[39m DispatchedDataBackendReturnType:\n\u001b[1;32m--> 417\u001b[0m     data, feature_names, feature_types \u001b[39m=\u001b[39m _transform_pandas_df(\n\u001b[0;32m    418\u001b[0m         data, enable_categorical, feature_names, feature_types\n\u001b[0;32m    419\u001b[0m     )\n\u001b[0;32m    420\u001b[0m     \u001b[39mreturn\u001b[39;00m _from_numpy_array(data, missing, nthread, feature_names, feature_types)\n",
      "File \u001b[1;32mc:\\Users\\WINSTON-ITX\\anaconda3\\envs\\py39\\lib\\site-packages\\xgboost\\data.py:391\u001b[0m, in \u001b[0;36m_transform_pandas_df\u001b[1;34m(data, enable_categorical, feature_names, feature_types, meta, meta_type)\u001b[0m\n\u001b[0;32m    379\u001b[0m \u001b[39mfrom\u001b[39;00m \u001b[39mpandas\u001b[39;00m\u001b[39m.\u001b[39;00m\u001b[39mapi\u001b[39;00m\u001b[39m.\u001b[39;00m\u001b[39mtypes\u001b[39;00m \u001b[39mimport\u001b[39;00m (\n\u001b[0;32m    380\u001b[0m     is_sparse,\n\u001b[0;32m    381\u001b[0m     is_categorical_dtype,\n\u001b[0;32m    382\u001b[0m )\n\u001b[0;32m    384\u001b[0m \u001b[39mif\u001b[39;00m \u001b[39mnot\u001b[39;00m \u001b[39mall\u001b[39m(\n\u001b[0;32m    385\u001b[0m     dtype\u001b[39m.\u001b[39mname \u001b[39min\u001b[39;00m _pandas_dtype_mapper\n\u001b[0;32m    386\u001b[0m     \u001b[39mor\u001b[39;00m is_sparse(dtype)\n\u001b[1;32m   (...)\u001b[0m\n\u001b[0;32m    389\u001b[0m     \u001b[39mfor\u001b[39;00m dtype \u001b[39min\u001b[39;00m data\u001b[39m.\u001b[39mdtypes\n\u001b[0;32m    390\u001b[0m ):\n\u001b[1;32m--> 391\u001b[0m     _invalid_dataframe_dtype(data)\n\u001b[0;32m    393\u001b[0m feature_names, feature_types \u001b[39m=\u001b[39m _pandas_feature_info(\n\u001b[0;32m    394\u001b[0m     data, meta, feature_names, feature_types, enable_categorical\n\u001b[0;32m    395\u001b[0m )\n\u001b[0;32m    397\u001b[0m transformed \u001b[39m=\u001b[39m _pandas_cat_null(data)\n",
      "File \u001b[1;32mc:\\Users\\WINSTON-ITX\\anaconda3\\envs\\py39\\lib\\site-packages\\xgboost\\data.py:283\u001b[0m, in \u001b[0;36m_invalid_dataframe_dtype\u001b[1;34m(data)\u001b[0m\n\u001b[0;32m    281\u001b[0m type_err \u001b[39m=\u001b[39m \u001b[39m\"\u001b[39m\u001b[39mDataFrame.dtypes for data must be int, float, bool or category.\u001b[39m\u001b[39m\"\u001b[39m\n\u001b[0;32m    282\u001b[0m msg \u001b[39m=\u001b[39m \u001b[39mf\u001b[39m\u001b[39m\"\"\"\u001b[39m\u001b[39m{\u001b[39;00mtype_err\u001b[39m}\u001b[39;00m\u001b[39m \u001b[39m\u001b[39m{\u001b[39;00m_ENABLE_CAT_ERR\u001b[39m}\u001b[39;00m\u001b[39m \u001b[39m\u001b[39m{\u001b[39;00merr\u001b[39m}\u001b[39;00m\u001b[39m\"\"\"\u001b[39m\n\u001b[1;32m--> 283\u001b[0m \u001b[39mraise\u001b[39;00m \u001b[39mValueError\u001b[39;00m(msg)\n",
      "\u001b[1;31mValueError\u001b[0m: DataFrame.dtypes for data must be int, float, bool or category. When categorical type is supplied, The experimental DMatrix parameter`enable_categorical` must be set to `True`.  Invalid columns:ActualDirection: object"
     ]
    }
   ],
   "source": [
    "res2, model2 = walk_forward_validation_clf2(df_ensemble, 'Target', 100, 1)"
   ]
  },
  {
   "cell_type": "code",
   "execution_count": null,
   "metadata": {},
   "outputs": [],
   "source": [
    "print(roc_auc_score(res2['True'].astype(int), res2['Predicted'].values))\n",
    "print(precision_score(res2['True'].astype(int), res2['Predicted'] > 0.5))\n",
    "print(recall_score(res2['True'].astype(int), res2['Predicted'] > 0.5))"
   ]
  },
  {
   "cell_type": "code",
   "execution_count": null,
   "metadata": {},
   "outputs": [],
   "source": [
    "df_ensemble"
   ]
  },
  {
   "cell_type": "markdown",
   "metadata": {},
   "source": [
    "# Start App"
   ]
  },
  {
   "cell_type": "code",
   "execution_count": null,
   "metadata": {},
   "outputs": [],
   "source": [
    "!pip install streamlit"
   ]
  },
  {
   "cell_type": "code",
   "execution_count": null,
   "metadata": {},
   "outputs": [],
   "source": [
    "!streamlit hello"
   ]
  },
  {
   "cell_type": "code",
   "execution_count": null,
   "metadata": {},
   "outputs": [],
   "source": []
  }
 ],
 "metadata": {
  "kernelspec": {
   "display_name": "py39",
   "language": "python",
   "name": "python3"
  },
  "language_info": {
   "codemirror_mode": {
    "name": "ipython",
    "version": 3
   },
   "file_extension": ".py",
   "mimetype": "text/x-python",
   "name": "python",
   "nbconvert_exporter": "python",
   "pygments_lexer": "ipython3",
   "version": "3.9.12"
  },
  "orig_nbformat": 4
 },
 "nbformat": 4,
 "nbformat_minor": 2
}
